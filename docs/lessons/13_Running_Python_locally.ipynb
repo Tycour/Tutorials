{
  "nbformat": 4,
  "nbformat_minor": 0,
  "metadata": {
    "colab": {
      "name": "13 Running Python locally",
      "provenance": [],
      "collapsed_sections": [],
      "include_colab_link": true
    },
    "kernelspec": {
      "name": "python3",
      "display_name": "Python 3"
    }
  },
  "cells": [
    {
      "cell_type": "markdown",
      "metadata": {
        "id": "view-in-github",
        "colab_type": "text"
      },
      "source": [
        "<a href=\"https://colab.research.google.com/github/Tycour/crisanti-toolshed/blob/main/docs/lessons/13_Running_Python_locally.ipynb\" target=\"_parent\"><img src=\"https://colab.research.google.com/assets/colab-badge.svg\" alt=\"Open In Colab\"/></a>"
      ]
    },
    {
      "cell_type": "markdown",
      "metadata": {
        "id": "ZdueAKm1mfY7"
      },
      "source": [
        "## Running Python locally\n",
        "\n",
        "### Prerequisites:\n",
        "- Install VSCode - text/code editor: https://code.visualstudio.com/\n",
        "- Install miniconda (Python 3.7, 64bit): https://docs.conda.io/en/latest/miniconda.html\n",
        "- Create a working folder named `coding_club` on your computer. This is where you're going to store all the data and scripts.\n",
        "- Windows people - the new terminal: https://www.microsoft.com/en-gb/p/windows-terminal/9n0dx20hk701?rtc=1#activetab=pivot:overviewtab\n",
        "\n",
        "### Setting up VSCode\n",
        "- Install Python extension in VSCode\n",
        "- Write \"Hello world\" script and run it from VSCode\n",
        "\n",
        "### Setting up Conda\n",
        "Make sure you have conda installed - you can see that by `(base)` at the start of your command line.\n",
        "\n",
        "Type the following commands in your terminal:\n",
        "```\n",
        "conda config --add channels defaults\n",
        "conda config --add channels bioconda\n",
        "conda config --add channels conda-forge\n",
        "```\n",
        "This will add additional channels to conda and allow us to install bioinformatic and scientific Python packages and software.\n",
        "\n",
        "We are going to create a new fresh conda environment - packages installed in this conda environment are going to be isolated from the rest of the system and prevent different versions of packages clash together and cause havoc.\n",
        "\n",
        "```\n",
        "conda create -n coding-club\n",
        "```\n",
        "\n",
        "To activate this, for now empty, environment:\n",
        "\n",
        "```\n",
        "conda activate coding-club\n",
        "```\n",
        "\n",
        "`(base)` should now change to `(coding-club)`.\n",
        "\n",
        "Installing packages with conda is pretty straightforward:\n",
        "```\n",
        "conda install python=3.7\n",
        "conda install numpy\n",
        "conda install scipy\n",
        "conda install pandas\n",
        "conda install seaborn\n",
        "conda install jupyterlab\n",
        "```\n",
        "\n",
        "If everything went smoothly we installed all the packages needed. Now instead of using Colabratory in Google Drive, we can run our own Jupyter Notebook locally in a browser or in the VSCode.\n",
        "\n",
        "```\n",
        "jupyter lab\n",
        "```\n",
        "\n",
        "\n",
        "- Regex cheat sheet: https://i.pinimg.com/originals/16/33/8d/16338ddd8e8fdea52a50e6c6981451f3.png\n",
        "- https://code.visualstudio.com/shortcuts/keyboard-shortcuts-windows.pdf\n",
        "- https://code.visualstudio.com/shortcuts/keyboard-shortcuts-macos.pdf"
      ]
    },
    {
      "cell_type": "code",
      "metadata": {
        "id": "0AY1J4nYtI66"
      },
      "source": [
        ""
      ],
      "execution_count": null,
      "outputs": []
    }
  ]
}