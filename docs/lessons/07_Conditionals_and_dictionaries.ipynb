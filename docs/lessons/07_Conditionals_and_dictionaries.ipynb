{
  "nbformat": 4,
  "nbformat_minor": 0,
  "metadata": {
    "colab": {
      "name": "07 Conditionals and dictionaries",
      "provenance": [],
      "collapsed_sections": [],
      "toc_visible": true,
      "include_colab_link": true
    },
    "kernelspec": {
      "name": "python3",
      "display_name": "Python 3"
    }
  },
  "cells": [
    {
      "cell_type": "markdown",
      "metadata": {
        "id": "view-in-github",
        "colab_type": "text"
      },
      "source": [
        "<a href=\"https://colab.research.google.com/github/Tycour/crisanti-toolshed/blob/main/docs/lessons/07_Conditionals_and_dictionaries.ipynb\" target=\"_parent\"><img src=\"https://colab.research.google.com/assets/colab-badge.svg\" alt=\"Open In Colab\"/></a>"
      ]
    },
    {
      "cell_type": "markdown",
      "metadata": {
        "id": "Je1Qw769OE7h"
      },
      "source": [
        "Recording of the session: https://youtu.be/5ZjMPjONQFQ"
      ]
    },
    {
      "cell_type": "markdown",
      "metadata": {
        "id": "VGpEdCJ8IpmU"
      },
      "source": [
        "## Conditionals - revision"
      ]
    },
    {
      "cell_type": "code",
      "metadata": {
        "id": "1iH2D8uVIo3o",
        "colab": {
          "base_uri": "https://localhost:8080/",
          "height": 34
        },
        "outputId": "da4c936d-dd54-4888-cedd-a05d375025b2"
      },
      "source": [
        "'''\n",
        "- In a Python program, the if statement is how you perform this sort of decision-making. \n",
        "- It allows for conditional execution of a statement or group of statements based on the value of an expression.\n",
        "- Implemented as 'if' expression in the code - below\n",
        "\n",
        "if <expression>:\n",
        "    <statement/body>\n",
        "\n",
        "- If <expr> is true (evaluates to a value that is “truthy”), then <statement> is executed. \n",
        "- If <expr> is false, then <statement> is skipped over and not executed.\n",
        "\n",
        "- Sometimes, you want to evaluate a condition and take one path if it is true but specify an alternative path if it is not. \n",
        "- This is accomplished with an else clause:\n",
        "\n",
        "if <expression>:\n",
        "    <statement>\n",
        "else:\n",
        "    <alternative statement>\n",
        "\n",
        "- Sometimes we also want to evaluate an alternative condition explicitly - we can use elif clause.\n",
        "\n",
        "if <expression>:\n",
        "    <statement>\n",
        "elif <expression>:\n",
        "    <explicit alternative statement>\n",
        "else:\n",
        "    <alternative statement>\n",
        "\n",
        "'''\n",
        "\n",
        "a = 7\n",
        "b = 10\n",
        "names = ['Mike', 'Lara', 'Mary', 'Joe', 'Frank']\n",
        "\n",
        "# if a < b:\n",
        "#     print(a, b)\n",
        "\n",
        "# bool - boolean and can be only 2 values - True or False\n",
        "\n",
        "# if - combination of conditions\n",
        "# if a == 8:\n",
        "#     print('a is 8')\n",
        "# elif a == 7:\n",
        "#     print('a is 7')\n",
        "# else:\n",
        "#     print('conditions are not met')\n",
        "\n",
        "if 'Mike' == names[0]:\n",
        "    print('Mike is the first one in the list')\n",
        "else:\n",
        "    print('THe first one in list is', names[0])\n",
        "\n",
        "# elif\n",
        "# else\n"
      ],
      "execution_count": null,
      "outputs": [
        {
          "output_type": "stream",
          "text": [
            "THe first one in list is Nace\n"
          ],
          "name": "stdout"
        }
      ]
    },
    {
      "cell_type": "code",
      "metadata": {
        "id": "_bBKamTFUlsI"
      },
      "source": [
        "# operators used in expression (> < = && ||)\n",
        "'''\n",
        "< - smaller than\n",
        "> - bigger than\n",
        "<= - smaller or equal than\n",
        ">= - bigger or equal than\n",
        "== - is equal\n",
        "!= - is not equal\n",
        "'''"
      ],
      "execution_count": null,
      "outputs": []
    },
    {
      "cell_type": "code",
      "metadata": {
        "id": "dzzwYoRgYAt1",
        "colab": {
          "base_uri": "https://localhost:8080/",
          "height": 51
        },
        "outputId": "61dfa049-0240-44cf-9389-55f6659b80b7"
      },
      "source": [
        "sentence = 'Popeye is a sailor man.'\n",
        "# .startswith() -> methods\n",
        "# .endswith()\n",
        "\n",
        "if sentence.startswith('Popeye'):\n",
        "    print('condition is true')\n",
        "\n",
        "\n",
        "names = ['Mike', 'Lara', 'Mary', 'Joe', 'Frank']\n",
        "\n",
        "if 'Dario' not in names:\n",
        "    # names.append('Dario')\n",
        "\n",
        "    # to insert an element to a specific position in a list we can use insert method\n",
        "    # the first argument is index in the list where we want to insert 'Dario' to\n",
        "    names.insert(2, 'Dario')\n",
        "\n",
        "else:\n",
        "    print('Dario is already in the list of names')\n",
        "\n",
        "print(names)"
      ],
      "execution_count": null,
      "outputs": [
        {
          "output_type": "stream",
          "text": [
            "condition is true\n",
            "['Mike', 'Lara', 'Dario', 'Mary', 'Joe', 'Frank']\n"
          ],
          "name": "stdout"
        }
      ]
    },
    {
      "cell_type": "markdown",
      "metadata": {
        "id": "VHmOhC6nYJUn"
      },
      "source": [
        "## Homework\n",
        "- Read sequences from file `_data/05_guide_sequences.txt`\n",
        "- For each sequence calculate GC content\n",
        "- Save only %GC content value to an empty list for sequences that are at least 20 bp long and have more than 40% GC content"
      ]
    },
    {
      "cell_type": "code",
      "metadata": {
        "id": "YsyWCdT6YMLs"
      },
      "source": [
        ""
      ],
      "execution_count": null,
      "outputs": []
    },
    {
      "cell_type": "markdown",
      "metadata": {
        "id": "vTT-b6aVz30s"
      },
      "source": [
        "## Collections: Dictionary, tuple, set, + list"
      ]
    },
    {
      "cell_type": "code",
      "metadata": {
        "id": "fl_AiELGz5T9",
        "colab": {
          "base_uri": "https://localhost:8080/",
          "height": 68
        },
        "outputId": "8dcd426c-cf78-41eb-9f01-d7ae931a2057"
      },
      "source": [
        "'''\n",
        "Dictionary\n",
        "    - A dictionary is a collection which is unordered, changeable and indexed. \n",
        "    - In Python dictionaries are written with curly brackets, and they have keys and values.\n",
        "    - Item: Key -> Value\n",
        "    - You can access the items of a dictionary by referring to its key name, inside square brackets:\n",
        "'''\n",
        "\n",
        "# list of names\n",
        "names = ['Mike', 'Lara', 'Mary', 'Joe', 'Frank']\n",
        "\n",
        "# dictionary\n",
        "person = {\n",
        "    'name': 'Mike',\n",
        "    'age': 25,\n",
        "    'height': 185.6,\n",
        "    'scientist': False,\n",
        "    'weight': 80,\n",
        "    'home': 'London',\n",
        "}\n",
        "\n",
        "# access property/key\n",
        "person['age']\n",
        "\n",
        "# if a key doesnt exist, we get a Key Error\n",
        "# person['birthday']\n",
        "\n",
        "print(person.values())\n",
        "print(person.keys())\n",
        "print(person.values())\n"
      ],
      "execution_count": null,
      "outputs": [
        {
          "output_type": "stream",
          "text": [
            "dict_values(['Mike', 25, 185.6, False, 80, 'London'])\n",
            "dict_keys(['name', 'age', 'height', 'scientist', 'weight', 'home'])\n",
            "dict_values(['Mike', 25, 185.6, False, 80, 'London'])\n"
          ],
          "name": "stdout"
        }
      ]
    },
    {
      "cell_type": "code",
      "metadata": {
        "id": "tDpKvr3gh5sf",
        "colab": {
          "base_uri": "https://localhost:8080/",
          "height": 119
        },
        "outputId": "bd6425cf-8f7a-4124-eaf0-09e71941db7d"
      },
      "source": [
        "# list of dictionaries - a way to store several dictionaries\n",
        "\n",
        "person_1 = {\n",
        "    'name': 'Mike',\n",
        "    'age': 25,\n",
        "    'height': 185.6,\n",
        "    'scientist': False,\n",
        "    'weight': 80,\n",
        "    'home': 'London'\n",
        "}\n",
        "\n",
        "person_2 = {\n",
        "    'name': 'Rachel',\n",
        "    'age': 23,\n",
        "    'height': 160.3,\n",
        "    'scientist': True,\n",
        "    'weight': 53,\n",
        "    'home': 'Manchester',\n",
        "}\n",
        "\n",
        "participants = [person_1, person_2]\n",
        "\n",
        "for i, person in enumerate(participants):\n",
        "    print('Participant no.', i)\n",
        "    print(person['name'], 'is from', person['home'], 'and they are', person['age'], 'years old.')\n",
        "    print('----')"
      ],
      "execution_count": null,
      "outputs": [
        {
          "output_type": "stream",
          "text": [
            "Participant no. 0\n",
            "Mike is from London and they are 25 years old.\n",
            "----\n",
            "Participant no. 1\n",
            "Rachel is from Manchester and they are 23 years old.\n",
            "----\n"
          ],
          "name": "stdout"
        }
      ]
    },
    {
      "cell_type": "code",
      "metadata": {
        "id": "JOkw1IzC2oYG",
        "colab": {
          "base_uri": "https://localhost:8080/",
          "height": 221
        },
        "outputId": "bcf89d95-7cde-4d5b-f52f-84a57f0fc264"
      },
      "source": [
        "# Loop over dict items\n",
        "# Dictionary item consists of a key (ie 'age') and a value (ie 25)\n",
        "for item in person_2.items():\n",
        "    \n",
        "    # Item returns a tuple of (key, value)\n",
        "    # We can extract an element form the tuple with indices\n",
        "    # key = item[0]\n",
        "    # value = item[1]\n",
        "\n",
        "    # or we can just save the elements to two variables separated by comma\n",
        "    key, value = item\n",
        "    print(key, value, item)\n",
        "\n",
        "# We can also extract key, value from a tuple directly in for loop\n",
        "for key, value in person_2.items():\n",
        "    print(key, value)"
      ],
      "execution_count": null,
      "outputs": [
        {
          "output_type": "stream",
          "text": [
            "name Rachel ('name', 'Rachel')\n",
            "age 23 ('age', 23)\n",
            "height 160.3 ('height', 160.3)\n",
            "scientist True ('scientist', True)\n",
            "weight 53 ('weight', 53)\n",
            "home Manchester ('home', 'Manchester')\n",
            "name Rachel\n",
            "age 23\n",
            "height 160.3\n",
            "scientist True\n",
            "weight 53\n",
            "home Manchester\n"
          ],
          "name": "stdout"
        }
      ]
    },
    {
      "cell_type": "code",
      "metadata": {
        "id": "HOfE_5m93uHh",
        "colab": {
          "base_uri": "https://localhost:8080/",
          "height": 102
        },
        "outputId": "ae17fc98-285c-4542-8cbc-370a855f937b"
      },
      "source": [
        "# tuple is also returned by function enumerate()\n",
        "# it consists of (index, element)\n",
        "for i, name in enumerate(names):\n",
        "    print(i, name)\n",
        "\n",
        "# Loop and check"
      ],
      "execution_count": null,
      "outputs": [
        {
          "output_type": "stream",
          "text": [
            "0 Mike\n",
            "1 Lara\n",
            "2 Mary\n",
            "3 Joe\n",
            "4 Frank\n"
          ],
          "name": "stdout"
        }
      ]
    },
    {
      "cell_type": "code",
      "metadata": {
        "id": "uTQCEADw3yh6"
      },
      "source": [
        "'''\n",
        "Tuples\n",
        "    - A tuple is a collection which is ordered and unchangeable. \n",
        "    - In Python tuples are written with round brackets.\n",
        "    - You can access tuple items by referring to the index number, inside square brackets\n",
        "'''\n",
        "\n",
        "person = ('Nace', 29, 'London')\n",
        "person[0]\n",
        "\n",
        "# assign\n",
        "person[0] = 'Joe' # returns error - cant change values of a tuple\n"
      ],
      "execution_count": null,
      "outputs": []
    },
    {
      "cell_type": "code",
      "metadata": {
        "id": "Cnh_kx4D6HRx",
        "colab": {
          "base_uri": "https://localhost:8080/",
          "height": 51
        },
        "outputId": "5a3f5c0b-725a-4cef-e89b-7aaf5198f636"
      },
      "source": [
        "'''\n",
        "Sets\n",
        "    - A set is a collection which is unordered and unindexed. \n",
        "    - In Python sets are written with curly brackets.\n",
        "    - Once a set is created, you cannot change its items, but you can add new items.\n",
        "    - You cannot access items in a set by referring to an index, since sets are unordered the items has no index.\n",
        "'''\n",
        "\n",
        "list_of_fruit_1 = ['apple', 'banana', 'pear', 'orange', 'apple', 'pear', 'orange']\n",
        "list_of_fruit_2 = ['apple', 'kiwi', 'carrot', 'pear', 'orange']\n",
        "\n",
        "# fruit = {'apple', 'banana', 'pear'}\n",
        "# we can transform list to a set (will contain only unique values)\n",
        "fruit_basket_1 = set(list_of_fruit_1)\n",
        "fruit_basket_2 = set(list_of_fruit_2)\n",
        "\n",
        "print(fruit_basket_1, fruit_basket_2)\n",
        "\n",
        "fruit_basket_1.intersection(fruit_basket_2)\n",
        "fruit_basket_1.union(fruit_basket_2)\n",
        "\n",
        "# .add() -> adds one element to a set\n",
        "# .update() -> adds several elements to a set .update(['fruit_1', 'fruit_2'])\n",
        "fruit_basket_1.update(['fruit_1', 'fruit_2'])\n",
        "\n",
        "# .remove() -> removes one element from a set\n",
        "# .discard() -> removes several elements from a set \n",
        "\n",
        "# issubset()\n",
        "# issuperset()\n",
        "# union()\n",
        "# intersection()"
      ],
      "execution_count": null,
      "outputs": [
        {
          "output_type": "stream",
          "text": [
            "{'banana', 'orange', 'apple', 'pear'} {'carrot', 'orange', 'pear', 'apple', 'kiwi'}\n"
          ],
          "name": "stdout"
        },
        {
          "output_type": "execute_result",
          "data": {
            "text/plain": [
              "{'a', 'apple', 'banana', 'f', 'orange', 'pear'}"
            ]
          },
          "metadata": {
            "tags": []
          },
          "execution_count": 80
        }
      ]
    },
    {
      "cell_type": "markdown",
      "metadata": {
        "id": "PYNT80Zv4aEd"
      },
      "source": [
        "## Homework\n",
        "Implement a codon table as `codon_table` that keeps a given trinucleotide as a key and its aminoacid as a value.\n",
        "\n",
        "1.   Write a cell that counts how many codons code each aminoacid\n",
        "2.   Write a function `translate(sequence, codon_table)` that returns aminoacid sequence for input `sequence`. Test your function with a coding sequence of your choice.\n"
      ]
    },
    {
      "cell_type": "code",
      "metadata": {
        "id": "zOBTbUmnuCXf"
      },
      "source": [
        ""
      ],
      "execution_count": null,
      "outputs": []
    }
  ]
}