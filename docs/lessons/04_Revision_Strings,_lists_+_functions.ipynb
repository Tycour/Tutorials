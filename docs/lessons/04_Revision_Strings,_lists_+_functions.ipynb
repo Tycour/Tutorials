{
  "nbformat": 4,
  "nbformat_minor": 0,
  "metadata": {
    "colab": {
      "name": "04 Revision - Strings, lists + functions",
      "provenance": [],
      "collapsed_sections": [],
      "include_colab_link": true
    },
    "kernelspec": {
      "name": "python3",
      "display_name": "Python 3"
    }
  },
  "cells": [
    {
      "cell_type": "markdown",
      "metadata": {
        "id": "view-in-github",
        "colab_type": "text"
      },
      "source": [
        "<a href=\"https://colab.research.google.com/github/Tycour/crisanti-toolshed/blob/main/docs/lessons/04_Revision_Strings%2C_lists_%2B_functions.ipynb\" target=\"_parent\"><img src=\"https://colab.research.google.com/assets/colab-badge.svg\" alt=\"Open In Colab\"/></a>"
      ]
    },
    {
      "cell_type": "markdown",
      "metadata": {
        "id": "4Wuk3UoTHfgv"
      },
      "source": [
        "## Strings"
      ]
    },
    {
      "cell_type": "code",
      "metadata": {
        "id": "DCH10KQDIDvS",
        "colab": {
          "base_uri": "https://localhost:8080/",
          "height": 119
        },
        "outputId": "973cfded-5eec-4a00-f6fe-8d8cd06cbb6e"
      },
      "source": [
        "'''\n",
        "----------------------\n",
        "Lesson 1 revision \n",
        "----------------------\n",
        "- variables are containers with values\n",
        "- we can assign arbitrary names to variables \n",
        "- variables can be overwritten\n",
        "- variables are so called objects but can be of different types\n",
        "- types: int, str, float\n",
        "- check variable type with type() function\n",
        "- we can't add int and str together\n",
        "- you can transform integer to string with str() function\n",
        "- you can transform string to integer with int() function\n",
        "'''\n",
        "\n",
        "# explain comments\n",
        "\n",
        "'''\n",
        "' - single quote\n",
        "\" - double quote\n",
        "{ - curly braces\n",
        "( - parentheses\n",
        "[ - square brackets\n",
        "'''\n",
        "\n",
        "# two integers\n",
        "a = 10\n",
        "b = 5\n",
        "\n",
        "# two strings\n",
        "x = '10'\n",
        "y = '5'\n",
        "\n",
        "print(a+b, x+y)\n",
        "\n",
        "print('this is a string') # single quote\n",
        "print(\"this is a string\") # double quote\n",
        "\n",
        "# string in a list of characters\n",
        "sequence = 'ACATGACATACAGAATTTACAGATGAGGGATAGC'\n",
        "sentence = 'All they could see was the blue water surrounding their sailboat.'\n",
        "\n",
        "# we can measure length of a string with len() function\n",
        "len(sentence)\n",
        "\n",
        "# count how many times a letter occurs - use .count() method\n",
        "sentence.count('surrounding') # -1 if it doesnt occur\n",
        "\n",
        "# find the first occurrence of a letter - .index() method\n",
        "sentence.index('surrounding')\n",
        "\n",
        "# replace characters - .replace(old, new) method\n",
        "sentence.replace('a', 'A')\n",
        "\n",
        "# we can create a substring from a string\n",
        "# ie. take only first 5 characters from the sentence\n",
        "print(sentence[:5])\n",
        "\n",
        "# we define the bounds like this -> sentence[start:end:step]\n",
        "sentence[40:20:-1] # characters from 20th to 40th position in reverse order\n",
        "\n",
        "# if we want to get only character on a specific position \n",
        "sentence[5] # -> char on position index\n",
        "\n",
        "# split the sentence into words - returns list (we can apply len, index,...)\n",
        "# we can split the string by any character defined in .split() method\n",
        "words = sentence.split(' ')\n",
        "print(words)\n",
        "\n",
        "# lists share a lot of similarities with strings\n",
        "# imagine strings being like a list of characters\n",
        "# we define listst with square brackets.\n",
        "names = ['Sarah', 'John', 'Fred', 'Kyros', 'Ignachos']\n",
        "\n",
        "# To access a given element in the list we can use indexing like in before with strings\n",
        "names[0] # -> Sarah\n",
        "names[:2] # -> first two elements\n",
        "names.index('Kyros') # -> position of an element with value 'Kyros'\n",
        "\n",
        "# other functions and methods can be used\n",
        "# len(), .count() etc."
      ],
      "execution_count": null,
      "outputs": [
        {
          "output_type": "stream",
          "text": [
            "15 105\n",
            "this is a string\n",
            "this is a string\n",
            "All t\n",
            "['All', 'they', 'could', 'see', 'was', 'the', 'blue', 'water', 'surrounding', 'their', 'sailboat.']\n"
          ],
          "name": "stdout"
        },
        {
          "output_type": "execute_result",
          "data": {
            "text/plain": [
              "3"
            ]
          },
          "metadata": {
            "tags": []
          },
          "execution_count": 13
        }
      ]
    },
    {
      "cell_type": "code",
      "metadata": {
        "id": "1tjI2LDMJdk0"
      },
      "source": [
        ""
      ],
      "execution_count": null,
      "outputs": []
    },
    {
      "cell_type": "markdown",
      "metadata": {
        "id": "JmnBbBhfbAOX"
      },
      "source": [
        "### Exercise - strings\n",
        "1. split the sentence into words\n",
        "2. combine \"blue\" and \"sailboat\" (no . at the end) into a variable `combined`\n",
        "3. print variable `combined` and its length "
      ]
    },
    {
      "cell_type": "code",
      "metadata": {
        "id": "UoVXyri8bXHk",
        "colab": {
          "base_uri": "https://localhost:8080/",
          "height": 51
        },
        "outputId": "2cd5e492-57a1-4cb7-c25e-1487553f6b5c"
      },
      "source": [
        "sentence = 'All they could see was the blue water surrounding their sailboat.'\n",
        "words = sentence.split(' ')\n",
        "print(words)\n",
        "print('blue'+ ' ' + 'sailboat')"
      ],
      "execution_count": null,
      "outputs": [
        {
          "output_type": "stream",
          "text": [
            "['All', 'they', 'could', 'see', 'was', 'the', 'blue', 'water', 'surrounding', 'their', 'sailboat.']\n",
            "blue sailboat\n"
          ],
          "name": "stdout"
        }
      ]
    },
    {
      "cell_type": "markdown",
      "metadata": {
        "id": "yf_L1d1jdFc7"
      },
      "source": [
        "## Homework\n",
        "\n",
        "You have two sequences: `seq_1` and `seq_2`. Your task is to calculate percentage of GC bases in each sequence.\n",
        "\n",
        "__Tip__: In your mind try to break down the task into steps. Write down the steps as comments, one step per line. Under each comment write the code. First solve `seq_1`, then `seq_2`.\n",
        "\n",
        "```\n",
        "# get the sequence length\n",
        "# assign the sequence length to a new variable\n",
        "# ...\n",
        "```\n"
      ]
    },
    {
      "cell_type": "code",
      "metadata": {
        "id": "wXtoduC9dIeB"
      },
      "source": [
        "seq_1 = 'TAGGGACATCGTCGTGAAAACTTCTTCTCCTTGTCAGTGTTGAGGAACTTTGCAATGTTTGAAACATGGTTGCTATAAGTTTGATAAAGCTACTGGGTTGG'\n",
        "seq_2 = 'AAAACCTTCATCCTTTATCAAATACTTGTGCACTACATCATACACACACCTATTGCCCTTCATTGGCCTCATTCATCAAGCGGCACGGTCCGGATGCTAATTCGTGACAAGATTCTCCTGCAAACACACATACACGTGATTGCGT'\n",
        "\n",
        "# %GC content\n",
        "\n"
      ],
      "execution_count": null,
      "outputs": []
    },
    {
      "cell_type": "markdown",
      "metadata": {
        "id": "8MR9se2oy1Ct"
      },
      "source": [
        "# Functions"
      ]
    },
    {
      "cell_type": "code",
      "metadata": {
        "id": "B4EBbhUiqhdQ",
        "colab": {
          "base_uri": "https://localhost:8080/",
          "height": 34
        },
        "outputId": "c46a2e42-b8cb-4c42-d8ad-b86c1c5a47d1"
      },
      "source": [
        "'''\n",
        "Lesson 3: Functions\n",
        "\n",
        "A function is a block of code which only runs when it is called.\n",
        "You can pass data, known as parameters, into a function.\n",
        "A function can return data as a result.\n",
        "\n",
        "To write a function we need to follow some rules.\n",
        "\n",
        "y = f(x)\n",
        "'''\n",
        "\n",
        "def simple():\n",
        "    # msdkad\n",
        "    a = 1\n",
        "    b = 'sd'\n",
        "    print('This is a simple function')\n",
        "\n",
        "simple()\n",
        "\n",
        "# call the function\n",
        "# simple()\n",
        "\n",
        "# - we start function definition with 'def' (keyword - reserved word in Python)\n",
        "# - we define function name - can be arbitrary, like a variable name\n",
        "# - in parentheses we define arguments/parameters\n",
        "# - body of the function needs to be indeted - tab\n",
        "# - we return a value with keyword 'return'"
      ],
      "execution_count": null,
      "outputs": [
        {
          "output_type": "stream",
          "text": [
            "This is a simple function\n"
          ],
          "name": "stdout"
        }
      ]
    },
    {
      "cell_type": "code",
      "metadata": {
        "id": "eat8M94d0Wi-"
      },
      "source": [
        "def multiply(num_1, num_2):\n",
        "    result = num_1 * num_2\n",
        "\n",
        "    return result\n",
        "\n",
        "# c = multiply(5, 6)\n",
        "# print('c is ', c)\n",
        "\n",
        "# c = multiply(3, 8)\n",
        "# print('c is', c)\n",
        "\n",
        "x = 12\n",
        "y = 10\n",
        "\n",
        "z = multiply(10, 20)\n",
        "\n",
        "# multiply(5, 6)\n",
        "# use variables to pass the values in the function\n",
        "# save to a variable\n",
        "# print vs return\n",
        "\n",
        "# scope of a function\n",
        "# plus eleven function\n",
        "\n",
        "# write a function that splits a sentence and returns the number of words\n",
        "# sentence = 'The random sentence generator generated a random sentence about a random sentence.'"
      ],
      "execution_count": null,
      "outputs": []
    },
    {
      "cell_type": "code",
      "metadata": {
        "id": "mOHFzrc_TuJT",
        "colab": {
          "base_uri": "https://localhost:8080/",
          "height": 34
        },
        "outputId": "c8c8a013-20c9-4180-b602-c36111ab7f2d"
      },
      "source": [
        "# ------------------------------------\n",
        "def sentence_splitter(s):\n",
        "    words = s.split(' ')\n",
        "\n",
        "    return len(words)\n",
        "# ------------------------------------\n",
        "\n",
        "sentence_splitter('The random sentence generator generated a random sentence about a random sentence.')"
      ],
      "execution_count": null,
      "outputs": [
        {
          "output_type": "execute_result",
          "data": {
            "text/plain": [
              "12"
            ]
          },
          "metadata": {
            "tags": []
          },
          "execution_count": 35
        }
      ]
    },
    {
      "cell_type": "code",
      "metadata": {
        "id": "WzHAq_QV0gKw",
        "colab": {
          "base_uri": "https://localhost:8080/",
          "height": 34
        },
        "outputId": "86b45109-e662-4922-dd2c-688482b34322"
      },
      "source": [
        "sequence = input('Whats your sequence')"
      ],
      "execution_count": null,
      "outputs": [
        {
          "output_type": "stream",
          "text": [
            "Whats your sequenceCGCTAC\n"
          ],
          "name": "stdout"
        }
      ]
    },
    {
      "cell_type": "code",
      "metadata": {
        "id": "AKqPUacGVrrb",
        "colab": {
          "base_uri": "https://localhost:8080/",
          "height": 34
        },
        "outputId": "1bb716a0-327e-417a-fa14-57c3d1f743ad"
      },
      "source": [
        "print(sequence)"
      ],
      "execution_count": null,
      "outputs": [
        {
          "output_type": "stream",
          "text": [
            "CGCTAC\n"
          ],
          "name": "stdout"
        }
      ]
    },
    {
      "cell_type": "code",
      "metadata": {
        "id": "V6AcoYKlVrui"
      },
      "source": [
        ""
      ],
      "execution_count": null,
      "outputs": []
    },
    {
      "cell_type": "markdown",
      "metadata": {
        "id": "vjy7Wfzo01Mi"
      },
      "source": [
        "### HOMEWORK\n",
        "\n",
        "Write a function called `calculate_GC(seq)` that will calculate %GC content of any given nucleotide sequence. Let `calculate_GC(seq)` return a float of GC percentage.\n"
      ]
    },
    {
      "cell_type": "code",
      "metadata": {
        "id": "YjsCZbwxPxrK",
        "colab": {
          "base_uri": "https://localhost:8080/",
          "height": 34
        },
        "outputId": "12efdd57-83f4-4a22-ae6c-f83a962b0afe"
      },
      "source": [
        "def multiply(a,b):\n",
        "  result = a * b\n",
        "  return result\n",
        "\n",
        "multiply(5,6)\n",
        "  "
      ],
      "execution_count": null,
      "outputs": [
        {
          "output_type": "execute_result",
          "data": {
            "text/plain": [
              "30"
            ]
          },
          "metadata": {
            "tags": []
          },
          "execution_count": 10
        }
      ]
    },
    {
      "cell_type": "code",
      "metadata": {
        "id": "QIRgU9nYQNlV",
        "colab": {
          "base_uri": "https://localhost:8080/",
          "height": 34
        },
        "outputId": "7ae7c031-bd2c-4673-a424-71f0ea533df5"
      },
      "source": [
        "def calculate_GC(seq):\n",
        "  result = ((seq.count('C') + seq.count('G')) / len(seq)) *100\n",
        "  return result\n",
        "\n",
        "calculate_GC('TAGGGACATCGTCGTGAAAACTTCTTCTCCTTGTCAGTGTTGAGGAACTTTGCAATGTTTGAAACATGGTTGCTATAAGTTTGATAAAGCTACTGGGTTGG')"
      ],
      "execution_count": null,
      "outputs": [
        {
          "output_type": "execute_result",
          "data": {
            "text/plain": [
              "40.5940594059406"
            ]
          },
          "metadata": {
            "tags": []
          },
          "execution_count": 2
        }
      ]
    },
    {
      "cell_type": "code",
      "metadata": {
        "id": "Sp0RwWkbRtmF",
        "colab": {
          "base_uri": "https://localhost:8080/",
          "height": 34
        },
        "outputId": "e5f695cc-ef9b-43cc-9963-6c0e23d413c8"
      },
      "source": [
        "def calculate_GC(seq):\n",
        "  result = ((seq.count('C') + seq.count('G')) / len(seq)) *100\n",
        "  return result\n",
        "\n",
        "calculate_GC('AAAACCTTCATCCTTTATCAAATACTTGTGCACTACATCATACACACACCTATTGCCCTTCATTGGCCTCATTCATCAAGCGGCACGGTCCGGATGCTAATTCGTGACAAGATTCTCCTGCAAACACACATACACGTGATTGCGT')  "
      ],
      "execution_count": null,
      "outputs": [
        {
          "output_type": "execute_result",
          "data": {
            "text/plain": [
              "44.13793103448276"
            ]
          },
          "metadata": {
            "tags": []
          },
          "execution_count": 17
        }
      ]
    }
  ]
}