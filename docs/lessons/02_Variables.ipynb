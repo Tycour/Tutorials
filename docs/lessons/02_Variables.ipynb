{
  "nbformat": 4,
  "nbformat_minor": 0,
  "metadata": {
    "kernelspec": {
      "display_name": "Python 3",
      "language": "python",
      "name": "python3"
    },
    "language_info": {
      "codemirror_mode": {
        "name": "ipython",
        "version": 3
      },
      "file_extension": ".py",
      "mimetype": "text/x-python",
      "name": "python",
      "nbconvert_exporter": "python",
      "pygments_lexer": "ipython3",
      "version": "3.7.6"
    },
    "colab": {
      "name": "02 Variables.ipynb",
      "provenance": [],
      "collapsed_sections": [],
      "include_colab_link": true
    }
  },
  "cells": [
    {
      "cell_type": "markdown",
      "metadata": {
        "id": "view-in-github",
        "colab_type": "text"
      },
      "source": [
        "<a href=\"https://colab.research.google.com/github/Tycour/crisanti-toolshed/blob/main/docs/lessons/02_Variables.ipynb\" target=\"_parent\"><img src=\"https://colab.research.google.com/assets/colab-badge.svg\" alt=\"Open In Colab\"/></a>"
      ]
    },
    {
      "cell_type": "markdown",
      "metadata": {
        "id": "pRxQYaGCuJNd"
      },
      "source": [
        "# Variables\n",
        "\n",
        "Think of a variable as a name attached to a particular object/container that is keeping a value. In Python, variables need not be declared or defined in advance, as is the case in many other programming languages. To create a variable, you just assign it a value and then start using it. Assignment is done with a single equals sign (=):"
      ]
    },
    {
      "cell_type": "code",
      "metadata": {
        "id": "p-xeKLQVuJNe"
      },
      "source": [
        "my_name = 'nicole'\n",
        "my_age = 25"
      ],
      "execution_count": null,
      "outputs": []
    },
    {
      "cell_type": "markdown",
      "metadata": {
        "id": "AEZpBpBbuJNi"
      },
      "source": [
        "This is read or interpreted as “`my_name` is assigned the value Nace.” Once this is done, `my_name` can be used in a statement or expression, and its value will be substituted:"
      ]
    },
    {
      "cell_type": "code",
      "metadata": {
        "id": "inHGDySYuJNj",
        "colab": {
          "base_uri": "https://localhost:8080/",
          "height": 51
        },
        "outputId": "6a0053c5-b808-47a5-92a2-5d19cea11aac"
      },
      "source": [
        "print(my_name)\n",
        "print(my_age)"
      ],
      "execution_count": null,
      "outputs": [
        {
          "output_type": "stream",
          "text": [
            "Nace\n",
            "29\n"
          ],
          "name": "stdout"
        }
      ]
    },
    {
      "cell_type": "markdown",
      "metadata": {
        "id": "C8pF3p1XuJNm"
      },
      "source": [
        "You can also combine several variables together in one print statement."
      ]
    },
    {
      "cell_type": "code",
      "metadata": {
        "id": "uSuV8QDmuJNn",
        "colab": {
          "base_uri": "https://localhost:8080/",
          "height": 34
        },
        "outputId": "cc987aa3-fec9-4310-e18e-bc9bf20766e2"
      },
      "source": [
        "print('My name is', my_name, 'and I am', my_age, 'years old')"
      ],
      "execution_count": null,
      "outputs": [
        {
          "output_type": "stream",
          "text": [
            "My name is Nace and I am 29 years old\n"
          ],
          "name": "stdout"
        }
      ]
    },
    {
      "cell_type": "markdown",
      "metadata": {
        "id": "aRm83xXhuJNp"
      },
      "source": [
        "### Variable names \n",
        "A variable can have a short name (like x and y) or a more descriptive name (age, carname, total_volume). Rules for Python variables:\n",
        "- A variable name must start with a letter or the underscore character\n",
        "- A variable name cannot start with a number\n",
        "- A variable name can only contain alpha-numeric characters and underscores (A-z, 0-9, and _ )\n",
        "- Variable names are case-sensitive (age, Age and AGE are three different variables)"
      ]
    },
    {
      "cell_type": "code",
      "metadata": {
        "jupyter": {
          "outputs_hidden": true
        },
        "id": "ntcMq7GyuJNq"
      },
      "source": [
        "# Legal variable names:\n",
        "myvar = \"John\"\n",
        "my_var = \"John\"\n",
        "_my_var = \"John\"\n",
        "myVar = \"John\"\n",
        "MYVAR = \"John\"\n",
        "myvar2 = \"John\"\n",
        "\n",
        "# Illegal variable names:\n",
        "2myvar = \"John\"\n",
        "my-var = \"John\"\n",
        "my var = \"John\""
      ],
      "execution_count": null,
      "outputs": []
    },
    {
      "cell_type": "markdown",
      "metadata": {
        "id": "xoxUwzzpuJNs"
      },
      "source": [
        "There are several styling options for variable names that are discussed endlessly among programmers. \n",
        "\n",
        "- __Camel Case__: Second and subsequent words are capitalized, to make word boundaries easier to see. (Presumably, it struck someone at some point that the capital letters strewn throughout the variable name vaguely resemble camel humps.)\n",
        "Example: `numberOfCollegeGraduates`\n",
        "- __Pascal Case__: Identical to Camel Case, except the first word is also capitalized.\n",
        "Example: `NumberOfCollegeGraduates`\n",
        "- __Snake Case__: Words are separated by underscores.\n",
        "Example: `number_of_college_graduates`\n",
        "\n",
        "Python Naming Conventions suggested standards for names of different object types and suggests the following:\n",
        "__Snake Case should be used for functions and variable names.__"
      ]
    },
    {
      "cell_type": "code",
      "metadata": {
        "id": "1W308HZlPRYA"
      },
      "source": [
        ""
      ],
      "execution_count": null,
      "outputs": []
    },
    {
      "cell_type": "markdown",
      "metadata": {
        "id": "PkWFG23NuJNt"
      },
      "source": [
        "### Variable types"
      ]
    },
    {
      "cell_type": "markdown",
      "metadata": {
        "id": "y8jhJ1WcuJNt"
      },
      "source": [
        "\n",
        "\n",
        "```\n",
        "`# This is formatted as code`\n",
        "```\n",
        "\n",
        "Variables `name` and `age` are both Python objects, but they can have different types depending on their values. We can check which type they are by using function ... wait for it ... `type()`! Surprising, huh?"
      ]
    },
    {
      "cell_type": "code",
      "metadata": {
        "id": "eiKZ1FwluJNu",
        "colab": {
          "base_uri": "https://localhost:8080/",
          "height": 34
        },
        "outputId": "b5ac74ab-23fb-404a-ba13-e7564632dac2"
      },
      "source": [
        "type(my_name)"
      ],
      "execution_count": null,
      "outputs": [
        {
          "output_type": "execute_result",
          "data": {
            "text/plain": [
              "str"
            ]
          },
          "metadata": {
            "tags": []
          },
          "execution_count": 8
        }
      ]
    },
    {
      "cell_type": "code",
      "metadata": {
        "id": "-qEg7x_buJNx",
        "colab": {
          "base_uri": "https://localhost:8080/",
          "height": 34
        },
        "outputId": "f4599f2f-ad22-44f9-98e5-f2aa59025aee"
      },
      "source": [
        "type(my_age)"
      ],
      "execution_count": null,
      "outputs": [
        {
          "output_type": "execute_result",
          "data": {
            "text/plain": [
              "int"
            ]
          },
          "metadata": {
            "tags": []
          },
          "execution_count": 9
        }
      ]
    },
    {
      "cell_type": "markdown",
      "metadata": {
        "id": "EDnjetdPuJN0"
      },
      "source": [
        "`str`stands for string and `int` stands for integer. We are going to discover different types of Python objects through this course.\n",
        "\n",
        "It is allowed to combine different variables of the same type together but you can not combine variables of different types. For example:"
      ]
    },
    {
      "cell_type": "code",
      "metadata": {
        "id": "rH6l9ug8uJN0",
        "outputId": "f83c9fa3-576e-4b74-e386-f651f09c98a0"
      },
      "source": [
        "a = 1\n",
        "b = 5\n",
        "\n",
        "a + b"
      ],
      "execution_count": null,
      "outputs": [
        {
          "output_type": "execute_result",
          "data": {
            "text/plain": [
              "6"
            ]
          },
          "metadata": {
            "tags": []
          },
          "execution_count": 13
        }
      ]
    },
    {
      "cell_type": "code",
      "metadata": {
        "id": "fm43PSmtxpUk"
      },
      "source": [
        "my_name = 'John' \n",
        "my_age = 42\n",
        "\n",
        "print(my_name + my_age)"
      ],
      "execution_count": null,
      "outputs": []
    },
    {
      "cell_type": "markdown",
      "metadata": {
        "id": "rdlZkY7j1sHA"
      },
      "source": [
        "That didn't go well. However, we can occasionally change variable types."
      ]
    },
    {
      "cell_type": "code",
      "metadata": {
        "id": "8g_6Kwd02Dvy",
        "colab": {
          "base_uri": "https://localhost:8080/",
          "height": 68
        },
        "outputId": "a67cf8e6-fcf7-48aa-bf40-360cfbf0945d"
      },
      "source": [
        "print(my_age, type(my_age))\n",
        "\n",
        "my_age = str(my_age)\n",
        "print(my_age, type(my_age))\n",
        "\n",
        "print(my_name + my_age)"
      ],
      "execution_count": null,
      "outputs": [
        {
          "output_type": "stream",
          "text": [
            "42 <class 'int'>\n",
            "42 <class 'str'>\n",
            "John42\n"
          ],
          "name": "stdout"
        }
      ]
    },
    {
      "cell_type": "markdown",
      "metadata": {
        "id": "mBoigrnluJN5"
      },
      "source": [
        "## Exercise\n",
        "The target of this exercise is to create a __string__, an __integer__, and a __floating point number__. The string should be named __mystring__ and should contain the word __\"hello\"__. The floating point number should be named __myfloat__ and should contain the number __10.0__, and the integer should be named __myint__ and should contain the number __20__.\n",
        "\n",
        "Print all defined variables in a single print statement."
      ]
    },
    {
      "cell_type": "code",
      "metadata": {
        "id": "NFnaKwhdyP-K"
      },
      "source": [
        ""
      ],
      "execution_count": null,
      "outputs": []
    },
    {
      "cell_type": "markdown",
      "metadata": {
        "id": "ChDHiK305Fea"
      },
      "source": [
        "## Strings\n",
        "If we have time, go through `len()`, `replace()`, substringing, `index()`"
      ]
    },
    {
      "cell_type": "code",
      "metadata": {
        "id": "8z5lOVP-RkHd"
      },
      "source": [
        ""
      ],
      "execution_count": null,
      "outputs": []
    },
    {
      "cell_type": "markdown",
      "metadata": {
        "id": "W2k_A7Bpz2WT"
      },
      "source": [
        "## Booleans\n",
        "In Python, you may define a value to be a bool (i.e. true or false), using the syntax:"
      ]
    },
    {
      "cell_type": "code",
      "metadata": {
        "id": "z8huXLse0I1e"
      },
      "source": [
        "bool_1 = True\n",
        "bool_2 = False"
      ],
      "execution_count": null,
      "outputs": []
    },
    {
      "cell_type": "markdown",
      "metadata": {
        "id": "akpJGs280MAI"
      },
      "source": [
        "In the future lectures when we're going to look at conditional statements we're going to come back to boolean variables. It's enough for now to remember that they exist and how to check their type."
      ]
    },
    {
      "cell_type": "code",
      "metadata": {
        "id": "wRhXG7DF5qqe"
      },
      "source": [
        ""
      ],
      "execution_count": null,
      "outputs": []
    }
  ]
}