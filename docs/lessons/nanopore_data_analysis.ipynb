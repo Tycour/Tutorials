{
  "nbformat": 4,
  "nbformat_minor": 0,
  "metadata": {
    "colab": {
      "name": "nanopore_data_analysis.ipynb",
      "provenance": [],
      "collapsed_sections": []
    },
    "kernelspec": {
      "name": "python3",
      "display_name": "Python 3"
    }
  },
  "cells": [
    {
      "cell_type": "markdown",
      "metadata": {
        "id": "bg7kHzscF6T8"
      },
      "source": [
        "# Locating Transgene Insertions: Tutorial\n",
        "\n",
        "Before starting this tutorial, you need to be familiar with using `conda` and installing packages in the terminal.\n",
        "\n",
        "This tutorial is meant to be run on your own laptop and inside your own terminal.\n",
        "\n",
        "If using Windows, you may need to install and use a Ubuntu/Linux Virtual Environment as many python packages do not support Windows OS.\n",
        "\n",
        "Conda packages to install:\n",
        "- filtlong\n",
        "- NanoPlot\n",
        "- minimap2\n"
      ]
    },
    {
      "cell_type": "markdown",
      "metadata": {
        "id": "l1UUr5cNGS7r"
      },
      "source": [
        "# 1. Preparing Files\n",
        "\n",
        "MinKNOW/Guppy outputs reads in `.fast5` and `.fastq` formats. The fastq files are the ones we are interested in at the moment.\n",
        "\n",
        "You can find these on the Lab's Linux in `/var/lib/MinKNOW/data/reads/`.\n",
        "\n",
        "For downstream applications, you will need to merge all the fastq files in the `fastq_pass` folder into one. You may also want to compress the resulting file to reduce the file's size."
      ]
    },
    {
      "cell_type": "code",
      "metadata": {
        "id": "xIdbNWANGSjG"
      },
      "source": [
        "cat *.fastq > lineName_pass.fastq"
      ],
      "execution_count": null,
      "outputs": []
    },
    {
      "cell_type": "code",
      "metadata": {
        "id": "anyktglBJ_IU"
      },
      "source": [
        "gzip lineName_pass.fastq > lineName.fastq.gz"
      ],
      "execution_count": null,
      "outputs": []
    },
    {
      "cell_type": "markdown",
      "metadata": {
        "id": "0bgriMGxc1Io"
      },
      "source": [
        "# 2. Generating Sequencing Statistics\n",
        "\n",
        "Review how much coverage you got to inform how stringent the filtering step should be.\n",
        "If you can see a spike of reads at 3.6kb, this might mean your library prep has failed."
      ]
    },
    {
      "cell_type": "code",
      "metadata": {
        "id": "DpYMlOEfc85S"
      },
      "source": [
        "NanoPlot --fastq lineName_pass.fastq.gz -o NanoPlot"
      ],
      "execution_count": null,
      "outputs": []
    },
    {
      "cell_type": "markdown",
      "metadata": {
        "id": "q07MgknQc9CJ"
      },
      "source": [
        "#3. Filtering Reads\n",
        "\n",
        "There are other options you can check out using `filtlong -h` that give you more control over filtering. However, this command should work roughly on any kind of data.\n",
        "\n",
        "You can optionally repeat the NanoPlot command at this step to check you have filtered correctly."
      ]
    },
    {
      "cell_type": "code",
      "metadata": {
        "id": "OLaZx524dHeh"
      },
      "source": [
        "filtlong --min_length 1000 --min_mean_q 75 lineName_pass.fastq.gz > lineName_filter.fastq.gz"
      ],
      "execution_count": null,
      "outputs": []
    },
    {
      "cell_type": "markdown",
      "metadata": {
        "id": "agMD_lELdHn7"
      },
      "source": [
        "# 4. Aligning Reads to Reference Genome\n",
        "\n",
        "Before this step, add an extra contig representing your contruct to the end of the genome reference fasta file. This is `AgamP4_lineName.fasta` in the following command."
      ]
    },
    {
      "cell_type": "code",
      "metadata": {
        "id": "uGa5V1UPdNOZ"
      },
      "source": [
        "minimap2 -a -o lineName_AgamP4_align.sam AgamP4_lineName.fasta lineName_filter.fastq.gz"
      ],
      "execution_count": null,
      "outputs": []
    },
    {
      "cell_type": "markdown",
      "metadata": {
        "id": "0jBQzSGFdNVb"
      },
      "source": [
        "# 5. Sorting & Indexing the Alignment\n",
        "\n",
        "This can be done directly inside IGV:\n",
        "- *Tools*\n",
        "- *Run igvtools...*\n",
        "- Command: *Sort*\n",
        "- Input File: *Browse*\n",
        "- *Run*\n",
        "\n",
        "This will create a `.sorted.sam` file in the same directory (you may delete the unsorted file to make space).\n",
        "\n",
        "For indexing, in the same igvtools window:\n",
        "- Command: *Index*\n",
        "- Input File: *Browse* (choose the sorted file now)\n",
        "- *Run*"
      ]
    },
    {
      "cell_type": "markdown",
      "metadata": {
        "id": "6hGDxtGydVYh"
      },
      "source": [
        "# 6. Visualising in IGV\n",
        "\n",
        "Load the genome reference with your contruct added on:\n",
        "- *Genomes*\n",
        "- *Load Genome from File*\n",
        "\n",
        "Load your sorted alignment file:\n",
        "- *File*\n",
        "- *Load from File*\n",
        "\n",
        "Go to the contig that represents your construct and click on reads that cover the end of the construct. If successful, these should reveal supplementary alignments in the genome which you can manually checkout!"
      ]
    }
  ]
}