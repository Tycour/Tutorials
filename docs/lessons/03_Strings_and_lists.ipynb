{
  "nbformat": 4,
  "nbformat_minor": 0,
  "metadata": {
    "colab": {
      "name": "03 Strings and lists",
      "provenance": [],
      "collapsed_sections": [],
      "include_colab_link": true
    },
    "kernelspec": {
      "name": "python3",
      "display_name": "Python 3"
    }
  },
  "cells": [
    {
      "cell_type": "markdown",
      "metadata": {
        "id": "view-in-github",
        "colab_type": "text"
      },
      "source": [
        "<a href=\"https://colab.research.google.com/github/Tycour/crisanti-toolshed/blob/main/docs/lessons/03_Strings_and_lists.ipynb\" target=\"_parent\"><img src=\"https://colab.research.google.com/assets/colab-badge.svg\" alt=\"Open In Colab\"/></a>"
      ]
    },
    {
      "cell_type": "markdown",
      "metadata": {
        "id": "4Wuk3UoTHfgv"
      },
      "source": [
        "## Strings"
      ]
    },
    {
      "cell_type": "code",
      "metadata": {
        "id": "RU_auxLdqX3B"
      },
      "source": [
        ""
      ],
      "execution_count": null,
      "outputs": []
    },
    {
      "cell_type": "code",
      "metadata": {
        "id": "DCH10KQDIDvS",
        "colab": {
          "base_uri": "https://localhost:8080/",
          "height": 68
        },
        "outputId": "7e2b2f72-73d6-47ad-92fc-c0c23eab6a37"
      },
      "source": [
        "'''\n",
        "----------------------\n",
        "Lesson 1 revision \n",
        "----------------------\n",
        "- variables are containers with values\n",
        "- we can assign arbitrary names to variables \n",
        "- variables can be overwritten\n",
        "- variables are so called objects but can be of different types\n",
        "- types: int, str, float\n",
        "- check variable type with type() function\n",
        "- we can't add int and str together\n",
        "- you can transform integer to string with str() function\n",
        "- you can transform string to integer with int() function\n",
        "\n",
        "------\n",
        "- Louise suggested to keep a shared dictionary with terms we're using.\n",
        "- Any other suggestions?\n",
        "----------------------\n",
        "'''\n",
        "\n",
        "# explain comments\n",
        "\n",
        "'''\n",
        "' - single quote\n",
        "\" - double quote\n",
        "{ - curly braces\n",
        "( - parentheses\n",
        "[ - square brackets\n",
        "'''\n",
        "\n",
        "# two integers\n",
        "a = 10\n",
        "b = 5\n",
        "\n",
        "# two strings\n",
        "x = '10'\n",
        "y = '5'\n",
        "\n",
        "print(a+b, x+y)\n",
        "\n",
        "print('this is a string') # single quote\n",
        "print(\"this is a string\") # double quote"
      ],
      "execution_count": null,
      "outputs": [
        {
          "output_type": "stream",
          "text": [
            "15 105\n",
            "this is a string\n",
            "this is a string\n"
          ],
          "name": "stdout"
        }
      ]
    },
    {
      "cell_type": "code",
      "metadata": {
        "id": "dJs5_CEIHd-z",
        "colab": {
          "base_uri": "https://localhost:8080/",
          "height": 51
        },
        "outputId": "2805fdaf-2755-4f9d-9c04-1f360e9377b9"
      },
      "source": [
        "sentence = 'All they could see was the blue water surrounding their sailboat.'\n",
        "\n",
        "# change characters to upper and lower case\n",
        "sentence.upper()\n",
        "sentence.lower()\n",
        "\n",
        "# .upper() -> methods\n",
        "# len() -> functions\n",
        "\n",
        "# how to get the length of the sentence\n",
        "len(sentence)\n",
        "\n",
        "# count how many times a letter occurs\n",
        "sentence.count('a')\n",
        "\n",
        "# find the first occurrence of a letter\n",
        "sentence.index('a')\n",
        "\n",
        "# replace characters\n",
        "sentence.replace('a', 'A')\n",
        "sentence.index('t')\n",
        "\n",
        "# index / 0-based counting\n",
        "sentence = 'All they could see was the blue water surrounding their sailboat.'\n",
        "print(sentence[40:20:-1])\n",
        "\n",
        "# subsetting strings, start, end, step\n",
        "# sentence[index] -> char on position index\n",
        "# sentence[start:end:step]\n",
        "\n",
        "# difference between methods and functions; len vs count\n",
        "\n",
        "# split the sentence into words - list (len, index,)\n",
        "# people = ['Drew', 'Ioanna', 'Kyros', 'Ana', 'Barbara']\n",
        "\n",
        "words = sentence.split(' ')\n",
        "print(words[3])"
      ],
      "execution_count": null,
      "outputs": [
        {
          "output_type": "stream",
          "text": [
            "rus retaw eulb eht s\n",
            "see\n"
          ],
          "name": "stdout"
        }
      ]
    },
    {
      "cell_type": "code",
      "metadata": {
        "id": "1tjI2LDMJdk0"
      },
      "source": [
        ""
      ],
      "execution_count": null,
      "outputs": []
    },
    {
      "cell_type": "markdown",
      "metadata": {
        "id": "JmnBbBhfbAOX"
      },
      "source": [
        "### Exercise - strings\n",
        "1. split the sentence into words\n",
        "2. combine \"blue\" and \"sailboat\" (no . at the end) into a variable `combined`\n",
        "3. print variable `combined` and its length "
      ]
    },
    {
      "cell_type": "code",
      "metadata": {
        "id": "UoVXyri8bXHk"
      },
      "source": [
        ""
      ],
      "execution_count": null,
      "outputs": []
    },
    {
      "cell_type": "code",
      "metadata": {
        "id": "rDai6Fbvo5qL"
      },
      "source": [
        ""
      ],
      "execution_count": null,
      "outputs": []
    },
    {
      "cell_type": "markdown",
      "metadata": {
        "id": "iaH3m_--Vb7r"
      },
      "source": [
        "## Homework\n",
        "\n",
        "You have two sequences: `seq_1` and `seq_2`. Your task is to calculate percentage of GC bases in each sequence.\n",
        "\n",
        "__Tip__: In your mind try to break down the task into steps. Write down the steps as comments, one step per line. Under each comment write the code. First solve `seq_1`, then `seq_2`.\n",
        "\n",
        "```\n",
        "# get the sequence length\n",
        "# assign the sequence length to a new variable\n",
        "# ...\n",
        "```\n"
      ]
    },
    {
      "cell_type": "markdown",
      "metadata": {
        "id": "d7hwAl8eQgGj"
      },
      "source": [
        "# New Section"
      ]
    },
    {
      "cell_type": "code",
      "metadata": {
        "id": "wXtoduC9dIeB"
      },
      "source": [
        "seq_1 = 'TAGGGACATCGTCGTGAAAACTTCTTCTCCTTGTCAGTGTTGAGGAACTTTGCAATGTTTGAAACATGGTTGCTATAAGTTTGATAAAGCTACTGGGTTGG'\n",
        "seq_2 = 'AAAACCTTCATCCTTTATCAAATACTTGTGCACTACATCATACACACACCTATTGCCCTTCATTGGCCTCATTCATCAAGCGGCACGGTCCGGATGCTAATTCGTGACAAGATTCTCCTGCAAACACACATACACGTGATTGCGT'\n",
        "\n",
        "# %GC content\n",
        "\n"
      ],
      "execution_count": null,
      "outputs": []
    },
    {
      "cell_type": "code",
      "metadata": {
        "id": "B4EBbhUiqhdQ"
      },
      "source": [
        ""
      ],
      "execution_count": null,
      "outputs": []
    }
  ]
}