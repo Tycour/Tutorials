{
  "nbformat": 4,
  "nbformat_minor": 0,
  "metadata": {
    "colab": {
      "name": "08 Revision",
      "provenance": [],
      "collapsed_sections": [],
      "include_colab_link": true
    },
    "kernelspec": {
      "name": "python3",
      "display_name": "Python 3"
    }
  },
  "cells": [
    {
      "cell_type": "markdown",
      "metadata": {
        "id": "view-in-github",
        "colab_type": "text"
      },
      "source": [
        "<a href=\"https://colab.research.google.com/github/Tycour/crisanti-toolshed/blob/main/docs/lessons/08_Revision.ipynb\" target=\"_parent\"><img src=\"https://colab.research.google.com/assets/colab-badge.svg\" alt=\"Open In Colab\"/></a>"
      ]
    },
    {
      "cell_type": "markdown",
      "metadata": {
        "id": "no9a8sCEU-9C"
      },
      "source": [
        "## Revision\n",
        "\n",
        "Part 1: https://youtu.be/WNUTs5XbRpE\n",
        "Part 2: https://youtu.be/KpxasfctWcU\n",
        "\n",
        "# Python\n",
        "## What happens when you run Python code?\n",
        "![Python execution](https://i1.wp.com/overiq.com/wp-content/uploads/2018/11/program-execution-by-compiler.png \"Python execution\")\n",
        "\n",
        "Compiler transforms Python code (high-level) into C code (low-level) and then into machine code that can be finally run on CPU.\n",
        "\n",
        "## What is code?\n",
        "Imagine code being a set of instructions that can be understood by the computer. For example - we have a nucleotide sequence of a gene and we want to translate it to amino acid sequence. We all know how to write the recipe for that program:\n",
        "\n",
        "1. Take the first 3 nucleotides of the DNA sequence (first codon)\n",
        "2. Change T->U (mRNA)\n",
        "3. Look up in the codon table which amino acid is coded by the codon\n",
        "4. Add the coded amino acid to the sequence\n",
        "5. Take the second codon from the sequence\n",
        "6. ....\n",
        "\n",
        "You can see that the same operation needs to be done for the whole nucleotide sequence, from the first codon to the last. If we did that by hand, one codon at the time, it would take us ages to get through a gene that is a few kb in size. This is where coding can come in handy.\n",
        "\n",
        "## Jupyter notebooks\n",
        "\n",
        "Jupyter notebooks is an open-source web-based interactive development  environment which runs in your browser. It allows a combination of text written in a html-like format, such as the block of text you're reading right now, and inline code, tools and outputs such as this one:\n",
        "\n"
      ]
    },
    {
      "cell_type": "code",
      "metadata": {
        "id": "T8JQYcCjVBwu",
        "colab": {
          "base_uri": "https://localhost:8080/",
          "height": 34
        },
        "outputId": "8beb01b6-7803-46d6-eac3-ba5d9bff7271"
      },
      "source": [
        "print('Hello Coding Club!')"
      ],
      "execution_count": null,
      "outputs": [
        {
          "output_type": "stream",
          "text": [
            "Hello Coding Club!\n"
          ],
          "name": "stdout"
        }
      ]
    },
    {
      "cell_type": "code",
      "metadata": {
        "id": "1N4DKToyjhWj"
      },
      "source": [
        "# some code "
      ],
      "execution_count": null,
      "outputs": []
    },
    {
      "cell_type": "code",
      "metadata": {
        "id": "nXkPT0lmVge4",
        "colab": {
          "base_uri": "https://localhost:8080/",
          "height": 34
        },
        "outputId": "f14b103e-fa2e-4af8-938f-7dfdfe07b480"
      },
      "source": [
        "print('Hello Coding Club! Nice to meet you!')"
      ],
      "execution_count": null,
      "outputs": [
        {
          "output_type": "stream",
          "text": [
            "Hello Coding Club! Nice to meet you!\n"
          ],
          "name": "stdout"
        }
      ]
    },
    {
      "cell_type": "markdown",
      "metadata": {
        "id": "KiD764YsWEz6"
      },
      "source": [
        "# Variables\n",
        "\n",
        "Think of a variable as a name attached to a particular object/container that is keeping a value. In Python, variables need not be declared or defined in advance, as is the case in many other programming languages. To create a variable, you just assign it a value and then start using it. Assignment is done with a single equals sign (=):"
      ]
    },
    {
      "cell_type": "code",
      "metadata": {
        "id": "9FUaSRhhWFqk"
      },
      "source": [
        "my_name = 'Nicole'\n",
        "my_age = 25"
      ],
      "execution_count": null,
      "outputs": []
    },
    {
      "cell_type": "code",
      "metadata": {
        "id": "S1E-kPb3WJFZ",
        "colab": {
          "base_uri": "https://localhost:8080/",
          "height": 51
        },
        "outputId": "0542324d-7db9-4419-e0fe-3dd411225d34"
      },
      "source": [
        "print(my_name)\n",
        "print(my_age)"
      ],
      "execution_count": null,
      "outputs": [
        {
          "output_type": "stream",
          "text": [
            "Nicole\n",
            "25\n"
          ],
          "name": "stdout"
        }
      ]
    },
    {
      "cell_type": "code",
      "metadata": {
        "id": "UgEyP8tVWLfN",
        "colab": {
          "base_uri": "https://localhost:8080/",
          "height": 34
        },
        "outputId": "fd39e480-2ad4-4e9a-ee0c-084ebc6488b4"
      },
      "source": [
        "print('My name is', my_name, 'and I am', my_age, 'years old')"
      ],
      "execution_count": null,
      "outputs": [
        {
          "output_type": "stream",
          "text": [
            "My name is Nicole and I am 25 years old\n"
          ],
          "name": "stdout"
        }
      ]
    },
    {
      "cell_type": "code",
      "metadata": {
        "id": "_Ov2FbuJWObp",
        "colab": {
          "base_uri": "https://localhost:8080/",
          "height": 130
        },
        "outputId": "132d26c9-e209-42ba-f0c3-174ed30dc9cb"
      },
      "source": [
        "# Legal variable names:\n",
        "myvar = \"John\"\n",
        "my_var = \"John\"\n",
        "_my_var = \"John\"\n",
        "myVar = \"John\"\n",
        "MYVAR = \"John\"\n",
        "myvar2 = \"John\"\n",
        "\n",
        "# Illegal variable names:\n",
        "myvar = \"John\"\n",
        "my-var = \"John\"\n",
        "my var = \"John\""
      ],
      "execution_count": null,
      "outputs": [
        {
          "output_type": "error",
          "ename": "SyntaxError",
          "evalue": "ignored",
          "traceback": [
            "\u001b[0;36m  File \u001b[0;32m\"<ipython-input-27-a97bcd8f425f>\"\u001b[0;36m, line \u001b[0;32m11\u001b[0m\n\u001b[0;31m    my var = \"John\"\u001b[0m\n\u001b[0m         ^\u001b[0m\n\u001b[0;31mSyntaxError\u001b[0m\u001b[0;31m:\u001b[0m invalid syntax\n"
          ]
        }
      ]
    },
    {
      "cell_type": "markdown",
      "metadata": {
        "id": "IthXZCTLWZa3"
      },
      "source": [
        "Variables `name` and `age` are both Python objects, but they can have different types depending on their values. We can check which type they are by using function ... wait for it ... `type()`! Surprising, huh?"
      ]
    },
    {
      "cell_type": "code",
      "metadata": {
        "id": "LzDeSteKWSbV",
        "colab": {
          "base_uri": "https://localhost:8080/",
          "height": 34
        },
        "outputId": "3c2ab994-41f6-4832-c3e2-6ee39e9fcf06"
      },
      "source": [
        "my_height = 180.8\n",
        "\n",
        "type(my_name), type(my_age), type(my_height)"
      ],
      "execution_count": null,
      "outputs": [
        {
          "output_type": "execute_result",
          "data": {
            "text/plain": [
              "(str, int, float)"
            ]
          },
          "metadata": {
            "tags": []
          },
          "execution_count": 28
        }
      ]
    },
    {
      "cell_type": "markdown",
      "metadata": {
        "id": "X0Vf95M7W0yy"
      },
      "source": [
        "We can concatenate strings together and/or add integers together but we can't mix variables with different types together."
      ]
    },
    {
      "cell_type": "code",
      "metadata": {
        "id": "DsnUEd7GWnqW",
        "colab": {
          "base_uri": "https://localhost:8080/",
          "height": 249
        },
        "outputId": "521a364b-b782-435b-a335-f9174dd97b9d"
      },
      "source": [
        "# two integers\n",
        "a = 10\n",
        "b = 5\n",
        "\n",
        "# two strings\n",
        "x = 'My age '\n",
        "y = '5'\n",
        "\n",
        "# print(a+b, x+y)\n",
        "\n",
        "print('this is a string') # single quote\n",
        "print(\"this is a string\") # double quote\n",
        "\n",
        "print(a, x)\n",
        "\n",
        "'''\n",
        "This is all\n",
        "Comment \n",
        "random_age = 10\n",
        "Section\n",
        "'''"
      ],
      "execution_count": null,
      "outputs": [
        {
          "output_type": "stream",
          "text": [
            "this is a string\n",
            "this is a string\n",
            "10 My age \n"
          ],
          "name": "stdout"
        },
        {
          "output_type": "error",
          "ename": "NameError",
          "evalue": "ignored",
          "traceback": [
            "\u001b[0;31m---------------------------------------------------------------------------\u001b[0m",
            "\u001b[0;31mNameError\u001b[0m                                 Traceback (most recent call last)",
            "\u001b[0;32m<ipython-input-32-2a7eeaa950fa>\u001b[0m in \u001b[0;36m<module>\u001b[0;34m()\u001b[0m\n\u001b[1;32m     20\u001b[0m '''\n\u001b[1;32m     21\u001b[0m \u001b[0;34m\u001b[0m\u001b[0m\n\u001b[0;32m---> 22\u001b[0;31m \u001b[0mprint\u001b[0m\u001b[0;34m(\u001b[0m\u001b[0mrandom_age\u001b[0m\u001b[0;34m)\u001b[0m\u001b[0;34m\u001b[0m\u001b[0;34m\u001b[0m\u001b[0m\n\u001b[0m",
            "\u001b[0;31mNameError\u001b[0m: name 'random_age' is not defined"
          ]
        }
      ]
    },
    {
      "cell_type": "code",
      "metadata": {
        "id": "LCM-n1BmXPlW",
        "colab": {
          "base_uri": "https://localhost:8080/",
          "height": 34
        },
        "outputId": "24d2a657-dedf-4d36-fb1b-f14eaf2bba8b"
      },
      "source": [
        "sentence = 'All they could see was the blue water surrounding their sailboat.'\n",
        "\n",
        "# change characters to upper and lower case\n",
        "# sentence.upper()\n",
        "# sentence.lower()\n",
        "\n",
        "# .upper() -> methods\n",
        "# len() -> functions\n",
        "\n",
        "# # how to get the length of the sentence\n",
        "# len(sentence)\n",
        "\n",
        "# # count how many times a letter occurs\n",
        "# sentence.count('a')\n",
        "\n",
        "# # find the first occurrence of a letter\n",
        "# sentence.index('a')\n",
        "\n",
        "# # replace characters\n",
        "sentence.replace('they', 'A')\n",
        "# sentence.index('t')"
      ],
      "execution_count": null,
      "outputs": [
        {
          "output_type": "execute_result",
          "data": {
            "text/plain": [
              "'All A could see was the blue water surrounding their sailboat.'"
            ]
          },
          "metadata": {
            "tags": []
          },
          "execution_count": 44
        }
      ]
    },
    {
      "cell_type": "code",
      "metadata": {
        "id": "KjCplfAdXVxe",
        "colab": {
          "base_uri": "https://localhost:8080/",
          "height": 34
        },
        "outputId": "abde0115-f8d2-4a41-8b1b-897b4ec5a8d6"
      },
      "source": [
        "# index / 0-based counting\n",
        "# print(sentence[0:10])\n",
        "\n",
        "# subsetting strings, start, end, step\n",
        "# sentence[index] -> char on position index\n",
        "# sentence[start:end:step]\n",
        "\n",
        "# difference between methods and functions; len vs count\n",
        "\n",
        "# split the sentence into words - list (len, index,)\n",
        "sentence = 'All they could see was the blue water surrounding their sailboat.'\n",
        "words = sentence.split(' ')\n",
        "# print(words[3])"
      ],
      "execution_count": null,
      "outputs": [
        {
          "output_type": "execute_result",
          "data": {
            "text/plain": [
              "list"
            ]
          },
          "metadata": {
            "tags": []
          },
          "execution_count": 59
        }
      ]
    },
    {
      "cell_type": "markdown",
      "metadata": {
        "id": "0e-1lAKSYe9x"
      },
      "source": [
        "## List"
      ]
    },
    {
      "cell_type": "code",
      "metadata": {
        "id": "TLz1Ix7hXv8R",
        "colab": {
          "base_uri": "https://localhost:8080/",
          "height": 34
        },
        "outputId": "6a38aaf6-e1c3-4217-a9bf-59d471823322"
      },
      "source": [
        "# Lists\n",
        "names = ['Mike', 'Lara', 'Mary', 'Joe', 'Frank'] \n",
        "\n",
        "# words is a list\n",
        "# words\n",
        "\n",
        "# length of a list\n",
        "len(names) # length\n",
        "# element of a list\n",
        "names[4] # 6th element\n",
        "\n",
        "# adding elements to a list\n",
        "# names.append('Rocco')\n",
        "\n",
        "names.insert(1, 'Rocco')\n",
        "print(names)"
      ],
      "execution_count": null,
      "outputs": [
        {
          "output_type": "stream",
          "text": [
            "['Mike', 'Rocco', 'Lara', 'Mary', 'Joe', 'Frank']\n"
          ],
          "name": "stdout"
        }
      ]
    },
    {
      "cell_type": "markdown",
      "metadata": {
        "id": "1R4RWux0X-Vw"
      },
      "source": [
        "Exercise - calculate % GC content in a string"
      ]
    },
    {
      "cell_type": "code",
      "metadata": {
        "id": "TT2Htu94X707",
        "colab": {
          "base_uri": "https://localhost:8080/",
          "height": 34
        },
        "outputId": "a87e1fde-801b-452e-961d-18d163d32f29"
      },
      "source": [
        "seq_1 = 'TAGGGACATCGTCGTGAAAACTTCTTCTCCTTGTCAGTGTTGAGGAACTTTGCAATGTTTGAAACATGGTTGCTATAAGTTTGATAAAGCTACTGGGTTGG'\n",
        "GC = ((seq_1.count('G') + seq_1.count('C'))/len(seq_1)) * 100\n",
        "print(GC,'%')"
      ],
      "execution_count": null,
      "outputs": [
        {
          "output_type": "stream",
          "text": [
            "40.5940594059406 %\n"
          ],
          "name": "stdout"
        }
      ]
    },
    {
      "cell_type": "markdown",
      "metadata": {
        "id": "doM5Hr1TYW87"
      },
      "source": [
        "## Dictionary"
      ]
    },
    {
      "cell_type": "code",
      "metadata": {
        "id": "A-ysu15yYLOP",
        "colab": {
          "base_uri": "https://localhost:8080/",
          "height": 34
        },
        "outputId": "e60d3d7a-2b16-4d79-a307-69371a143d59"
      },
      "source": [
        "'''\n",
        "Dictionary\n",
        "    - A dictionary is a collection which is unordered, changeable and indexed. \n",
        "    - In Python dictionaries are written with curly brackets, and they have keys and values.\n",
        "    - Item: Key -> Value\n",
        "    - You can access the items of a dictionary by referring to its key name, inside square brackets:\n",
        "'''\n",
        "\n",
        "# dictionary\n",
        "person = {\n",
        "    'name': 'Mike',\n",
        "    'age': 25,\n",
        "    'height': 185.6,\n",
        "    'scientist': False,\n",
        "    'birthday': '05/10/1995',\n",
        "    'weight': 80,\n",
        "    'home': 'London',\n",
        "    'pet_name': 'Doggo'\n",
        "}\n",
        "\n",
        "# access property/key\n",
        "# person['age']\n",
        "\n",
        "# if a key doesnt exist, we get a Key Error\n",
        "# person['birthday']\n",
        "\n",
        "# print(person.keys())\n",
        "# print(person.values())\n",
        "\n",
        "person_1_items = person.items()\n",
        "print(person_1_items)"
      ],
      "execution_count": null,
      "outputs": [
        {
          "output_type": "stream",
          "text": [
            "dict_items([('name', 'Mike'), ('age', 25), ('height', 185.6), ('scientist', False), ('birthday', '05/10/1995'), ('weight', 80), ('home', 'London'), ('pet_name', 'Doggo')])\n"
          ],
          "name": "stdout"
        }
      ]
    },
    {
      "cell_type": "markdown",
      "metadata": {
        "id": "hlpGlP5TYp_k"
      },
      "source": [
        "## Tuple, set"
      ]
    },
    {
      "cell_type": "code",
      "metadata": {
        "id": "bmopOmsIYr1v",
        "colab": {
          "base_uri": "https://localhost:8080/",
          "height": 34
        },
        "outputId": "bb571f9c-f79a-453a-ff4f-6aa117fe3df4"
      },
      "source": [
        "'''\n",
        "Tuples\n",
        "    - A tuple is a collection which is ordered and unchangeable. \n",
        "    - In Python tuples are written with round brackets.\n",
        "    - You can access tuple items by referring to the index number, inside square brackets\n",
        "'''\n",
        "\n",
        "person = ('Frank', 29, 'London')\n",
        "person[0]\n",
        "\n",
        "# assign\n",
        "# person[0] = 'Joe' # returns error - cant change values of a tuple\n"
      ],
      "execution_count": null,
      "outputs": [
        {
          "output_type": "execute_result",
          "data": {
            "text/plain": [
              "'Frank'"
            ]
          },
          "metadata": {
            "tags": []
          },
          "execution_count": 84
        }
      ]
    },
    {
      "cell_type": "code",
      "metadata": {
        "id": "H8hP_wuIYyJw",
        "colab": {
          "base_uri": "https://localhost:8080/",
          "height": 34
        },
        "outputId": "cb67732d-50ba-4468-bcf5-063fdf787b19"
      },
      "source": [
        "'''\n",
        "Sets\n",
        "    - A set is a collection which is unordered and unindexed. \n",
        "    - In Python sets are written with curly brackets.\n",
        "    - Once a set is created, you cannot change its items, but you can add new items.\n",
        "    - You cannot access items in a set by referring to an index, since sets are unordered the items has no index.\n",
        "'''\n",
        "\n",
        "basket_1 = ['apple', 'banana', 'pear', 'orange', 'apple', 'pear', 'orange']\n",
        "basket_2 = ['apple', 'kiwi', 'carrot', 'pear', 'orange']\n",
        "\n",
        "\n",
        "\n",
        "# fruit = {'apple', 'banana', 'pear'}\n",
        "# we can transform list to a set (will contain only unique values)\n",
        "fruit_basket_1 = set(basket_1)\n",
        "fruit_basket_2 = set(basket_2)\n",
        "\n",
        "# print(fruit_basket_1)\n",
        "\n",
        "# print(fruit_basket_1, fruit_basket_2)\n",
        "\n",
        "# fruit_basket_1.intersection(fruit_basket_2)\n",
        "# fruit_basket_1.union(fruit_basket_2)\n",
        "\n",
        "# .add() -> adds one element to a set\n",
        "# .update() -> adds several elements to a set .update(['fruit_1', 'fruit_2'])\n",
        "# fruit_basket_1.update(['fruit_1', 'fruit_2'])\n",
        "\n",
        "# .remove() -> removes one element from a set\n",
        "# .discard() -> removes several elements from a set \n",
        "\n",
        "# issubset()\n",
        "# issuperset()\n",
        "# union()\n",
        "# intersection()"
      ],
      "execution_count": null,
      "outputs": [
        {
          "output_type": "execute_result",
          "data": {
            "text/plain": [
              "{'apple', 'banana', 'carrot', 'kiwi', 'orange', 'pear'}"
            ]
          },
          "metadata": {
            "tags": []
          },
          "execution_count": 87
        }
      ]
    },
    {
      "cell_type": "markdown",
      "metadata": {
        "id": "Yb7Xhs37Nxpc"
      },
      "source": [
        "## Types"
      ]
    },
    {
      "cell_type": "code",
      "metadata": {
        "id": "qKMMY6iBNwfJ",
        "colab": {
          "base_uri": "https://localhost:8080/",
          "height": 54
        },
        "outputId": "a07ec6fa-f3e4-44fc-b9ef-fd004ff314cc"
      },
      "source": [
        "name = 'Sarah'  # string \n",
        "age = 35        # integer\n",
        "height = 169.3  # float\n",
        "siblings = ['Maria', 'Luke', 'John II', 'Ricky', 'Anna', 'Lucy'] # list\n",
        "favorite_fruit = {'apple', 'orange'} # set\n",
        "is_scientist = True # boolean\n",
        "parents = ('John', 'Francesca') # tuple\n",
        "\n",
        "person = {\n",
        "    'name': name,\n",
        "    'age': age,\n",
        "    'height': height,\n",
        "    'siblings': siblings,\n",
        "    'favorite_fruit': favorite_fruit,\n",
        "    'is_scientist': is_scientist,\n",
        "    'parents': parents\n",
        "} # dictionary\n",
        "\n",
        "person.values()\n",
        "person.keys()\n",
        "person.items()"
      ],
      "execution_count": null,
      "outputs": [
        {
          "output_type": "execute_result",
          "data": {
            "text/plain": [
              "dict_items([('name', 'Sarah'), ('age', 35), ('height', 169.3), ('siblings', ['Maria', 'Luke', 'John II', 'Ricky', 'Anna', 'Lucy']), ('favorite_fruit', {'apple', 'orange'}), ('is_scientist', True), ('parents', ('John', 'Francesca'))])"
            ]
          },
          "metadata": {
            "tags": []
          },
          "execution_count": 48
        }
      ]
    },
    {
      "cell_type": "markdown",
      "metadata": {
        "id": "WIrn-E6_ZCP1"
      },
      "source": [
        "## Iterators"
      ]
    },
    {
      "cell_type": "code",
      "metadata": {
        "id": "-uhZ8ALrY9TD"
      },
      "source": [
        "'''\n",
        "- Iterator in Python is simply an object that can be iterated upon. \n",
        "- An object which will return data, one element at a time.\n",
        "- Elegant way of iterating is by using the for loop. \n",
        "- Using this, we can iterate over any object that can return an iterator\n",
        "- Iterator can be a list, string, file etc.\n",
        "'''\n",
        "\n",
        "sequences = ['TAGGGACATCGTCGTGAAAACTTCTTCTCCTTGTCAGTGTTGAGGAACTTTGCAATG', \n",
        "             'AACTTTGCAATGTTTGAAACATGGTTGCTATAAGTTTGATAAAGC',\n",
        "             'CATACACACACCTATTGCCCTTCATTGGCCTCATTCATCAAGCGGCACGGTCCGGATG',\n",
        "             'GTGAAAACTTCTTCTCCTTGTCAGTGTTGAGGAACTTTGCAATGT',\n",
        "             'TCGTGACAAGATTCTCCTGCAAACACACATACACGTGATTGCGT',\n",
        "             'last element']\n",
        "\n",
        "\n",
        "# for i, sequence in enumerate(sequences):\n",
        "#     for j, nucleotide in enumerate(sequence):\n",
        "#         print(i, j, nucleotide)\n",
        "\n",
        "# print('--------------')\n",
        "# print('sequence is', x)"
      ],
      "execution_count": null,
      "outputs": []
    },
    {
      "cell_type": "code",
      "metadata": {
        "id": "A_cnv7YMZP4m",
        "colab": {
          "base_uri": "https://localhost:8080/",
          "height": 85
        },
        "outputId": "ce34cc8a-bb13-4888-acd3-e021f3be6d0d"
      },
      "source": [
        "list_of_numbers = [12, 4, 68, 19]\n",
        "\n",
        "for number in list_of_numbers:\n",
        "    # some logic here, by adding for number it defined what's in the parenthesis to be a number\n",
        "    print(number)\n",
        "\n",
        "# if we print x outside for loop, it will hold the value from the last loop\n",
        "print(number)"
      ],
      "execution_count": null,
      "outputs": [
        {
          "output_type": "stream",
          "text": [
            "12\n",
            "4\n",
            "68\n",
            "19\n"
          ],
          "name": "stdout"
        }
      ]
    },
    {
      "cell_type": "code",
      "metadata": {
        "id": "_sZWLJuzZUB8"
      },
      "source": [
        "sequences = ['TAGGGACATCGTCGTGAAAACTTCTTCTCCTTGTCAGTGTTGAGGAACTTTGCAATG', \n",
        "             'AACTTTGCAATGTTTGAAACATGGTTGCTATAAGTTTGATAAAGC',\n",
        "             'CATACACACACCTATTGCCCTTCATTGGCCTCATTCATCAAGCGGCACGGTCCGGATG',\n",
        "             'GTGAAAACTTCTTCTCCTTGTCAGTGTTGAGGAACTTTGCAATGT',\n",
        "             'TCGTGACAAGATTCTCCTGCAAACACACATACACGTGATTGCGT',\n",
        "             'last element']\n",
        "\n",
        "for x in sequences:\n",
        "    print(x)\n",
        "\n",
        "# add enumerate\n",
        "# nested loop"
      ],
      "execution_count": null,
      "outputs": []
    },
    {
      "cell_type": "markdown",
      "metadata": {
        "id": "HUSoae26bjOl"
      },
      "source": [
        "## Functions"
      ]
    },
    {
      "cell_type": "code",
      "metadata": {
        "id": "ysf1NZCWblBu",
        "colab": {
          "base_uri": "https://localhost:8080/",
          "height": 68
        },
        "outputId": "d62c0efb-10c5-48a0-d2f9-59ccd817699a"
      },
      "source": [
        "'''\n",
        "A function is a block of code which only runs when it is called.\n",
        "You can pass data, known as parameters, into a function.\n",
        "A function can return data as a result.\n",
        "\n",
        "y = f(x) = x + 1\n",
        "\n",
        "To write a function we need to follow some rules.\n",
        "\n",
        "    - we start function definition with 'def' (keyword - reserved word in Python)\n",
        "    - we define function name - can be arbitrary, like a variable name\n",
        "    - in parentheses we define arguments/parameters\n",
        "    - body of the function needs to be indeted - tab\n",
        "    - we return a value with keyword 'return'\n",
        "\n",
        "Scope\n",
        "    - variables can only reach the area in which they are defined, which is called scope.\n",
        "    - think of it as the area of code where variables can be used\n",
        "    - python supports global variables (usable in the entire program) and local variables.\n",
        "    - variables defined inside a function are called local variables\n",
        "'''\n",
        "\n",
        "people = [('Anna', 'Strampelli'),\n",
        "          ('Federica', 'Bernardini'),\n",
        "          ('Nace', 'Kranjc')]\n",
        "\n",
        "def get_initials(name, surname):\n",
        "    i_1 = name[0]\n",
        "    i_2 = surname[0]\n",
        "\n",
        "    return i_1 + i_2\n",
        "\n",
        "\n",
        "for name, surname in people:\n",
        "    initials = get_initials(name, surname)\n",
        "\n",
        "    print(initials)\n",
        "\n"
      ],
      "execution_count": null,
      "outputs": [
        {
          "output_type": "stream",
          "text": [
            "AS\n",
            "FB\n",
            "NK\n"
          ],
          "name": "stdout"
        }
      ]
    },
    {
      "cell_type": "code",
      "metadata": {
        "id": "U7729rzXTpeM",
        "colab": {
          "base_uri": "https://localhost:8080/",
          "height": 68
        },
        "outputId": "9dbd1c3b-f6ae-4b8d-9756-451631c1b83e"
      },
      "source": [
        "global_variable = 12\n",
        "\n",
        "def calculate_eq(a, b, c=10, d=20):\n",
        "    # result is a local variable\n",
        "    # as well as a, b, c, d - regardless if a variable with the same name\n",
        "    # already exists outside function's scope\n",
        "\n",
        "    print('c:', c)\n",
        "    print('d:', d)\n",
        "\n",
        "    result = ((a * b) - c) / d\n",
        "    return result\n",
        "\n",
        "\n",
        "x = 5\n",
        "y = 7\n",
        "\n",
        "# explain optional/positional paramteres/arguments\n",
        "calculate_eq(x, y, d=55)"
      ],
      "execution_count": null,
      "outputs": [
        {
          "output_type": "stream",
          "text": [
            "c: 10\n",
            "d: 55\n"
          ],
          "name": "stdout"
        },
        {
          "output_type": "execute_result",
          "data": {
            "text/plain": [
              "0.45454545454545453"
            ]
          },
          "metadata": {
            "tags": []
          },
          "execution_count": 41
        }
      ]
    },
    {
      "cell_type": "markdown",
      "metadata": {
        "id": "4wLXfVZgfQ1n"
      },
      "source": [
        "## Conditions"
      ]
    },
    {
      "cell_type": "code",
      "metadata": {
        "id": "GqrHuFbEcU1_",
        "colab": {
          "base_uri": "https://localhost:8080/",
          "height": 34
        },
        "outputId": "76742faf-2a14-4957-e3d2-ca3ecfce7720"
      },
      "source": [
        "'''\n",
        "- In a Python program, the if statement is how you perform this sort of decision-making. \n",
        "- It allows for conditional execution of a statement or group of statements based on the value of an expression.\n",
        "- Implemented as 'if' expression in the code - below\n",
        "\n",
        "if <expression>:\n",
        "    <statement/body>\n",
        "\n",
        "- If <expr> is true (evaluates to a value that is “truthy”), then <statement> is executed. \n",
        "- If <expr> is false, then <statement> is skipped over and not executed.\n",
        "\n",
        "- Sometimes, you want to evaluate a condition and take one path if it is true but specify an alternative path if it is not. \n",
        "- This is accomplished with an else clause:\n",
        "\n",
        "if <expression>:\n",
        "    <statement>\n",
        "else:\n",
        "    <alternative statement>\n",
        "\n",
        "- Sometimes we also want to evaluate an alternative condition explicitly - we can use elif clause.\n",
        "\n",
        "if <expression>:\n",
        "    <statement>\n",
        "elif <expression>:\n",
        "    <explicit alternative statement>\n",
        "else:\n",
        "    <alternative statement>\n",
        "\n",
        "'''\n",
        "\n",
        "a = 2\n",
        "b = 10\n",
        "\n",
        "condition = a > b\n",
        "print(condition)\n",
        "\n",
        "\n",
        "if condition:\n",
        "    print('true')\n"
      ],
      "execution_count": null,
      "outputs": [
        {
          "output_type": "stream",
          "text": [
            "False\n"
          ],
          "name": "stdout"
        }
      ]
    },
    {
      "cell_type": "code",
      "metadata": {
        "id": "I00FwgEBiM3w",
        "colab": {
          "base_uri": "https://localhost:8080/",
          "height": 51
        },
        "outputId": "265e3656-96e6-4121-d83c-93b84b558933"
      },
      "source": [
        "person['is_scientist'] = False\n",
        "\n",
        "# if person['is_scientist']:\n",
        "#     print(person['name'], 'is a scientist!')\n",
        "# else:\n",
        "#     print(person['name'], 'is not scientist!')\n",
        "\n",
        "'''\n",
        ">\n",
        "<\n",
        ">=\n",
        "<=\n",
        "==\n",
        "!=\n",
        "'''\n",
        "\n",
        "if person['age'] > 30 and person['is_scientist']:\n",
        "    print(person['name'], 'has access')\n",
        "else:\n",
        "    print(person['name'], 'doesnt have the access')\n",
        "\n",
        "    if not person['age'] > 30:\n",
        "        print(person['name'], 'is not old enoug')\n",
        "\n",
        "    if not person['is_scientist']:\n",
        "        print(person['name'], 'isnt a scientist')"
      ],
      "execution_count": null,
      "outputs": [
        {
          "output_type": "stream",
          "text": [
            "Sarah doesnt have the access\n",
            "Sarah isnt a scientist\n"
          ],
          "name": "stdout"
        }
      ]
    },
    {
      "cell_type": "code",
      "metadata": {
        "id": "UqWX80FXj2ts"
      },
      "source": [
        "if 'John III' in person['siblings']:\n",
        "    print(person['name'], 'has a brother called John II')"
      ],
      "execution_count": null,
      "outputs": []
    },
    {
      "cell_type": "code",
      "metadata": {
        "id": "bcdAHDD-pItv"
      },
      "source": [
        "# condition = False\n",
        "\n",
        "# if True:\n",
        "#     print('value is bigger than 6')\n",
        "# else:\n",
        "#     print('value is not bigger than 6, because value is', a)\n",
        "\n",
        "# a = 7\n",
        "# b = 10\n",
        "# names = ['Mike', 'Lara', 'Mary', 'Joe', 'Frank']\n",
        "\n",
        "# if a < b:\n",
        "#     print(a, b)\n",
        "\n",
        "# # bool - boolean and can be only 2 values - True or False\n",
        "\n",
        "# # if - combination of conditions\n",
        "# if a == 8:\n",
        "#     print('a is 8, do something')\n",
        "# elif a == 7:\n",
        "#     print('a is 7, do something')\n",
        "# else:\n",
        "#     print('conditions are not met, do something')\n",
        "\n",
        "\n",
        "# your_name = 'Rich'\n",
        "\n",
        "# if your_name in names:\n",
        "#     print(your_name, ' is the first one in the list')\n",
        "# else:\n",
        "#     print(your_name, 'is not in the list')\n",
        "#     names.append(your_name)\n",
        "\n",
        "# print(names)"
      ],
      "execution_count": null,
      "outputs": []
    }
  ]
}