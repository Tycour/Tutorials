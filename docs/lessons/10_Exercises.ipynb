{
  "nbformat": 4,
  "nbformat_minor": 0,
  "metadata": {
    "colab": {
      "name": "10 Exercises",
      "provenance": [],
      "collapsed_sections": [],
      "toc_visible": true,
      "include_colab_link": true
    },
    "kernelspec": {
      "name": "python3",
      "display_name": "Python 3"
    }
  },
  "cells": [
    {
      "cell_type": "markdown",
      "metadata": {
        "id": "view-in-github",
        "colab_type": "text"
      },
      "source": [
        "<a href=\"https://colab.research.google.com/github/Tycour/crisanti-toolshed/blob/main/docs/lessons/10_Exercises.ipynb\" target=\"_parent\"><img src=\"https://colab.research.google.com/assets/colab-badge.svg\" alt=\"Open In Colab\"/></a>"
      ]
    },
    {
      "cell_type": "markdown",
      "metadata": {
        "id": "rHpFPwOCwiw7"
      },
      "source": [
        "Recording: https://youtu.be/84EPuKtF2KQ"
      ]
    },
    {
      "cell_type": "code",
      "metadata": {
        "id": "uKMy07guET8e",
        "colab": {
          "base_uri": "https://localhost:8080/",
          "height": 122
        },
        "outputId": "3f8bb5f3-515b-4f5f-e528-3b1eb9f6c45d"
      },
      "source": [
        "from google.colab import drive\n",
        "drive.mount('/content/drive')"
      ],
      "execution_count": null,
      "outputs": [
        {
          "output_type": "stream",
          "text": [
            "Go to this URL in a browser: https://accounts.google.com/o/oauth2/auth?client_id=947318989803-6bn6qk8qdgf4n4g3pfee6491hc0brc4i.apps.googleusercontent.com&redirect_uri=urn%3aietf%3awg%3aoauth%3a2.0%3aoob&response_type=code&scope=email%20https%3a%2f%2fwww.googleapis.com%2fauth%2fdocs.test%20https%3a%2f%2fwww.googleapis.com%2fauth%2fdrive%20https%3a%2f%2fwww.googleapis.com%2fauth%2fdrive.photos.readonly%20https%3a%2f%2fwww.googleapis.com%2fauth%2fpeopleapi.readonly\n",
            "\n",
            "Enter your authorization code:\n",
            "··········\n",
            "Mounted at /content/drive\n"
          ],
          "name": "stdout"
        }
      ]
    },
    {
      "cell_type": "markdown",
      "metadata": {
        "id": "vM-qMZj4DAl0"
      },
      "source": [
        "## Warm-up\n",
        "\n",
        "Create a function `rt(s)` to generate reverse complement of a sequence `s`.\n"
      ]
    },
    {
      "cell_type": "code",
      "metadata": {
        "id": "tJ2d4Hg7DXsw",
        "colab": {
          "base_uri": "https://localhost:8080/",
          "height": 68
        },
        "outputId": "bce48d95-7e37-42b2-992b-ed7e5e349dd8"
      },
      "source": [
        "s = 'ATGGATCTATGGCACTGGGCAACT'\n",
        "\n",
        "def revcomp(s):\n",
        "\n",
        "    rev_sequence = s[::-1]\n",
        "    rev_comp_sequence = ''\n",
        "\n",
        "    print(rev_sequence)\n",
        "\n",
        "    for nucl in rev_sequence:\n",
        "        if nucl == 'T':\n",
        "            rev_comp_sequence = rev_comp_sequence + 'A'\n",
        "        elif nucl == 'A':\n",
        "            rev_comp_sequence = rev_comp_sequence + 'T'\n",
        "        elif nucl == 'C':\n",
        "            rev_comp_sequence = rev_comp_sequence + 'G'\n",
        "        elif nucl == 'G':\n",
        "            rev_comp_sequence = rev_comp_sequence + 'C'\n",
        "\n",
        "    return rev_comp_sequence\n",
        "\n",
        "\n",
        "def revcomp_dict(s):\n",
        "\n",
        "    bases = {\n",
        "        'A': 'T',\n",
        "        'C': 'G',\n",
        "        'T': 'A',\n",
        "        'G': 'C'\n",
        "    }\n",
        "\n",
        "    rev_sequence = s[::-1]\n",
        "    rev_compl_list = []\n",
        "\n",
        "    for nucl in rev_sequence:\n",
        "        rev_compl_list.append(bases[nucl])\n",
        "    \n",
        "    rev_compl_sequence = ''.join(rev_compl_list)\n",
        "    return rev_compl_sequence\n",
        "\n",
        "\n",
        "\n",
        "\n",
        "print(revcomp(s))\n",
        "print(revcomp_dic(s))"
      ],
      "execution_count": null,
      "outputs": [
        {
          "output_type": "stream",
          "text": [
            "TCAACGGGTCACGGTATCTAGGTA\n",
            "AGTTGCCCAGTGCCATAGATCCAT\n",
            "AGTTGCCCAGTGCCATAGATCCAT\n"
          ],
          "name": "stdout"
        }
      ]
    },
    {
      "cell_type": "markdown",
      "metadata": {
        "id": "dpCBFHlqBbWF"
      },
      "source": [
        "## Exercise 1 - Counting Point Mutations (http://rosalind.info/problems/hamm/)\n",
        "\n",
        "Given two strings `s` and `t` of equal length, the Hamming distance between s and `t`, denoted `dH(s,t)`, is the number of corresponding symbols that differ in `s` and `t`. See Figure 1.\n",
        "\n",
        "```\n",
        "GAGCCTACTAACGGGAT\n",
        "CATCGTAATGACGGCCT\n",
        "* * *  * *     *\n",
        "1 2 3  4 5     7\n",
        "```\n",
        "\n",
        "Given: Two DNA strings `s` and `t` of equal length (not exceeding 1 kbp).\n",
        "Return: The Hamming distance `dH(s,t)`.\n"
      ]
    },
    {
      "cell_type": "code",
      "metadata": {
        "id": "XaZ-4qOdBUPD",
        "colab": {
          "base_uri": "https://localhost:8080/",
          "height": 34
        },
        "outputId": "ceb9308d-9fdf-43cb-c4d8-92accbe9734f"
      },
      "source": [
        "s = 'GAGCCTACTAACGGGAT'\n",
        "t = 'CATCGTAATGACGGCCT'\n",
        "\n",
        "def dH(s, t):\n",
        "    x = 0\n",
        "    for i, nucl in enumerate(s):\n",
        "        if nucl != t[i]:\n",
        "            x += 1\n",
        "\n",
        "    # for i in range(0, len(s)):\n",
        "    #     if s[i] != t[i]:\n",
        "    #         x += 1\n",
        "\n",
        "    return x\n",
        "\n",
        "dh = dH(s, t)\n",
        "print(dh)"
      ],
      "execution_count": null,
      "outputs": [
        {
          "output_type": "stream",
          "text": [
            "7\n"
          ],
          "name": "stdout"
        }
      ]
    },
    {
      "cell_type": "markdown",
      "metadata": {
        "id": "xbUI8CV7DoKP"
      },
      "source": [
        "## Exercise 2 - Finding a Most Likely Common Ancestor (http://rosalind.info/problems/cons/)\n",
        "\n",
        "In “Counting Point Mutations”, we calculated the minimum number of symbol mismatches between two strings of equal length to model the problem of finding the minimum number of point mutations occurring on the evolutionary path between two homologous strands of DNA. If we instead have several homologous strands that we wish to analyze simultaneously, then the natural problem is to find an average-case strand to represent the most likely common ancestor of the given strands.\n",
        "\n",
        "```\n",
        "DNA Strings\t\n",
        "A T C C A G C T\n",
        "G G G C A A C T\n",
        "A T G G A T C T\n",
        "A A G C A A C C\n",
        "T T G G A A C T\n",
        "A T G C C A T T\n",
        "A T G G C A C T\n",
        "\n",
        "Profile\n",
        "pos 0 1 2 3 4 5 6 7\n",
        "A   5 1 0 0 5 5 0 0\n",
        "C   0 0 1 4 2 0 6 1\n",
        "G   1 1 6 3 0 1 0 0\n",
        "T   1 5 0 0 0 1 1 6\n",
        "\n",
        "Consensus\t\n",
        "A T G C A A C T\n",
        "```\n",
        "\n",
        "Given: A collection of at most 10 DNA strings of equal length (at most 1 kbp) in FASTA format.\n",
        "\n",
        "Return: A consensus string and profile matrix for the collection. (If several possible consensus strings exist, then you may return any one of them.)\n",
        "\n",
        "```\n",
        ">Rosalind_1\n",
        "ATCCAGCT\n",
        ">Rosalind_2\n",
        "GGGCAACT\n",
        ">Rosalind_3\n",
        "ATGGATCT\n",
        ">Rosalind_4\n",
        "AAGCAACC\n",
        ">Rosalind_5\n",
        "TTGGAACT\n",
        ">Rosalind_6\n",
        "ATGCCATT\n",
        ">Rosalind_7\n",
        "ATGGCACT\n",
        "```"
      ]
    },
    {
      "cell_type": "code",
      "metadata": {
        "id": "ktE1NIejD0od",
        "colab": {
          "base_uri": "https://localhost:8080/",
          "height": 34
        },
        "outputId": "e3f24f9f-8385-421e-f4ee-359efeec06d3"
      },
      "source": [
        "sequences = []\n",
        "\n",
        "with open('/content/drive/My Drive/Coding club/_data/10_sequences.fasta') as r:\n",
        "    for line in r:\n",
        "        line = line.strip()\n",
        "\n",
        "        if not line.startswith('>'):\n",
        "            sequences.append(line)\n",
        "\n",
        "\n",
        "\n",
        "'''\n",
        "{\n",
        "    0: []\n",
        "    1: []\n",
        "    2: []\n",
        "}\n",
        "'''\n",
        "\n",
        "from collections import Counter\n",
        "\n",
        "\n",
        "positions = {}\n",
        "\n",
        "#Creating the dictionary with positions of the nucleotide as key and an empty list as value\n",
        "\n",
        "for pos in range(0, len(sequences[0])):\n",
        "    positions[pos] = []\n",
        "#appending all the nucleotides in a specific position to the corresponding list\n",
        "for seq in sequences:\n",
        "    for i, nucl in enumerate(seq):\n",
        "        positions[i].append(nucl)\n",
        "\n",
        "consensus = ''\n",
        "\n",
        "for pos, nucleotides in positions.items():\n",
        "    counts = Counter(nucleotides)\n",
        "\n",
        "    highest_count = list(counts.keys())[0]\n",
        "    consensus += highest_count\n",
        "\n",
        "consensus"
      ],
      "execution_count": null,
      "outputs": [
        {
          "output_type": "execute_result",
          "data": {
            "text/plain": [
              "'ATCCAGCT'"
            ]
          },
          "metadata": {
            "tags": []
          },
          "execution_count": 19
        }
      ]
    },
    {
      "cell_type": "code",
      "metadata": {
        "id": "nG6i04ke4s3O",
        "colab": {
          "base_uri": "https://localhost:8080/",
          "height": 34
        },
        "outputId": "a1ad274b-9d36-4f00-a5ec-b8d724187bd4"
      },
      "source": [
        "from collections import Counter\n",
        "\n",
        "l = ['C', 'G', 'T', 'T', 'T']\n",
        "\n",
        "Counter(l)"
      ],
      "execution_count": null,
      "outputs": [
        {
          "output_type": "execute_result",
          "data": {
            "text/plain": [
              "Counter({'C': 1, 'G': 1, 'T': 3})"
            ]
          },
          "metadata": {
            "tags": []
          },
          "execution_count": 2
        }
      ]
    },
    {
      "cell_type": "code",
      "metadata": {
        "id": "cRPtJIr740_h"
      },
      "source": [
        ""
      ],
      "execution_count": null,
      "outputs": []
    }
  ]
}