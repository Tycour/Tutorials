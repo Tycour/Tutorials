{
  "nbformat": 4,
  "nbformat_minor": 0,
  "metadata": {
    "colab": {
      "name": "09 Fasta homework",
      "provenance": [],
      "collapsed_sections": [],
      "toc_visible": true,
      "include_colab_link": true
    },
    "kernelspec": {
      "name": "python3",
      "display_name": "Python 3"
    }
  },
  "cells": [
    {
      "cell_type": "markdown",
      "metadata": {
        "id": "view-in-github",
        "colab_type": "text"
      },
      "source": [
        "<a href=\"https://colab.research.google.com/github/Tycour/crisanti-toolshed/blob/main/docs/lessons/09_Fasta_homework.ipynb\" target=\"_parent\"><img src=\"https://colab.research.google.com/assets/colab-badge.svg\" alt=\"Open In Colab\"/></a>"
      ]
    },
    {
      "cell_type": "markdown",
      "metadata": {
        "id": "dpCBFHlqBbWF"
      },
      "source": [
        "## FASTA files\n",
        "\n",
        "Session recording: https://youtu.be/RP_U9jP6jLg\n",
        "\n",
        "In bioinformatics and biochemistry, the FASTA format is a text-based format for representing either nucleotide sequences or amino acid (protein) sequences, in which nucleotides or amino acids are represented using single-letter codes. The format also allows for sequence names and comments to precede the sequences.\n",
        "\n",
        "The content of FASTA files\n",
        "```\n",
        ">sequence identification\n",
        "<nucleotide/aminoacid sequence>\n",
        ">sequence identification\n",
        "<nucleotide/aminoacid sequence>\n",
        "...\n",
        "```\n",
        "\n",
        "For example:\n",
        "```\n",
        ">sequence_id_1\n",
        "AGTATGTACTCGGCACGCCATTCCGTCAGTTCGTCCTCCGGTGTCCTGATGGTGGGCCCCAACTTCCGCGTCGGCAAAAAGATCGGCTGTGGCAACTTCGGAGAACTCAGGCTGGGTAAGTAGTG\n",
        ">sequence_id_2\n",
        "TTGGCGACAGAACCGAAAATGCAGCGCCGCGGCGAGGGCAAGGACCAGCAGCAGCAACAGCCATCGCAACCGGCGCGAGCTGCTGGCGAGGCGGGCGTTGCCGGCGGAGGAGGCCGTGACCGTGACGTCGCCCGACAGACAAGGTGAGTGGGGTA\n",
        ">sequence_id_3\n",
        "AAAAAGGGAGGAAACAAGCAGAACAACATGGTGACGACGATTAAAATTACCGGCGACGGTGTGTTCATCCAGTCGAACGGTGGCGTTGGGGCTGGCGGTGCAGGAGGCAGCGCGAGACTGCAGCAACAGGAACGGCAAGAGCTGCTGACGGGTGAGAACACCCTTGGAAGCACCGCGCTCGGAGAGGCCAATTTGCCATCTGCCGAGGGTACGGTGCGCAACGGATCGCTGGACCTGGTGGACAGTGGTGCCGGTGGCAATGATACAAACAACAATCACAAGGGCTATCGTAACTTCAACCACCGCCGGTACCAGTCGGACGAGGGACCCGGTTTCATCGGGATGCGCAATGGCAAGCCGCCGGAGCGGGCCGACGGCGCGTCCCCAGGATCGTCCGAGGTGGTATCGGGCGAAAGTGATGACACGCTCGGCGAGCCTGATCCGAGTCGTAAGCGGGATAAGTTTACGATTTCATTCCTAAACACGCACCGCTCGAGTGGCGGTGGGCTGCTGCCGAACGGCGGTGGCAAGAGCATGCTCAACCACAAGTTCATCGTGTACAACAGCAAGAAGCCAAAGACATCGTCGGTGCTGCACCAGCAGTACTACCAGCAGAGCATTGCCGCCGCCGCTGCCAATGGGGAACTTGGCAGCAGTGGGAGCGGTTCACCGCCCCTGCCCTACCCGAGCCACTACCAGCAGTACCTGTACAATCGGCTGCGTCCGTCCTTGTCGACCTCAGTGCTAAGCTCACCGTCACTGATCACGGCTGCTGCAATCCCGAGTTGTTCGCCTCCCGATCgagatcgcttagagcagcagcagcagcagcagcatcagctctatcagaacagtctcttccatcagcaacaccgtTCGCTGCTGGGTACGCCACCGGCTGCCGTACCTGGTTGGGCCAAGTCCACTTCCTGTCTGGTGTCGAGCAGTGCGGCCGCTGCTTCCTCCTACAGAACCGTCACCGCATCGCCGCTACTATTACTTCCCGCGCAACCAGCCCGAAGTGCACCGCAGCCGTACCCGGCCGCTGGTGGTACCGCGCCACGCCCTGTACCGGTCTCTTCCTCCAACTCGTCACTGTCCTCCTCGCCGTTATCTTTCTCAGCTGGTTCGCCGCCATCGTCCGGTGCTAATTCATCGTCAAACACTCCTCCGCCGCCCGTGGTGCCGAGTGAGGTGACCGCGACATCTGCTAATGCAGTCACGGCGACCTCGACAACGACCTGCAGTTCCCCAACGACGCCAACGACTACGTCACCCGACGCGTCGAACTCACCAACACCGGTACCACCGCCGGGTACGGTAGCGCCATCTACACCAACGCACTCATCGTCGCCTTCTTCTTCGACATCAAATCTTGGTTAGTACGTCTTTTGGGA\n",
        "```\n",
        "\n",
        "Your task is to:\n",
        "1. Read `09_sequences.fasta` file in `_data/` folder.\n",
        "2. For each sequence in the file find the longest open reading frame (ORF)\n",
        "3. Print sequence identificator, and the length of the longest ORF in the sequence (the length of aminoacid sequence encoded in the longest ORF).\n",
        "\n",
        "Tips:\n",
        "- Aproach solving this task in steps - first try to solve the problem only for one sequence and then build up the program to work on multiple sequences. Start with the basics.\n",
        "- Use the function that translates a sequence from the previous homework (ask your colleagues to help you with the function if you don't have it).\n",
        "- An ORF is a continuous stretch of codons that begins with a start codon (usually AUG) and ends at a stop codon (usually UAA, UAG or UGA)\n",
        "- All the sequences in the file contain an exon, but they do not necessarily start with start codon and might be out of frame\n",
        "- They do not necessarily end with stop codon - they can also stop mid coding sequence.\n",
        "- It's perfectly fine to google if you don't know how to approach the problem, just try to avoid copy/pasting existing code and try to come up with your own solution.\n",
        "\n",
        "The person with the neatest solution gets an ice cream from Odono! <3\n",
        "\n",
        "Good luck!"
      ]
    },
    {
      "cell_type": "code",
      "metadata": {
        "id": "pMcjDqJUBpXO",
        "colab": {
          "base_uri": "https://localhost:8080/",
          "height": 269
        },
        "outputId": "7ef80915-e614-4ed3-f18a-375fcefd7b0a"
      },
      "source": [
        "from google.colab import drive\n",
        "drive.mount('/content/drive')\n",
        "\n",
        "\n"
      ],
      "execution_count": null,
      "outputs": [
        {
          "output_type": "stream",
          "text": [
            "Drive already mounted at /content/drive; to attempt to forcibly remount, call drive.mount(\"/content/drive\", force_remount=True).\n"
          ],
          "name": "stdout"
        },
        {
          "output_type": "error",
          "ename": "FileNotFoundError",
          "evalue": "ignored",
          "traceback": [
            "\u001b[0;31m---------------------------------------------------------------------------\u001b[0m",
            "\u001b[0;31mFileNotFoundError\u001b[0m                         Traceback (most recent call last)",
            "\u001b[0;32m<ipython-input-5-ab9cd28e1a8d>\u001b[0m in \u001b[0;36m<module>\u001b[0;34m()\u001b[0m\n\u001b[1;32m      4\u001b[0m \u001b[0;34m\u001b[0m\u001b[0m\n\u001b[1;32m      5\u001b[0m \u001b[0;31m#open the file\u001b[0m\u001b[0;34m\u001b[0m\u001b[0;34m\u001b[0m\u001b[0;34m\u001b[0m\u001b[0m\n\u001b[0;32m----> 6\u001b[0;31m \u001b[0msequences_file\u001b[0m \u001b[0;34m=\u001b[0m \u001b[0mopen\u001b[0m\u001b[0;34m(\u001b[0m\u001b[0;34m'/content/drive/My Drive/Shared/Coding club/_data/09_sequences.fasta'\u001b[0m\u001b[0;34m)\u001b[0m\u001b[0;34m\u001b[0m\u001b[0;34m\u001b[0m\u001b[0m\n\u001b[0m\u001b[1;32m      7\u001b[0m \u001b[0;32mfor\u001b[0m \u001b[0mline\u001b[0m \u001b[0;32min\u001b[0m \u001b[0msequences_file\u001b[0m\u001b[0;34m:\u001b[0m\u001b[0;34m\u001b[0m\u001b[0;34m\u001b[0m\u001b[0m\n\u001b[1;32m      8\u001b[0m     \u001b[0mprint\u001b[0m\u001b[0;34m(\u001b[0m\u001b[0mline\u001b[0m\u001b[0;34m.\u001b[0m\u001b[0mreplace\u001b[0m\u001b[0;34m(\u001b[0m\u001b[0;34m'\\n'\u001b[0m\u001b[0;34m,\u001b[0m \u001b[0;34m''\u001b[0m\u001b[0;34m)\u001b[0m\u001b[0;34m)\u001b[0m\u001b[0;34m\u001b[0m\u001b[0;34m\u001b[0m\u001b[0m\n",
            "\u001b[0;31mFileNotFoundError\u001b[0m: [Errno 2] No such file or directory: '/content/drive/My Drive/Shared/Coding club/_data/09_sequences.fasta'"
          ]
        }
      ]
    },
    {
      "cell_type": "code",
      "metadata": {
        "id": "vbc7mCymzrHN",
        "colab": {
          "base_uri": "https://localhost:8080/",
          "height": 139
        },
        "outputId": "2d911975-c962-41b1-a6f7-9b820a23171e"
      },
      "source": [
        "\n"
      ],
      "execution_count": null,
      "outputs": [
        {
          "output_type": "stream",
          "text": [
            ">sequence_id_1\n",
            "AGTATGTACTCGGCACGCCATTCCGTCAGTTCGTCCTCCGGTGTCCTGATGGTGGGCCCCAACTTCCGCGTCGGCAAAAAGATCGGCTGTGGCAACTTCGGAGAACTCAGGCTGGGTAAGTAGTG\n",
            ">sequence_id_2\n",
            "TTGGCGACAGAACCGAAAATGCAGCGCCGCGGCGAGGGCAAGGACCAGCAGCAGCAACAGCCATCGCAACCGGCGCGAGCTGCTGGCGAGGCGGGCGTTGCCGGCGGAGGAGGCCGTGACCGTGACGTCGCCCGACAGACAAGGTGAGTGGGGTA\n",
            ">sequence_id_3\n",
            "AAAAAGGGAGGAAACAAGCAGAACAACATGGTGACGACGATTAAAATTACCGGCGACGGTGTGTTCATCCAGTCGAACGGTGGCGTTGGGGCTGGCGGTGCAGGAGGCAGCGCGAGACTGCAGCAACAGGAACGGCAAGAGCTGCTGACGGGTGAGAACACCCTTGGAAGCACCGCGCTCGGAGAGGCCAATTTGCCATCTGCCGAGGGTACGGTGCGCAACGGATCGCTGGACCTGGTGGACAGTGGTGCCGGTGGCAATGATACAAACAACAATCACAAGGGCTATCGTAACTTCAACCACCGCCGGTACCAGTCGGACGAGGGACCCGGTTTCATCGGGATGCGCAATGGCAAGCCGCCGGAGCGGGCCGACGGCGCGTCCCCAGGATCGTCCGAGGTGGTATCGGGCGAAAGTGATGACACGCTCGGCGAGCCTGATCCGAGTCGTAAGCGGGATAAGTTTACGATTTCATTCCTAAACACGCACCGCTCGAGTGGCGGTGGGCTGCTGCCGAACGGCGGTGGCAAGAGCATGCTCAACCACAAGTTCATCGTGTACAACAGCAAGAAGCCAAAGACATCGTCGGTGCTGCACCAGCAGTACTACCAGCAGAGCATTGCCGCCGCCGCTGCCAATGGGGAACTTGGCAGCAGTGGGAGCGGTTCACCGCCCCTGCCCTACCCGAGCCACTACCAGCAGTACCTGTACAATCGGCTGCGTCCGTCCTTGTCGACCTCAGTGCTAAGCTCACCGTCACTGATCACGGCTGCTGCAATCCCGAGTTGTTCGCCTCCCGATCgagatcgcttagagcagcagcagcagcagcagcatcagctctatcagaacagtctcttccatcagcaacaccgtTCGCTGCTGGGTACGCCACCGGCTGCCGTACCTGGTTGGGCCAAGTCCACTTCCTGTCTGGTGTCGAGCAGTGCGGCCGCTGCTTCCTCCTACAGAACCGTCACCGCATCGCCGCTACTATTACTTCCCGCGCAACCAGCCCGAAGTGCACCGCAGCCGTACCCGGCCGCTGGTGGTACCGCGCCACGCCCTGTACCGGTCTCTTCCTCCAACTCGTCACTGTCCTCCTCGCCGTTATCTTTCTCAGCTGGTTCGCCGCCATCGTCCGGTGCTAATTCATCGTCAAACACTCCTCCGCCGCCCGTGGTGCCGAGTGAGGTGACCGCGACATCTGCTAATGCAGTCACGGCGACCTCGACAACGACCTGCAGTTCCCCAACGACGCCAACGACTACGTCACCCGACGCGTCGAACTCACCAACACCGGTACCACCGCCGGGTACGGTAGCGCCATCTACACCAACGCACTCATCGTCGCCTTCTTCTTCGACATCAAATCTTGGTTAGTACGTCTTTTGGGA\n"
          ],
          "name": "stdout"
        }
      ]
    },
    {
      "cell_type": "code",
      "metadata": {
        "id": "2JVFb0MjC_9k",
        "colab": {
          "base_uri": "https://localhost:8080/",
          "height": 215
        },
        "outputId": "75d0432a-7bfd-441d-ee2a-67d123ed2cea"
      },
      "source": [
        "sequences = ['ATGCTAGCA', 'ATGCTGGAGCA', 'ATGACAAGGAA']\n",
        "# ----------------------------------------------------------\n",
        "sequences_lower = []\n",
        "for s in sequences:\n",
        "    sequences_lower.append(s.lower())\n",
        "# ----------------------------------------------------------\n",
        "\n",
        "sequences_lower = [(s, len(s)) for s in sequences]\n",
        "print(sequences_lower)\n",
        "\n",
        "\n",
        "'AGTATGTACTCGGCACGCCATTCCGTCAGTTCGTCCTCCGGTGTCCTGATGGTGGGCCCCAACTTCCGCGTCGGCAAAAAGATCGGCTGTGGCAACTTCGGAGAACTCAGGCTGGGTAAGTAGTG'\n"
      ],
      "execution_count": null,
      "outputs": [
        {
          "output_type": "stream",
          "text": [
            "[('ATGCTAGCA', 9), ('ATGCTGGAGCA', 11), ('ATGACAAGGAA', 11)]\n"
          ],
          "name": "stdout"
        },
        {
          "output_type": "error",
          "ename": "TypeError",
          "evalue": "ignored",
          "traceback": [
            "\u001b[0;31m---------------------------------------------------------------------------\u001b[0m",
            "\u001b[0;31mTypeError\u001b[0m                                 Traceback (most recent call last)",
            "\u001b[0;32m<ipython-input-7-e6c89696c318>\u001b[0m in \u001b[0;36m<module>\u001b[0;34m()\u001b[0m\n\u001b[1;32m     11\u001b[0m \u001b[0;34m\u001b[0m\u001b[0m\n\u001b[1;32m     12\u001b[0m \u001b[0mparents\u001b[0m \u001b[0;34m=\u001b[0m \u001b[0;34m(\u001b[0m\u001b[0;34m'Drew'\u001b[0m\u001b[0;34m,\u001b[0m \u001b[0;34m'Ioanna'\u001b[0m\u001b[0;34m)\u001b[0m\u001b[0;34m\u001b[0m\u001b[0;34m\u001b[0m\u001b[0m\n\u001b[0;32m---> 13\u001b[0;31m \u001b[0mparents\u001b[0m\u001b[0;34m[\u001b[0m\u001b[0;36m0\u001b[0m\u001b[0;34m]\u001b[0m \u001b[0;34m=\u001b[0m \u001b[0;34m'Dario'\u001b[0m\u001b[0;34m\u001b[0m\u001b[0;34m\u001b[0m\u001b[0m\n\u001b[0m",
            "\u001b[0;31mTypeError\u001b[0m: 'tuple' object does not support item assignment"
          ]
        }
      ]
    }
  ]
}