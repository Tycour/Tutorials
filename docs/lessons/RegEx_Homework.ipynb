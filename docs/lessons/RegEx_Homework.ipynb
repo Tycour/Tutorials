{
  "nbformat": 4,
  "nbformat_minor": 0,
  "metadata": {
    "colab": {
      "name": "RegEx Homework.ipynb",
      "provenance": [],
      "collapsed_sections": [],
      "authorship_tag": "ABX9TyOU/gSj+IHw9StaB/seOkF5",
      "include_colab_link": true
    },
    "kernelspec": {
      "name": "python3",
      "display_name": "Python 3"
    }
  },
  "cells": [
    {
      "cell_type": "markdown",
      "metadata": {
        "id": "view-in-github",
        "colab_type": "text"
      },
      "source": [
        "<a href=\"https://colab.research.google.com/github/Tycour/crisanti-toolshed/blob/main/docs/lessons/RegEx_Homework.ipynb\" target=\"_parent\"><img src=\"https://colab.research.google.com/assets/colab-badge.svg\" alt=\"Open In Colab\"/></a>"
      ]
    },
    {
      "cell_type": "markdown",
      "metadata": {
        "id": "_YeACPXAYjmn"
      },
      "source": [
        "# Homework\n",
        "\n",
        "* Read dsx sequence from `AGAP004050.txt` in `_data` folder\n",
        "* Write function to find all instances of `'GG'` and their corresponding index\n",
        "* Return a list of tuples containing:\n",
        "\n",
        "\n",
        "1.   Index of each `'GG'`\n",
        "2.   Three-nucleotide PAM (i.e. the nucleotide preceding, as well as, `'GG'`)\n",
        "\n",
        "Sample Output:\n",
        "```\n",
        "[(45, 'AGG'), (87, 'TGG'), (152, 'GGG') ...]\n",
        "```\n",
        "\n",
        "# Extra Points\n",
        "\n",
        "* Include PAMs on negative strand (include a third category to your tuple)\n",
        "\n",
        "\n",
        "---\n",
        "\n",
        "\n",
        "```\n",
        "from google.colab import drive\n",
        "drive.mount('/content/drive', force_remount=True)\n",
        "\n",
        "with open('/content/drive/My Drive/Coding club/_data/11_AGAP004050.txt') as file:\n",
        "  for seq in file:\n",
        "    dsx_seq = seq\n",
        "```"
      ]
    },
    {
      "cell_type": "code",
      "metadata": {
        "id": "7Tb7YUucYTBo",
        "colab": {
          "base_uri": "https://localhost:8080/"
        },
        "outputId": "706d1b35-24ae-4d2e-9548-cddb63a7a1ce"
      },
      "source": [
        "from google.colab import drive\n",
        "drive.mount('/content/drive', force_remount=True)\n",
        " \n",
        "with open('/content/drive/My Drive/Coding club/_data/11_AGAP004050.txt') as file:\n",
        "  for seq in file:\n",
        "    dsx_seq = seq\n",
        "\n",
        "# def find_PAMs(sequence, motif):\n",
        "#   indices = [i for i,nt in enumerate(seq) if seq[i:i+len(motif)] == motif]\n",
        "#   pam_seq = [sequence[i-1:i+2] for i in indices]\n",
        "#   ind_pam = [(indices[x], pam_seq[x]) for x in range(len(indices))]\n",
        "#   # Alternative: \n",
        "#   # ind_pam = list(zip(indices, pam_seq))\n",
        "#   return ind_pam\n",
        "\n",
        "def find_PAMs(sequence, motif):\n",
        "\n",
        "  indices = []\n",
        "  for i, nt in enumerate(seq):\n",
        "    if seq[i:i+len(motif)] == motif:\n",
        "      indices.append(i)\n",
        "\n",
        "  pam_seq = []\n",
        "  for i in indices:\n",
        "    pam_seq.append(sequence[i-1:i+2])\n",
        "\n",
        "  ind_pam = []\n",
        "  for i in range(len(indices)):\n",
        "    ind_pam.append((indices[i], pam_seq[i]))\n",
        "\n",
        "  return ind_pam\n",
        "\n",
        "# Show first 10 to reduce output length\n",
        "print(find_PAMs(dsx_seq, 'GG')[:9])"
      ],
      "execution_count": 2,
      "outputs": [
        {
          "output_type": "stream",
          "text": [
            "Mounted at /content/drive\n",
            "[(45, 'TGG'), (51, 'CGG'), (62, 'CGG'), (63, 'GGG'), (108, 'AGG'), (184, 'CGG'), (185, 'GGG'), (197, 'TGG'), (206, 'CGG')]\n"
          ],
          "name": "stdout"
        }
      ]
    },
    {
      "cell_type": "code",
      "metadata": {
        "id": "_3lIi9Mld9j5",
        "colab": {
          "base_uri": "https://localhost:8080/"
        },
        "outputId": "990ad2dc-0c53-4022-9dad-8754439851b8"
      },
      "source": [
        "from google.colab import drive\n",
        "drive.mount('/content/drive', force_remount=True)\n",
        " \n",
        "with open('/content/drive/My Drive/Coding club/_data/11_AGAP004050.txt') as file:\n",
        "  for seq in file:\n",
        "    dsx_seq = seq\n",
        "\n",
        "def rev_comp(seq):\n",
        "    complement = {'A': 'T', 'C': 'G', 'G': 'C', 'T': 'A'}\n",
        "    return ''.join([complement[base] for base in seq[::-1]])\n",
        "\n",
        "def find_all_PAMs(sequence, motif):\n",
        "  \n",
        "  # Create negative strand\n",
        "  rev_sequence = rev_comp(sequence)\n",
        "\n",
        "  # Find index of all PAMs\n",
        "  pos_indices = [i for i,nt in enumerate(seq) if seq[i:i+len(motif)] == motif]\n",
        "  neg_indices = [i for i,nt in enumerate(rev_sequence) if rev_sequence[i:i+len(motif)] == motif]\n",
        "\n",
        "  # Find PAM sequence for each PAM\n",
        "  pam_seq = [sequence[i-1:i+2] for i in pos_indices]\n",
        "  rev_pam_seq = [rev_sequence[i-1:i+2] for i in neg_indices]\n",
        "\n",
        "  # Create a list of tuples such that ('index', 'PAM sequence', 'strand')\n",
        "  pos_ind_pam = [(pos_indices[x], pam_seq[x], '+') for x in range(len(pos_indices))]\n",
        "  neg_ind_pam = [(neg_indices[y], rev_pam_seq[y], '-') for y in range(len(neg_indices))]\n",
        "\n",
        "  # Join lists together\n",
        "  return pos_ind_pam + neg_ind_pam\n",
        "\n",
        "\n",
        "print(find_all_PAMs(dsx_seq, 'GG')[:9])\n",
        "\n",
        "### Sneaky alternative is to search for all 'CC's on reverse strand but you'd still have to code that which means doing the same thing as above\n",
        "\n"
      ],
      "execution_count": 3,
      "outputs": [
        {
          "output_type": "stream",
          "text": [
            "Mounted at /content/drive\n",
            "[(45, 'TGG', '+'), (51, 'CGG', '+'), (62, 'CGG', '+'), (63, 'GGG', '+'), (108, 'AGG', '+'), (184, 'CGG', '+'), (185, 'GGG', '+'), (197, 'TGG', '+'), (206, 'CGG', '+')]\n"
          ],
          "name": "stdout"
        }
      ]
    },
    {
      "cell_type": "code",
      "metadata": {
        "id": "II7z9VP1JAfb",
        "colab": {
          "base_uri": "https://localhost:8080/"
        },
        "outputId": "72e232f9-b2df-4755-eee4-e56f6d5d625b"
      },
      "source": [
        "### Homework with REGULAR EXPRESSION\n",
        "\n",
        "from google.colab import drive\n",
        "drive.mount('/content/drive', force_remount=True)\n",
        "import re\n",
        " \n",
        "with open('/content/drive/My Drive/Coding club/_data/11_AGAP004050.txt') as file:\n",
        "  for seq in file:\n",
        "    dsx_seq = seq\n",
        "\n",
        "motif = '[ACTG]GG'\n",
        "def find_PAMs(sequence, motif):\n",
        "  pams = re.finditer(motif, sequence)\n",
        "  pam_tuple = [(pam.start(), pam.group()) for pam in pams]\n",
        "  return pam_tuple\n",
        "\n",
        "# Show first 50 (to get a feel for the different types of combinations that this can pick up)\n",
        "print(find_PAMs(dsx_seq, '(A)+(T)')[:49])"
      ],
      "execution_count": 5,
      "outputs": [
        {
          "output_type": "stream",
          "text": [
            "Mounted at /content/drive\n",
            "[(4, 'AT'), (9, 'AT'), (14, 'AT'), (70, 'AT'), (115, 'AAAT'), (168, 'AT'), (176, 'AT'), (236, 'AT'), (238, 'AT'), (247, 'AT'), (256, 'AT'), (270, 'AAAT'), (281, 'AAT'), (403, 'AT'), (438, 'AT'), (508, 'AAT'), (511, 'AAT'), (531, 'AAAT'), (539, 'AT'), (566, 'AAT'), (580, 'AAAT'), (592, 'AAT'), (618, 'AAAAT'), (633, 'AAT'), (658, 'AT'), (690, 'AT'), (743, 'AT'), (832, 'AT'), (847, 'AT'), (855, 'AT'), (864, 'AT'), (874, 'AAAT'), (878, 'AT'), (896, 'AAAT'), (904, 'AT'), (935, 'AT'), (937, 'AT'), (942, 'AT'), (951, 'AT'), (953, 'AT'), (974, 'AAT'), (978, 'AAAT'), (988, 'AAAAT'), (1015, 'AT'), (1022, 'AT'), (1030, 'AT'), (1045, 'AAT'), (1090, 'AAT'), (1095, 'AAT')]\n"
          ],
          "name": "stdout"
        }
      ]
    }
  ]
}