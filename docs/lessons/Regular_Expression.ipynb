{
  "nbformat": 4,
  "nbformat_minor": 0,
  "metadata": {
    "colab": {
      "name": "Regular Expression.ipynb",
      "provenance": [],
      "collapsed_sections": [],
      "include_colab_link": true
    },
    "kernelspec": {
      "name": "python3",
      "display_name": "Python 3"
    }
  },
  "cells": [
    {
      "cell_type": "markdown",
      "metadata": {
        "id": "view-in-github",
        "colab_type": "text"
      },
      "source": [
        "<a href=\"https://colab.research.google.com/github/Tycour/crisanti-toolshed/blob/main/docs/lessons/Regular_Expression.ipynb\" target=\"_parent\"><img src=\"https://colab.research.google.com/assets/colab-badge.svg\" alt=\"Open In Colab\"/></a>"
      ]
    },
    {
      "cell_type": "markdown",
      "metadata": {
        "id": "b3ArXd-4WTOx"
      },
      "source": [
        "Documentation: https://docs.python.org/3/howto/regex.html\n",
        "Video: https://youtu.be/yAeZD-MzBVY\n",
        "\n",
        "# Regular Expression (RegEx)\n",
        "\n",
        "Regular expressions are essentially a tiny, highly specialized programming language embedded inside Python and made available through the `re` module.\n",
        "\n",
        "Using this little language, you specify the rules for the set of possible strings that you want to match; this set might contain English sentences, or e-mail addresses, or anything you like.\n",
        "\n",
        "You can then ask questions such as “Does this string match the pattern?”, or “Is there a match for the pattern anywhere in this string?”. You can also use REs to modify a string or to split it apart in various ways.\n",
        "\n",
        "To use it in your code first import the official module:\n",
        "```\n",
        "import re\n",
        "```\n",
        "\n",
        "OR a slightly tweaked version with enhanced functionalities:\n",
        "```\n",
        "import regex\n",
        "```\n",
        "\n",
        "# Simple real life examples\n",
        "\n",
        "* Find all countries that end in a unique letter\n",
        "* Keep only email addresses which contain first and last name of an author on paper\n",
        "* Find all PAM motifs in a given gene\n",
        "* Codon optimisation"
      ]
    },
    {
      "cell_type": "markdown",
      "metadata": {
        "id": "vKTVHZ48knea"
      },
      "source": [
        "# RegEx Functions"
      ]
    },
    {
      "cell_type": "markdown",
      "metadata": {
        "id": "H0VMKI8jDVsm"
      },
      "source": [
        "`search('pattern', string)` - Searches the string for a match, and returns a `Match object` if there is a match.\n",
        "\n",
        "If there is more than one match, only the first occurrence of the match will be returned.\n",
        "\n",
        "If no matches are found, the value None is returned."
      ]
    },
    {
      "cell_type": "code",
      "metadata": {
        "id": "1GX-UZMjEYrR",
        "colab": {
          "base_uri": "https://localhost:8080/",
          "height": 34
        },
        "outputId": "2dd7e0df-6125-48b5-8273-41546c4f1835"
      },
      "source": [
        "import regex as re\n",
        "from country_list import countries_for_language\n",
        "\n",
        "countries_dict = dict(countries_for_language('en'))\n",
        "countries_list = list(countries_dict.values())\n",
        "\n",
        "# Example: find countries that end in the letter 'k'\n",
        "for country in countries_list:\n",
        "  if re.search('k$', country):\n",
        "    print(country)"
      ],
      "execution_count": null,
      "outputs": [
        {
          "output_type": "stream",
          "text": [
            "Denmark\n"
          ],
          "name": "stdout"
        }
      ]
    },
    {
      "cell_type": "code",
      "metadata": {
        "id": "0lHxuvnEidg3",
        "colab": {
          "base_uri": "https://localhost:8080/",
          "height": 51
        },
        "outputId": "a2818900-0873-4d7d-c911-1e127645b8c9"
      },
      "source": [
        "seq = 'AGCTGATCGTATCATGGATCCGGCTAATGCCTAGCTTAGTTCAGTTAATG'\n",
        "\n",
        "if re.search('ATG', seq):\n",
        "  print('seq has a start codon')\n",
        "  result = re.search('ATG', seq)\n",
        "  print(\"Start codon's position is:\", result.start())"
      ],
      "execution_count": null,
      "outputs": [
        {
          "output_type": "stream",
          "text": [
            "seq has a start codon\n",
            "Start codon's position is: 13\n"
          ],
          "name": "stdout"
        }
      ]
    },
    {
      "cell_type": "markdown",
      "metadata": {
        "id": "-cxzuctyEegV"
      },
      "source": [
        "`split('pattern', string)` - Returns a list where the string has been split at each match."
      ]
    },
    {
      "cell_type": "code",
      "metadata": {
        "id": "JduqzUxEE9Dd",
        "colab": {
          "base_uri": "https://localhost:8080/",
          "height": 34
        },
        "outputId": "2068b144-84c7-44c5-8c1a-574c4fb7656f"
      },
      "source": [
        "sentence = 'Coding is silly'\n",
        "\n",
        "words = ' '.split(sentence)\n",
        "\n",
        "print(words)"
      ],
      "execution_count": null,
      "outputs": [
        {
          "output_type": "stream",
          "text": [
            "['Coding', 'is', 'silly']\n"
          ],
          "name": "stdout"
        }
      ]
    },
    {
      "cell_type": "code",
      "metadata": {
        "id": "yHbzn7O8j6vg",
        "colab": {
          "base_uri": "https://localhost:8080/",
          "height": 34
        },
        "outputId": "93eee56b-4fea-4f7a-9441-2161ed8bcc96"
      },
      "source": [
        "seq = 'CCGATGCATGCC'\n",
        "\n",
        "split_pieces = re.split('ATG', seq)\n",
        "print(split_pieces)"
      ],
      "execution_count": null,
      "outputs": [
        {
          "output_type": "stream",
          "text": [
            "['CCG', 'C', 'CC']\n"
          ],
          "name": "stdout"
        }
      ]
    },
    {
      "cell_type": "markdown",
      "metadata": {
        "id": "-7DTa020ElOb"
      },
      "source": [
        "`sub('pattern', 'substitute', string)` - Replaces one or many matches of `pattern` in `string` with `substitute`"
      ]
    },
    {
      "cell_type": "code",
      "metadata": {
        "id": "pMQ7i03zky3z",
        "colab": {
          "base_uri": "https://localhost:8080/",
          "height": 34
        },
        "outputId": "3fd68fe2-2676-40e5-d538-984e3596b5a7"
      },
      "source": [
        "DNA_seq = 'GATTACA'\n",
        "\n",
        "RNA_seq = re.sub('T', 'U', DNA_seq)\n",
        "\n",
        "print(RNA_seq)"
      ],
      "execution_count": null,
      "outputs": [
        {
          "output_type": "stream",
          "text": [
            "GAUUACA\n"
          ],
          "name": "stdout"
        }
      ]
    },
    {
      "cell_type": "markdown",
      "metadata": {
        "id": "vJZq1O_YJmcG"
      },
      "source": [
        "`findall('pattern', string)` - Returns a list of all matches of `pattern` in `string`\n",
        "\n",
        "The list contains the matches in the order they are found.\n",
        "\n",
        "If no matches are found, an empty list is returned."
      ]
    },
    {
      "cell_type": "code",
      "metadata": {
        "id": "d7ihYpQ3JpuC",
        "colab": {
          "base_uri": "https://localhost:8080/",
          "height": 34
        },
        "outputId": "93953213-584c-4ce6-a350-24152e0562a8"
      },
      "source": [
        "import regex as re\n",
        "\n",
        "seq = 'ACGGTGCAGCGGTGGCTTGACGAACGG'\n",
        "\n",
        "pams = re.findall('.GG', seq, overlapped=True) # '.' finds any character which happens to be the same as searching for 'N' in DNA\n",
        "\n",
        "print(pams)"
      ],
      "execution_count": null,
      "outputs": [
        {
          "output_type": "stream",
          "text": [
            "['CGG', 'CGG', 'TGG', 'CGG']\n"
          ],
          "name": "stdout"
        }
      ]
    },
    {
      "cell_type": "markdown",
      "metadata": {
        "id": "kQ-pgGTfJqWa"
      },
      "source": [
        "`finditer('pattern', string)` - Returns an iterator yielding `Match objects` over all non-overlapping matches for the RE `pattern` in `string`.\n",
        "\n",
        "The string is scanned left-to-right, and matches are returned in the order found."
      ]
    },
    {
      "cell_type": "code",
      "metadata": {
        "id": "6AsDVrZXL15r",
        "colab": {
          "base_uri": "https://localhost:8080/"
        },
        "outputId": "28055915-3896-45e9-dadd-f6dd46c9e940"
      },
      "source": [
        "import regex as re\n",
        "motif = '[AT]GATA[GA]' # Trying to find a transcription factor ('GATA' box) with a specific pattern\n",
        "                       # Brackets '[]' denote the instruction for RegEx to find any characters within the brackets at that position in the motif.\n",
        "\n",
        "from google.colab import drive\n",
        "drive.mount('/content/drive', force_remount=True)\n",
        " \n",
        "with open('/content/drive/My Drive/Coding club/_data/11_AGAP004050.txt') as file:\n",
        "  for seq in file:\n",
        "    dsx_seq = seq\n",
        "\n",
        "# pams = re.finditer(motif, seq, overlapped=True)\n",
        "# for pam in pams:\n",
        "#   print(pam.group()) # Prints the actual motif it finds\n",
        "\n",
        "def find_PAMs(motif, sequence):\n",
        "  pams = re.finditer(motif, sequence, overlapped=True)\n",
        "  pam_tuple = [(pam.start(), pam.group()) for pam in pams]\n",
        "  return pam_tuple\n",
        "\n",
        "# Show first 20 for convenience\n",
        "print(find_PAMs(motif, dsx_seq)[:19])"
      ],
      "execution_count": 5,
      "outputs": [
        {
          "output_type": "stream",
          "text": [
            "Mounted at /content/drive\n",
            "[(537, 'AGATAG'), (688, 'TGATAG'), (741, 'TGATAA'), (1361, 'AGATAG'), (1593, 'AGATAA'), (2087, 'AGATAA'), (2960, 'AGATAA'), (3536, 'AGATAA'), (5642, 'TGATAA'), (9615, 'AGATAA'), (11686, 'AGATAG'), (12890, 'TGATAG'), (13965, 'AGATAG'), (14454, 'TGATAA'), (14505, 'TGATAA'), (18552, 'AGATAA'), (19567, 'TGATAG'), (20321, 'AGATAA'), (25461, 'TGATAA')]\n"
          ],
          "name": "stdout"
        }
      ]
    },
    {
      "cell_type": "code",
      "metadata": {
        "id": "0mII0xOGpirL",
        "colab": {
          "base_uri": "https://localhost:8080/"
        },
        "outputId": "4d694434-f7d0-44b8-b68b-dea1cb123bb9"
      },
      "source": [
        "import re\n",
        "from google.colab import drive\n",
        "drive.mount('/content/drive', force_remount=True)\n",
        " \n",
        "with open('/content/drive/My Drive/Coding club/_data/11_AGAP004050.txt') as file:\n",
        "  for seq in file:\n",
        "    dsx_seq = seq\n",
        "\n",
        "def find_pams(seq, pam):\n",
        "  iupac_dict = {\n",
        "      'A': 'A',\n",
        "      'C': 'C',\n",
        "      'G': 'G',\n",
        "      'T': 'T',\n",
        "      'R': '[AG]',\n",
        "      'Y': '[CT]',\n",
        "      'S': '[GC]',\n",
        "      'W': '[AT]',\n",
        "      'K': '[GT]',\n",
        "      'M': '[AC]',\n",
        "      'B': '[CGT]',\n",
        "      'D': '[AGT]',\n",
        "      'H': '[ACT]',\n",
        "      'V': '[ACG]',\n",
        "      'N': '[ACGT]'}\n",
        "  iupac_pam = ''.join([iupac_dict[letter] for letter in pam])\n",
        "\n",
        "  pams = [(m.start(), m.group()) for m in re.finditer(iupac_pam, seq) if m.start() - 40 > 0 and m.end() + 40 < len(seq)] # 40 is an arbitrary number we used to avoid guides that were too close to the ends of sequences.\n",
        "\n",
        "  return pams\n",
        "\n",
        "pam = 'BGG'\n",
        "\n",
        "# Show first 10 for convenience\n",
        "print(find_pams(dsx_seq, pam)[:9])"
      ],
      "execution_count": 2,
      "outputs": [
        {
          "output_type": "stream",
          "text": [
            "Mounted at /content/drive\n",
            "[(44, 'TGG'), (50, 'CGG'), (61, 'CGG'), (183, 'CGG'), (196, 'TGG'), (205, 'CGG'), (216, 'TGG'), (224, 'CGG'), (309, 'CGG')]\n"
          ],
          "name": "stdout"
        }
      ]
    }
  ]
}