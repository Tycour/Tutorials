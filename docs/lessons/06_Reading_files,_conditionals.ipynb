{
  "nbformat": 4,
  "nbformat_minor": 0,
  "metadata": {
    "colab": {
      "name": "06 Reading files, conditionals",
      "provenance": [],
      "collapsed_sections": [],
      "include_colab_link": true
    },
    "kernelspec": {
      "name": "python3",
      "display_name": "Python 3"
    }
  },
  "cells": [
    {
      "cell_type": "markdown",
      "metadata": {
        "id": "view-in-github",
        "colab_type": "text"
      },
      "source": [
        "<a href=\"https://colab.research.google.com/github/Tycour/crisanti-toolshed/blob/main/docs/lessons/06_Reading_files%2C_conditionals.ipynb\" target=\"_parent\"><img src=\"https://colab.research.google.com/assets/colab-badge.svg\" alt=\"Open In Colab\"/></a>"
      ]
    },
    {
      "cell_type": "markdown",
      "metadata": {
        "id": "qTMf8nnImWZH"
      },
      "source": [
        "# Iterators"
      ]
    },
    {
      "cell_type": "code",
      "metadata": {
        "id": "thBFmcquuOGK"
      },
      "source": [
        "from google.colab import drive\n",
        "drive.mount('/content/drive')"
      ],
      "execution_count": null,
      "outputs": []
    },
    {
      "cell_type": "markdown",
      "metadata": {
        "id": "Je1Qw769OE7h"
      },
      "source": [
        "Recording of this session: https://youtu.be/KP-Wf6B42Hg"
      ]
    },
    {
      "cell_type": "code",
      "metadata": {
        "id": "T6Q33Kc3dIxy",
        "colab": {
          "base_uri": "https://localhost:8080/",
          "height": 34
        },
        "outputId": "cebf90e0-62e4-4ca0-a9f9-dc70c0a1e3f6"
      },
      "source": [
        "'''\n",
        "- Iterator in Python is simply an object that can be iterated upon. \n",
        "- An object which will return data, one element at a time.\n",
        "- Elegant way of iterating is by using the for loop. \n",
        "- Using this, we can iterate over any object that can return an iterator\n",
        "- Iterator can be a list, string, file etc.\n",
        "'''\n",
        "\n",
        "sequences = ['TAGGGACATCGTCGTGAAAACTTCTTCTCCTTGTCAGTGTTGAGGAACTTTGCAATG', \n",
        "             'AACTTTGCAATGTTTGAAACATGGTTGCTATAAGTTTGATAAAGC',\n",
        "             'CATACACACACCTATTGCCCTTCATTGGCCTCATTCATCAAGCGGCACGGTCCGGATG',\n",
        "             'GTGAAAACTTCTTCTCCTTGTCAGTGTTGAGGAACTTTGCAATGT',\n",
        "             'TCGTGACAAGATTCTCCTGCAAACACACATACACGTGATTGCGT',\n",
        "             'last element']\n",
        "\n",
        "# for sequence in sequences:\n",
        "#     print(sequence)\n",
        "\n",
        "# enumerate\n",
        "# for n, sequence in enumerate(sequences):\n",
        "#     print(n, sequence)\n",
        "\n",
        "# # range\n",
        "# for number in range(0, 100, 2):\n",
        "#     print(number)\n",
        "\n",
        "# looping over strings\n",
        "# for nucl in 'GATCGATCGGCAA':\n",
        "#     print(nucl)\n",
        "\n",
        "numbers = list(range(0, 10))\n",
        "print(numbers)"
      ],
      "execution_count": null,
      "outputs": [
        {
          "output_type": "stream",
          "text": [
            "[0, 1, 2, 3, 4, 5, 6, 7, 8, 9]\n"
          ],
          "name": "stdout"
        }
      ]
    },
    {
      "cell_type": "markdown",
      "metadata": {
        "id": "D5ndAUauidft"
      },
      "source": [
        "## Reading from file\n",
        "\n",
        "We are currently on Google Servers so in order to access our data from our Drive folder, we need to mount it and authorise the server to have access."
      ]
    },
    {
      "cell_type": "code",
      "metadata": {
        "id": "q0dFrK0RlLTt",
        "colab": {
          "base_uri": "https://localhost:8080/",
          "height": 34
        },
        "outputId": "3092cd7b-097d-4b74-bdc4-04d8f00524be"
      },
      "source": [
        "from google.colab import drive\n",
        "drive.mount('/content/drive', force_remount=True)"
      ],
      "execution_count": null,
      "outputs": [
        {
          "output_type": "stream",
          "text": [
            "Mounted at /content/drive\n"
          ],
          "name": "stdout"
        }
      ]
    },
    {
      "cell_type": "markdown",
      "metadata": {
        "id": "4SaMgkVoNuW0"
      },
      "source": [
        "Files can be found in `_files/` in the CC Drive folder."
      ]
    },
    {
      "cell_type": "code",
      "metadata": {
        "id": "apwKmzH0iiGn"
      },
      "source": [
        "# The open() function returns a file object, which has a read() method for reading the content of the file\n",
        "sequences_file = open('/content/05_guide_sequences.txt')\n",
        "\n",
        "for line in sequences_file:\n",
        "    print(line)\n",
        "\n",
        "sequences_file.close()"
      ],
      "execution_count": null,
      "outputs": []
    },
    {
      "cell_type": "code",
      "metadata": {
        "id": "Z6HC0DGGs6cn"
      },
      "source": [
        "# READING -----\n",
        "with open('/content/05_sequences.txt') as sequences_file:\n",
        "    # here\n",
        "    for line in sequences_file:\n",
        "        seq = line.strip()\n",
        "        print(seq)\n",
        "    # here the file is open ---\n",
        "\n",
        "# file is closed \n",
        "# here file is already closed\n",
        "# no need to use sequence_file.close()\n"
      ],
      "execution_count": null,
      "outputs": []
    },
    {
      "cell_type": "code",
      "metadata": {
        "id": "bdT6K6IZqykM"
      },
      "source": [
        "# WRITING -----\n",
        "with open('/content/drive/My Drive/Shared/Coding club/_data/05_sequences.x.txt', 'w') as sequences_file:\n",
        "    # here\n",
        "    for i in range(0, 100):\n",
        "        sequences_file.write(f'line {i}\\n')\n",
        "    # here the file is open ---\n"
      ],
      "execution_count": null,
      "outputs": []
    },
    {
      "cell_type": "markdown",
      "metadata": {
        "id": "aMUHIXwomtJe"
      },
      "source": [
        "## Homework\n",
        "- Read sequences from file `_data/05_guide_sequences.txt`\n",
        "- For each sequence calculate GC content\n",
        "- Print line numbers of the sequences and their GC content\n",
        "\n",
        "### Extra\n",
        "- Print only line numbers and %GC content for sequences that are at least 20 bp long and have more than 40% GC content\n",
        "- Help: https://www.w3schools.com/python/python_conditions.asp"
      ]
    },
    {
      "cell_type": "markdown",
      "metadata": {
        "id": "VGpEdCJ8IpmU"
      },
      "source": [
        "## Conditionals\n",
        "\n",
        "![alt text](https://365datascience.com/wp-content/uploads/2018/07/image7-min-2.png)"
      ]
    },
    {
      "cell_type": "code",
      "metadata": {
        "id": "1iH2D8uVIo3o"
      },
      "source": [
        "\n",
        "if <expression>:\n",
        "    <statement/body>\n",
        "\n",
        "#- If <expr> is true (evaluates to a value that is “truthy”), then <statement> is executed. \n",
        "#- If <expr> is false, then <statement> is skipped over and not executed.\n",
        "\n",
        "#- Sometimes, you want to evaluate a condition and take one path if it is true but specify an alternative path if it is not. \n",
        "#- This is accomplished with an else clause:\n",
        "\n",
        "if <expression>:\n",
        "    <statement>\n",
        "else:\n",
        "    <alternative statement>\n",
        "\n",
        "#- Sometimes we also want to evaluate an alternative condition explicitly - we can use elif clause.\n",
        "\n",
        "if <expression>:\n",
        "    <statement>\n",
        "elif <expression>:\n",
        "    <explicit alternative statement>\n",
        "else:\n",
        "    <alternative statement>\n",
        "\n",
        "\n",
        "a = 7\n",
        "b = 10\n",
        "\n",
        "\n",
        "if a < b:\n",
        "    print(\"A is smaller than b\")\n"
      ],
      "execution_count": null,
      "outputs": []
    },
    {
      "cell_type": "code",
      "metadata": {
        "id": "_bBKamTFUlsI",
        "colab": {
          "base_uri": "https://localhost:8080/",
          "height": 69
        },
        "outputId": "94a0bde7-e6c7-4165-8633-9e7f81028ba8"
      },
      "source": [
        "a = 7\n",
        "b = 10\n",
        "c = 6\n",
        "\n",
        "if a != 5:\n",
        "  print('a is not five')\n",
        "\n",
        "if a == 7 and b == 10 and 5 < 10:\n",
        "    print('both conditions are True')\n",
        "\n",
        "# checking if element exists in a list\n",
        "\n",
        "'''\n",
        "a == 7 (True) and b == 10 (True) -> True and True -> True\n",
        "a == 6 (False) and b == 10 (True) -> False and True -> False\n",
        "'''\n",
        "\n",
        "if a < 10 or b > 12:\n",
        "    print('One condition is True')\n",
        "\n",
        "'''\n",
        "a < 10 (True) or b > 10 (False) -> True and False -> True\n",
        "'''\n",
        "\n",
        "#   True and (one of these need to be True)\n",
        "if a < b and b < c or a < c:\n",
        "    print('conditions met')  \n"
      ],
      "execution_count": null,
      "outputs": [
        {
          "output_type": "stream",
          "text": [
            "a is not five\n",
            "both conditions are true\n",
            "One condition is True\n"
          ],
          "name": "stdout"
        }
      ]
    },
    {
      "cell_type": "code",
      "metadata": {
        "id": "dzzwYoRgYAt1",
        "colab": {
          "base_uri": "https://localhost:8080/",
          "height": 51
        },
        "outputId": "34812d2e-14c5-403b-e102-5eea04deceef"
      },
      "source": [
        "# startswith -> methods\n",
        "# endswith\n",
        "sentence = 'Popeye is a sailor man.'\n",
        "\n",
        "if sentence.startswith('Pop'):\n",
        "    print('Sentence starts with Pop')\n",
        "\n",
        "if sentence.endswith('.'):\n",
        "    print('sentence ends with .')\n"
      ],
      "execution_count": null,
      "outputs": [
        {
          "output_type": "stream",
          "text": [
            "Sentence starts with Pop\n",
            "sentence ends with .\n"
          ],
          "name": "stdout"
        }
      ]
    },
    {
      "cell_type": "code",
      "metadata": {
        "id": "twSqVK3mYCmT",
        "colab": {
          "base_uri": "https://localhost:8080/",
          "height": 34
        },
        "outputId": "ee1f7916-f372-4e6d-ab24-e710d79f5eb1"
      },
      "source": [
        "if sentence.startswith('Pop'):\n",
        "    print('Sentence starts with Pop')\n",
        "else:\n",
        "    print('Sentence doesnt start with Drop')\n",
        "\n",
        "# elif (names)\n",
        "# else"
      ],
      "execution_count": null,
      "outputs": [
        {
          "output_type": "stream",
          "text": [
            "Sentence starts with Pop\n"
          ],
          "name": "stdout"
        }
      ]
    },
    {
      "cell_type": "code",
      "metadata": {
        "id": "4xI9u-skvw55",
        "colab": {
          "base_uri": "https://localhost:8080/",
          "height": 34
        },
        "outputId": "59bf0a47-f156-4439-83d1-96e2a97e6613"
      },
      "source": [
        "sentence = 'Popeye is a sailor man.'\n",
        "\n",
        "if not sentence.endswith('!'):\n",
        "    print('sentence doesnt end with exclamation mark')\n"
      ],
      "execution_count": null,
      "outputs": [
        {
          "output_type": "stream",
          "text": [
            "sentence doesnt end with exclamation mark\n"
          ],
          "name": "stdout"
        }
      ]
    },
    {
      "cell_type": "code",
      "metadata": {
        "id": "RJtMfUIRYInl",
        "colab": {
          "base_uri": "https://localhost:8080/",
          "height": 544
        },
        "outputId": "bc72131f-193b-411d-b136-71947b9c7e58"
      },
      "source": [
        "# Create a list of all numbers from 1 to 30 that can be divided by 3\n",
        "'''\n",
        "quotient = 7 // 3     # This is the integer division operator ->\n",
        "remainder = 7 % 3\n",
        "'''\n",
        "\n",
        "# define an empty list\n",
        "selected_numbers = []\n",
        "\n",
        "# create a range of numbers from 1 to 30 to iterate over\n",
        "for i in range(1, 31): \n",
        "\n",
        "    # check if reminder of division between i and 3 is 0 -> means that i is dividable by 3\n",
        "    if i % 3 == 0:\n",
        "        # append the number i to list selected_numbers\n",
        "        selected_numbers.append(i)\n",
        "        print(selected_numbers)\n",
        "    else:\n",
        "        print(i, 'is not dividable by 3')\n",
        "\n",
        "print(selected_numbers)\n",
        "\n",
        "\n"
      ],
      "execution_count": null,
      "outputs": [
        {
          "output_type": "stream",
          "text": [
            "1 is not dividable by 3\n",
            "2 is not dividable by 3\n",
            "[3]\n",
            "4 is not dividable by 3\n",
            "5 is not dividable by 3\n",
            "[3, 6]\n",
            "7 is not dividable by 3\n",
            "8 is not dividable by 3\n",
            "[3, 6, 9]\n",
            "10 is not dividable by 3\n",
            "11 is not dividable by 3\n",
            "[3, 6, 9, 12]\n",
            "13 is not dividable by 3\n",
            "14 is not dividable by 3\n",
            "[3, 6, 9, 12, 15]\n",
            "16 is not dividable by 3\n",
            "17 is not dividable by 3\n",
            "[3, 6, 9, 12, 15, 18]\n",
            "19 is not dividable by 3\n",
            "20 is not dividable by 3\n",
            "[3, 6, 9, 12, 15, 18, 21]\n",
            "22 is not dividable by 3\n",
            "23 is not dividable by 3\n",
            "[3, 6, 9, 12, 15, 18, 21, 24]\n",
            "25 is not dividable by 3\n",
            "26 is not dividable by 3\n",
            "[3, 6, 9, 12, 15, 18, 21, 24, 27]\n",
            "28 is not dividable by 3\n",
            "29 is not dividable by 3\n",
            "[3, 6, 9, 12, 15, 18, 21, 24, 27, 30]\n",
            "[3, 6, 9, 12, 15, 18, 21, 24, 27, 30]\n"
          ],
          "name": "stdout"
        }
      ]
    },
    {
      "cell_type": "markdown",
      "metadata": {
        "id": "VHmOhC6nYJUn"
      },
      "source": [
        "## Homework\n",
        "- Read sequences from file `_data/05_guide_sequences.txt`\n",
        "- For each sequence calculate GC content\n",
        "- Save only %GC content value to an empty list for sequences that are at least 20 bp long and have more than 40% GC content"
      ]
    },
    {
      "cell_type": "code",
      "metadata": {
        "id": "EkvPko08l6M2",
        "colab": {
          "base_uri": "https://localhost:8080/",
          "height": 351
        },
        "outputId": "6e943185-b2c8-40f6-d19c-bfa4ec3d977e"
      },
      "source": [
        "def calculate_GC(seq):\n",
        "  return (seq.count('G') + seq.count('C')) / len(seq) * 100\n",
        "\n",
        "selected_seq = []\n",
        "\n",
        "with open('/content/05_guide_sequences.txt') as sequences_file:\n",
        "  for line in sequences_file:\n",
        "    print(calculate_GC(line))\n",
        "    for line in sequences_file:\n",
        "      if calculate_GC(line) > 40 and len(line) > 20:\n",
        "        selected_seq.append(calculate_GC(line))\n",
        "\n",
        "print(selected_seq)"
      ],
      "execution_count": null,
      "outputs": [
        {
          "output_type": "error",
          "ename": "TypeError",
          "evalue": "ignored",
          "traceback": [
            "\u001b[0;31m---------------------------------------------------------------------------\u001b[0m",
            "\u001b[0;31mTypeError\u001b[0m                                 Traceback (most recent call last)",
            "\u001b[0;32m<ipython-input-77-ab9ae30d74cf>\u001b[0m in \u001b[0;36m<module>\u001b[0;34m()\u001b[0m\n\u001b[1;32m      6\u001b[0m \u001b[0;32mwith\u001b[0m \u001b[0mopen\u001b[0m\u001b[0;34m(\u001b[0m\u001b[0;34m'/content/05_guide_sequences.txt'\u001b[0m\u001b[0;34m)\u001b[0m \u001b[0;32mas\u001b[0m \u001b[0msequences_file\u001b[0m\u001b[0;34m:\u001b[0m\u001b[0;34m\u001b[0m\u001b[0;34m\u001b[0m\u001b[0m\n\u001b[1;32m      7\u001b[0m   \u001b[0;32mfor\u001b[0m \u001b[0mline\u001b[0m \u001b[0;32min\u001b[0m \u001b[0msequences_file\u001b[0m\u001b[0;34m:\u001b[0m\u001b[0;34m\u001b[0m\u001b[0;34m\u001b[0m\u001b[0m\n\u001b[0;32m----> 8\u001b[0;31m     \u001b[0mprint\u001b[0m\u001b[0;34m(\u001b[0m\u001b[0mcalculate_GC\u001b[0m\u001b[0;34m(\u001b[0m\u001b[0mline\u001b[0m\u001b[0;34m)\u001b[0m\u001b[0;34m)\u001b[0m\u001b[0;34m\u001b[0m\u001b[0;34m\u001b[0m\u001b[0m\n\u001b[0m\u001b[1;32m      9\u001b[0m     \u001b[0;32mfor\u001b[0m \u001b[0mline\u001b[0m \u001b[0;32min\u001b[0m \u001b[0msequences_file\u001b[0m\u001b[0;34m:\u001b[0m\u001b[0;34m\u001b[0m\u001b[0;34m\u001b[0m\u001b[0m\n\u001b[1;32m     10\u001b[0m       \u001b[0;32mif\u001b[0m \u001b[0mcalculate_GC\u001b[0m\u001b[0;34m(\u001b[0m\u001b[0mline\u001b[0m\u001b[0;34m)\u001b[0m \u001b[0;34m>\u001b[0m \u001b[0;36m40\u001b[0m \u001b[0;32mand\u001b[0m \u001b[0mlen\u001b[0m\u001b[0;34m(\u001b[0m\u001b[0mline\u001b[0m\u001b[0;34m)\u001b[0m \u001b[0;34m>\u001b[0m \u001b[0;36m20\u001b[0m\u001b[0;34m:\u001b[0m\u001b[0;34m\u001b[0m\u001b[0;34m\u001b[0m\u001b[0m\n",
            "\u001b[0;32m<ipython-input-77-ab9ae30d74cf>\u001b[0m in \u001b[0;36mcalculate_GC\u001b[0;34m(seq)\u001b[0m\n\u001b[1;32m      1\u001b[0m \u001b[0;32mdef\u001b[0m \u001b[0mcalculate_GC\u001b[0m\u001b[0;34m(\u001b[0m\u001b[0mseq\u001b[0m\u001b[0;34m)\u001b[0m\u001b[0;34m:\u001b[0m\u001b[0;34m\u001b[0m\u001b[0;34m\u001b[0m\u001b[0m\n\u001b[0;32m----> 2\u001b[0;31m   \u001b[0;32mreturn\u001b[0m \u001b[0;34m(\u001b[0m\u001b[0mseq\u001b[0m\u001b[0;34m.\u001b[0m\u001b[0mcount\u001b[0m\u001b[0;34m(\u001b[0m\u001b[0;34m'G'\u001b[0m\u001b[0;34m)\u001b[0m \u001b[0;34m+\u001b[0m \u001b[0mseq\u001b[0m\u001b[0;34m.\u001b[0m\u001b[0mcount\u001b[0m\u001b[0;34m(\u001b[0m\u001b[0;34m'C'\u001b[0m\u001b[0;34m)\u001b[0m\u001b[0;34m)\u001b[0m \u001b[0;34m/\u001b[0m \u001b[0mlen\u001b[0m\u001b[0;34m(\u001b[0m\u001b[0mseq\u001b[0m\u001b[0;34m)\u001b[0m \u001b[0;34m*\u001b[0m \u001b[0;36m100\u001b[0m\u001b[0;34m\u001b[0m\u001b[0;34m\u001b[0m\u001b[0m\n\u001b[0m\u001b[1;32m      3\u001b[0m \u001b[0;34m\u001b[0m\u001b[0m\n\u001b[1;32m      4\u001b[0m \u001b[0mselected_seq\u001b[0m \u001b[0;34m=\u001b[0m \u001b[0;34m[\u001b[0m\u001b[0;34m]\u001b[0m\u001b[0;34m\u001b[0m\u001b[0;34m\u001b[0m\u001b[0m\n\u001b[1;32m      5\u001b[0m \u001b[0;34m\u001b[0m\u001b[0m\n",
            "\u001b[0;31mTypeError\u001b[0m: 'str' object is not callable"
          ]
        }
      ]
    }
  ]
}