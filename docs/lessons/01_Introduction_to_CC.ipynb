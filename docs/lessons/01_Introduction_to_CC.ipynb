{
  "nbformat": 4,
  "nbformat_minor": 0,
  "metadata": {
    "kernelspec": {
      "display_name": "Python 3",
      "language": "python",
      "name": "python3"
    },
    "language_info": {
      "codemirror_mode": {
        "name": "ipython",
        "version": 3
      },
      "file_extension": ".py",
      "mimetype": "text/x-python",
      "name": "python",
      "nbconvert_exporter": "python",
      "pygments_lexer": "ipython3",
      "version": "3.7.6"
    },
    "colab": {
      "name": "01 Introduction to CC.ipynb",
      "provenance": [],
      "include_colab_link": true
    }
  },
  "cells": [
    {
      "cell_type": "markdown",
      "metadata": {
        "id": "view-in-github",
        "colab_type": "text"
      },
      "source": [
        "<a href=\"https://colab.research.google.com/github/Tycour/crisanti-toolshed/blob/main/docs/lessons/01_Introduction_to_CC.ipynb\" target=\"_parent\"><img src=\"https://colab.research.google.com/assets/colab-badge.svg\" alt=\"Open In Colab\"/></a>"
      ]
    },
    {
      "cell_type": "markdown",
      "metadata": {
        "id": "ULePlW3asC41"
      },
      "source": [
        "# Coding club"
      ]
    },
    {
      "cell_type": "code",
      "metadata": {
        "id": "Nml315Jw7HqI",
        "colab": {
          "base_uri": "https://localhost:8080/",
          "height": 36
        },
        "outputId": "6163776b-5656-4da7-82e7-65cae36d72d1"
      },
      "source": [
        "print(\"Hello world\")"
      ],
      "execution_count": null,
      "outputs": [
        {
          "output_type": "stream",
          "text": [
            "Hello world\n"
          ],
          "name": "stdout"
        }
      ]
    },
    {
      "cell_type": "markdown",
      "metadata": {
        "id": "blgCrud1Rdfv"
      },
      "source": [
        ""
      ]
    },
    {
      "cell_type": "markdown",
      "metadata": {
        "id": "8T7BQG9WsC42"
      },
      "source": [
        "We are going to learn how to use Pyhton programming language for data analysis. The focus of CC will be on learning by doing, you're going to be actively participating in the CC by writing your own code and running it on your computers.\n",
        "\n",
        "We are going to start with the basics and move to more challenging tasks. "
      ]
    },
    {
      "cell_type": "markdown",
      "metadata": {
        "id": "VXkdIO5osC43"
      },
      "source": [
        "## What is Python?\n",
        "Python is an interpreted, high-level, general purpose programming language. Let's break that down:\n",
        "\n",
        "- *Interpreted*: In most cases, machine-code is not generated from the source code in advance of the instructions being carried out (this process would be called compilation). Instead, an \"interpreter\" is used to read the source code as the code is executed to find out what instructions should be carried out next. The line between \"interpreted\" and \"compiled\" languages is not absolute and is becoming increasingly blurred. Any compiled language can be interpreted and any interpreted language can be compiled and it is becoming increasingly common for modern languages, including Python, to sit somewhere between these two extremes. However, Python is still classed as an \"interpreted\" language as this is historically how it as used and is the most common way it is used today.\n",
        "\n",
        "- *High-level*: Many detailed operations of the computer are hidden from the user and are not (easily) available. Instead, more general and abstracted commands are available. By contrast, low-level languages have much more direct control over the operations the computer performs. Machine-code is the lowest level language as each individual operation performed is represented. Generally, higher-level languages are slower but easier and quicker to write and read\n",
        "\n",
        "- *General purpose*: Python makes no assumptions about its intended usage and contains no application specific codes by default. By contrast, some languages have an intended area of application and contain many specialised features relating to this area but may be lacking features in others. For example, \"R\" is a programming language specialised for statistical analysis.\n",
        "\n",
        "Programming language: A set of rules determining how source code instructions will be translated in operations inside the computer."
      ]
    },
    {
      "cell_type": "markdown",
      "metadata": {
        "id": "jU7b_H5gsC44"
      },
      "source": [
        "## What happens when you run Python code?\n",
        "![Python execution](https://i1.wp.com/overiq.com/wp-content/uploads/2018/11/program-execution-by-compiler.png \"Python execution\")\n",
        "\n",
        "Compiler transforms Python code (high-level) into C code (low-level) and then into machine code that can be finally run on CPU."
      ]
    },
    {
      "cell_type": "markdown",
      "metadata": {
        "id": "H8uo5lSmsC45"
      },
      "source": [
        "## What is \"code\"?"
      ]
    },
    {
      "cell_type": "markdown",
      "metadata": {
        "id": "qIozIz5PsC45"
      },
      "source": [
        "`Writing and using custom code is an integral part of part of modern research. Simulation is a common tool use for predicting behaviour quicker and more cheaply and easily that an experiment. Even for experimental programs, custom code can be used to collect, analyse and display results. Code allows us to:\n",
        "\n",
        "- Automate laborious calculations\n",
        "- Predict behaviour\n",
        "- Rapidly iterate over a number of related cases\n",
        "- Can keep up with fast real-world behaviour and data gathering\n",
        "\n",
        "Imagine code being a set of instructions that can be understood by the computer. For example - we have a nucleotide sequence of a gene and we want to translate it to amino acid sequence. We all know how to write the recipe for that program:\n",
        "\n",
        "1. Take the first 3 nucleotides of the DNA sequence (first codon)\n",
        "2. Change T->U (mRNA)\n",
        "3. Look up in the codon table which amino acid is coded by the codon\n",
        "4. Add the coded amino acid to the sequence\n",
        "5. Take the second codon from the sequence\n",
        "6. ....\n",
        "\n",
        "You can see that the same operation needs to be done for the whole nucleotide sequence, from the first codon to the last. If we did that by hand, one codon at the time, it would take us ages to get through a gene that is a few kb in size. This is where coding can come in handy."
      ]
    },
    {
      "cell_type": "markdown",
      "metadata": {
        "id": "GcmMF2IisC46"
      },
      "source": [
        "## Jupyter"
      ]
    },
    {
      "cell_type": "markdown",
      "metadata": {
        "id": "Xg0G4s7QmG0x"
      },
      "source": [
        "\n"
      ]
    },
    {
      "cell_type": "code",
      "metadata": {
        "id": "3xPAzntWtCPP"
      },
      "source": [
        "\n",
        "\n"
      ],
      "execution_count": null,
      "outputs": []
    },
    {
      "cell_type": "markdown",
      "metadata": {
        "id": "XHFv6Ed-tU0_"
      },
      "source": [
        ""
      ]
    },
    {
      "cell_type": "markdown",
      "metadata": {
        "id": "5j_lqaVrmGP9"
      },
      "source": [
        ""
      ]
    },
    {
      "cell_type": "markdown",
      "metadata": {
        "id": "-_crKryvMiaa"
      },
      "source": [
        ""
      ]
    },
    {
      "cell_type": "code",
      "metadata": {
        "id": "JlGzyND7Mi2m",
        "colab": {
          "base_uri": "https://localhost:8080/",
          "height": 36
        },
        "outputId": "736916de-f62f-4a89-ec52-21fc98c8abc4"
      },
      "source": [
        "print(\"Hello\")"
      ],
      "execution_count": null,
      "outputs": [
        {
          "output_type": "stream",
          "text": [
            "Hello\n"
          ],
          "name": "stdout"
        }
      ]
    },
    {
      "cell_type": "code",
      "metadata": {
        "id": "u3fm-ldRQhIO"
      },
      "source": [
        ""
      ],
      "execution_count": null,
      "outputs": []
    },
    {
      "cell_type": "markdown",
      "metadata": {
        "id": "DE8TPUglsC46"
      },
      "source": [
        "Jupyter notebooks is an open-source web-based interactive development \n",
        "\n",
        "1.   List item\n",
        "2.   List item\n",
        "\n",
        "encironment which runs in your browser. It allows a combination of text written in a html-like format, such as the block of text you're reading right now, and inline code, tools and outputs such as this one:\n",
        "\n"
      ]
    },
    {
      "cell_type": "code",
      "metadata": {
        "id": "UYi7F7fnsC47",
        "colab": {
          "base_uri": "https://localhost:8080/",
          "height": 36
        },
        "outputId": "4c062704-3f2e-438c-8651-e2ef1bac3bb4"
      },
      "source": [
        "print('Hello CODING CLUB!')\n"
      ],
      "execution_count": null,
      "outputs": [
        {
          "output_type": "stream",
          "text": [
            "Hello CODING CLUB!\n"
          ],
          "name": "stdout"
        }
      ]
    },
    {
      "cell_type": "markdown",
      "metadata": {
        "id": "C5KgLwFLLDlD"
      },
      "source": [
        "This was our first line of code! Yay"
      ]
    },
    {
      "cell_type": "markdown",
      "metadata": {
        "id": "DjcYAZLZsC5A"
      },
      "source": [
        "Jupyter allows you to write, annotate and execute your code in a browser."
      ]
    },
    {
      "cell_type": "code",
      "metadata": {
        "id": "3w-tTJaesC5A"
      },
      "source": [
        ""
      ],
      "execution_count": null,
      "outputs": []
    }
  ]
}