{
  "nbformat": 4,
  "nbformat_minor": 0,
  "metadata": {
    "colab": {
      "name": "11_Finding Motifs Exercise.ipynb",
      "provenance": [],
      "collapsed_sections": [],
      "include_colab_link": true
    },
    "kernelspec": {
      "name": "python3",
      "display_name": "Python 3"
    }
  },
  "cells": [
    {
      "cell_type": "markdown",
      "metadata": {
        "id": "view-in-github",
        "colab_type": "text"
      },
      "source": [
        "<a href=\"https://colab.research.google.com/github/Tycour/crisanti-toolshed/blob/main/docs/lessons/11_Finding_Motifs_Exercise.ipynb\" target=\"_parent\"><img src=\"https://colab.research.google.com/assets/colab-badge.svg\" alt=\"Open In Colab\"/></a>"
      ]
    },
    {
      "cell_type": "markdown",
      "metadata": {
        "id": "2ZvHE8nOgytt"
      },
      "source": [
        "## Recording Link: https://youtu.be/oiMi8MNfcz4\n",
        "\n",
        "\n",
        "# **Finding Motifs in DNA** (http://rosalind.info/problems/subs/)\n",
        "\n",
        "Given two strings `s` and `t`, `t` is a substring of `s` if `t` is contained as a contiguous collection of symbols in `s` (as a result, `t` must be no longer than `s`).\n",
        "\n",
        "In bioinformatics terms, a motif is a commonly shared interval in DNA. So trying to find a given motif in DNA comes down to searching a string for a given substring.\n"
      ]
    },
    {
      "cell_type": "code",
      "metadata": {
        "id": "d9DSI6cF0NX7",
        "colab": {
          "base_uri": "https://localhost:8080/",
          "height": 187
        },
        "outputId": "addf34aa-0078-4f20-8423-af93ff0f05e7"
      },
      "source": [
        "# Strings are indexed as though they were a list of characters such that:\n",
        "seq_1 = 'GCTA'\n",
        "for nt in seq_1:\n",
        "  print(nt)\n",
        "\n",
        "# is functionally the same as:\n",
        "seq_2 = ['G','C','T','A']\n",
        "for nt in seq_2:\n",
        "  print(nt)\n",
        "\n",
        "print('Are these exactly the same thing to you, Oh Mighty Python?')\n",
        "if seq_1 == seq_2:\n",
        "  print('Computer says Yes')\n",
        "else:\n",
        "  print('Computer Says NO')"
      ],
      "execution_count": null,
      "outputs": [
        {
          "output_type": "stream",
          "text": [
            "G\n",
            "C\n",
            "T\n",
            "A\n",
            "G\n",
            "C\n",
            "T\n",
            "A\n",
            "Are these exactly the same thing to you, Oh Mighty Python?\n",
            "Computer Says NO\n"
          ],
          "name": "stdout"
        }
      ]
    },
    {
      "cell_type": "markdown",
      "metadata": {
        "id": "cJXoG_MOkNI5"
      },
      "source": [
        "Python's 0-based indexation means that the you subtract 1 to our 1-based conception of positionality:\n",
        "\n",
        "e.g. In the sequence, `'GATTACA'`, the position of all `'A'` are 2, 5, and 7.\n",
        "\n",
        "But in Python that list would be 1, 4, and 6 respectively."
      ]
    },
    {
      "cell_type": "code",
      "metadata": {
        "id": "905o-jBX_qzo",
        "colab": {
          "base_uri": "https://localhost:8080/",
          "height": 119
        },
        "outputId": "44549d4b-7c1a-4c43-c633-d90a34681a26"
      },
      "source": [
        "i = 0\n",
        "for nt in 'GATTACA':\n",
        "  if nt == 'A':\n",
        "    print(i)\n",
        "  i += 1\n",
        "\n",
        "for i, nt in enumerate('GATTACA'):\n",
        "  if nt == 'A':\n",
        "    print(i)\n",
        "\n",
        "# 'x += y' means adding y to x. It is the same as writing 'x = y + x'."
      ],
      "execution_count": null,
      "outputs": [
        {
          "output_type": "stream",
          "text": [
            "1\n",
            "4\n",
            "6\n",
            "1\n",
            "4\n",
            "6\n"
          ],
          "name": "stdout"
        }
      ]
    },
    {
      "cell_type": "code",
      "metadata": {
        "id": "0rfP-Re7DdmA"
      },
      "source": [
        "# Bit of revision about extracting elements you already know\n",
        "seq = 'GATTACA'\n",
        "\n",
        "# What do these return?\n",
        "# print(seq[0])\n",
        "# print(seq[:3])\n",
        "# print(seq[3:])\n",
        "# print(seq[::-1])"
      ],
      "execution_count": null,
      "outputs": []
    },
    {
      "cell_type": "markdown",
      "metadata": {
        "id": "3QwzbvZWk4gm"
      },
      "source": [
        "A substring of a string can thus be represented as `string[x:y]`, where `x` gives the starting index, and y the index of the character following the end of the substring.\n",
        "\n",
        "i.e. `string[x:y]` will return a substring from `string[x]` up to, but not including, `string[y]`"
      ]
    },
    {
      "cell_type": "code",
      "metadata": {
        "id": "UwooEUBrAOtu",
        "colab": {
          "base_uri": "https://localhost:8080/",
          "height": 68
        },
        "outputId": "2644ab1f-700e-418c-d4d9-5dc2adf4dc71"
      },
      "source": [
        "seq = 'GATTACA'\n",
        "\n",
        "print(seq[1:4]) # Prints a substring from indices 1 to 3\n",
        "print(seq[1]) # Prints the single character substring of index 1\n",
        "print(seq[4]) # Prints the single character substring of index 4"
      ],
      "execution_count": null,
      "outputs": [
        {
          "output_type": "stream",
          "text": [
            "ATT\n",
            "A\n",
            "A\n"
          ],
          "name": "stdout"
        }
      ]
    },
    {
      "cell_type": "markdown",
      "metadata": {
        "id": "A3bL3hScqQ3f"
      },
      "source": [
        "# Exercise\n",
        "\n",
        "Given: Two DNA strings `seq` and `motif`.\n",
        "\n",
        "Return: All locations of `motif` as a substring of `seq`.\n",
        "\n",
        "\n",
        "---\n",
        "\n",
        "\n",
        "Sample Dataset:\n",
        "```\n",
        "GATATATGCATATACTT\n",
        "ATAT\n",
        "```\n",
        "Sample Output:\n",
        "```\n",
        "[1, 3, 9]\n",
        "```"
      ]
    },
    {
      "cell_type": "code",
      "metadata": {
        "id": "IldP8EGoEgBh",
        "colab": {
          "base_uri": "https://localhost:8080/",
          "height": 34
        },
        "outputId": "17fe042b-59c1-471d-867c-7bcd04d23190"
      },
      "source": [
        "# Given a string, 'seq', and a substring, 'motif':\n",
        "seq = 'GATATATGCATATACTT'\n",
        "motif = 'ATAT'\n",
        "\n",
        "# for i, nt in enumerate(seq):\n",
        "#   print(i, '-->', nt, '-->', seq[i:i+4])\n",
        "\n",
        "def find_motifs(seq, motif):\n",
        "  indices = []\n",
        "  for i, nt in enumerate(seq):\n",
        "    if seq[i:i+len(motif)] == motif:\n",
        "      indices.append(i)\n",
        "  return indices\n",
        "\n",
        "test = find_motifs(seq, motif)\n",
        "print(test)"
      ],
      "execution_count": null,
      "outputs": [
        {
          "output_type": "stream",
          "text": [
            "[1, 3, 9]\n"
          ],
          "name": "stdout"
        }
      ]
    },
    {
      "cell_type": "code",
      "metadata": {
        "id": "owbp1tjA5Ew9",
        "colab": {
          "base_uri": "https://localhost:8080/",
          "height": 34
        },
        "outputId": "b0fdefc9-a6f6-48ff-9248-9acb762bb1e9"
      },
      "source": [
        "def double(x):\n",
        "  return x*2\n",
        "\n",
        "\n",
        "print([double(x) for x in range(10)])"
      ],
      "execution_count": null,
      "outputs": [
        {
          "output_type": "stream",
          "text": [
            "[0, 2, 4, 6, 8, 10, 12, 14, 16, 18]\n"
          ],
          "name": "stdout"
        }
      ]
    },
    {
      "cell_type": "markdown",
      "metadata": {
        "id": "MIEXwn5_prTt"
      },
      "source": [
        "# Introduction to Regular Expression (ReGex)\n",
        "\n",
        "A RegEx, or Regular Expression, is a sequence of characters that forms a search pattern.\n",
        "\n",
        "RegEx can be used to check if a string contains the specified search pattern.\n",
        "\n",
        "Searches with RegEx return a `Match` object containing information about the search and the result. These include such things as the start and end indices of each match."
      ]
    },
    {
      "cell_type": "code",
      "metadata": {
        "id": "tlJLaEKguhcK",
        "colab": {
          "base_uri": "https://localhost:8080/",
          "height": 34
        },
        "outputId": "f17c0939-9957-4301-8c80-17ae68d1825e"
      },
      "source": [
        "import regex as re # 'import [module] as [x]' allows you to call the module by any name 'x'\n",
        "\n",
        "seq = 'GATATATGCATATACTT'\n",
        "motif = 'ATAT'\n",
        "\n",
        "# m = re.findall(motif, seq, overlapped=True)\n",
        "\n",
        "# print(m)\n",
        "\n",
        "matches = re.finditer(motif, seq, overlapped=True)\n",
        "\n",
        "indices=[]\n",
        "for match in matches:\n",
        "  indices.append(match.start())\n",
        "\n",
        "print(indices)\n",
        "# It gets better, but wait until next week!"
      ],
      "execution_count": null,
      "outputs": [
        {
          "output_type": "stream",
          "text": [
            "[1, 3, 9]\n"
          ],
          "name": "stdout"
        }
      ]
    },
    {
      "cell_type": "markdown",
      "metadata": {
        "id": "dqu-V9rkAVzM"
      },
      "source": [
        "# If we have time - List Comprehensions\n",
        "\n",
        "List comprehensions provide a concise way to create lists. \n",
        "\n",
        "It consists of brackets containing an expression followed by a `for` clause, then zero or more `for` or `if` clauses. The expressions can be anything meaning you can put in all kinds of objects in lists.\n",
        "\n",
        "The result will be a new list resulting from evaluating the expression in the\n",
        "context of the `for` and `if` clauses which follow it. \n",
        "\n",
        "The list comprehension always returns a result list.\n",
        "\n",
        "\n",
        "---\n",
        "\n",
        "\n",
        "\n",
        "Basically, this:\n",
        "```\n",
        "new_list = []\n",
        "for i in old_list:\n",
        "    if filter(i):\n",
        "        new_list.append(expressions(i))\n",
        "```\n",
        "\n",
        "Becomes this:\n",
        "```\n",
        "new_list = [expression(i) for i in old_list if filter(i)]\n",
        "```"
      ]
    },
    {
      "cell_type": "code",
      "metadata": {
        "id": "2XYeL5dyCqxa"
      },
      "source": [
        "import regex as re\n",
        "\n",
        "seq = 'GATATATGCATATACTT'\n",
        "motif = 'ATAT'\n",
        "\n",
        "m = re.finditer(motif, seq, overlapped=True)\n",
        "\n",
        "# Go on then... You thought this code was gonna write itself?\n",
        "indices = [match.start() for match in matches]\n",
        "\n",
        "# Example with find_motif()\n",
        "def find_motifs(seq, motif):\n",
        "  indices = [i for i,nt in enumerate(seq) if seq[i:i+len(motif)] == motif]\n",
        "  return indices\n"
      ],
      "execution_count": null,
      "outputs": []
    },
    {
      "cell_type": "markdown",
      "metadata": {
        "id": "SmMyyHUOJ2oc"
      },
      "source": [
        "# Homework\n",
        "\n",
        "* Read dsx sequence from `AGAP004050.txt` in `_data` folder\n",
        "* Write function to find all instances of `'GG'` and their corresponding index\n",
        "* Return a list of tuples containing:\n",
        "\n",
        "\n",
        "1.   Index of each `'GG'`\n",
        "2.   Three-nucleotide PAM (i.e. the nucleotide preceding, as well as, `'GG'`)\n",
        "\n",
        "Sample Output:\n",
        "```\n",
        "[(45, 'AGG'), (87, 'TGG'), (152, 'GGG') ...]\n",
        "```\n",
        "\n",
        "# Extra Points\n",
        "\n",
        "* Include PAMs on negative strand (include a third category to your tuple)\n",
        "\n",
        "\n",
        "---\n",
        "\n",
        "\n",
        "```\n",
        "from google.colab import drive\n",
        "drive.mount('/content/drive', force_remount=True)\n",
        "\n",
        "with open('/content/drive/My Drive/Coding club/_data/11_AGAP004050.txt') as file:\n",
        "  for seq in file:\n",
        "    dsx_seq = seq\n",
        "```"
      ]
    }
  ]
}