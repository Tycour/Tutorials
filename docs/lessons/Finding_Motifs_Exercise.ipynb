{
  "nbformat": 4,
  "nbformat_minor": 0,
  "metadata": {
    "colab": {
      "name": "Finding Motifs Exercise.ipynb",
      "provenance": [],
      "collapsed_sections": [],
      "authorship_tag": "ABX9TyMgWm+iJWoWo8K/qG4RTgyP",
      "include_colab_link": true
    },
    "kernelspec": {
      "name": "python3",
      "display_name": "Python 3"
    }
  },
  "cells": [
    {
      "cell_type": "markdown",
      "metadata": {
        "id": "view-in-github",
        "colab_type": "text"
      },
      "source": [
        "<a href=\"https://colab.research.google.com/github/Tycour/crisanti-toolshed/blob/main/docs/lessons/Finding_Motifs_Exercise.ipynb\" target=\"_parent\"><img src=\"https://colab.research.google.com/assets/colab-badge.svg\" alt=\"Open In Colab\"/></a>"
      ]
    },
    {
      "cell_type": "code",
      "metadata": {
        "id": "d9DSI6cF0NX7",
        "colab": {
          "base_uri": "https://localhost:8080/",
          "height": 170
        },
        "outputId": "c860e0af-0237-4fae-a7dc-34e2265482a6"
      },
      "source": [
        "'''\n",
        "Motifs\n",
        "- A commonly shared interval in DNA\n",
        "- In bioinformatics terms: searching a string for a given substring.\n",
        "'''\n",
        "\n",
        "# Strings are indexed as though they were a list of characters such that:\n",
        "seq_1 = 'GCTA'\n",
        "for nt in seq_1:\n",
        "  print(nt)\n",
        "\n",
        "# is functionally the same as:\n",
        "seq_2 = ['G','C','T','A']\n",
        "for nt in seq_2:\n",
        "  print(nt)\n",
        "\n",
        "# But they are still considered different variables by Python.\n",
        "print('Are both of these the same to you, Oh Mighty Python?', seq_1 == seq_2)"
      ],
      "execution_count": null,
      "outputs": [
        {
          "output_type": "stream",
          "text": [
            "G\n",
            "C\n",
            "T\n",
            "A\n",
            "G\n",
            "C\n",
            "T\n",
            "A\n",
            "Are both of these the same to you, Oh Mighty Python? False\n"
          ],
          "name": "stdout"
        }
      ]
    },
    {
      "cell_type": "code",
      "metadata": {
        "id": "905o-jBX_qzo",
        "colab": {
          "base_uri": "https://localhost:8080/",
          "height": 119
        },
        "outputId": "597176e6-6a41-4848-91e9-c047145c4867"
      },
      "source": [
        "# Python 0-based indexation means that the you subtract 1 to our 1-based conception of positionality:\n",
        "# e.g. In the sequence, 'GATTACA', the position of all 'A's are 2, 5, and 7.\n",
        "# But in Python that list would be 1, 3, and 5 respectively.\n",
        "\n",
        "i = 0\n",
        "for nt in 'GATTACA':\n",
        "  if nt == 'A':\n",
        "    print(i)\n",
        "  i += 1\n",
        "\n",
        "for i, nt in enumerate('GATTACA'):\n",
        "  if nt == 'A':\n",
        "    print(i)\n",
        "\n",
        "# 'x += y' means adding y to x. It is the same as writing 'x = y + x'."
      ],
      "execution_count": null,
      "outputs": [
        {
          "output_type": "stream",
          "text": [
            "1\n",
            "4\n",
            "6\n",
            "1\n",
            "4\n",
            "6\n"
          ],
          "name": "stdout"
        }
      ]
    },
    {
      "cell_type": "code",
      "metadata": {
        "id": "0rfP-Re7DdmA",
        "colab": {
          "base_uri": "https://localhost:8080/",
          "height": 85
        },
        "outputId": "84eb0ebf-0f4f-4beb-fa9d-a84cf6a0a661"
      },
      "source": [
        "# Bit of revision about extracting elements you already know\n",
        "seq = 'GATTACA'\n",
        "\n",
        "# What do these return?\n",
        "print(seq[0])\n",
        "print(seq[:3])\n",
        "print(seq[3:])\n",
        "print(seq[::-1])"
      ],
      "execution_count": null,
      "outputs": [
        {
          "output_type": "stream",
          "text": [
            "G\n",
            "GAT\n",
            "TACA\n",
            "ACATTAG\n"
          ],
          "name": "stdout"
        }
      ]
    },
    {
      "cell_type": "code",
      "metadata": {
        "id": "UwooEUBrAOtu",
        "colab": {
          "base_uri": "https://localhost:8080/",
          "height": 68
        },
        "outputId": "3b8d1fed-8586-44a6-8b60-c787f599d399"
      },
      "source": [
        "# A substring of a string can thus be represented as string[x:y]\n",
        "# where x gives the starting index, and y the index of the character following the end of the substring\n",
        "# i.e. string[x:y] will return a substring from string[x] up to, but not including, string[y]\n",
        "\n",
        "seq = 'GATTACA'\n",
        "print(seq[1:4]) # Prints a substring from indices 1 to 3\n",
        "print(seq[1]) # Prints the single character substring of index 1\n",
        "print(seq[4]) # Prints the single character substring of index 4"
      ],
      "execution_count": null,
      "outputs": [
        {
          "output_type": "stream",
          "text": [
            "ATT\n",
            "A\n",
            "A\n"
          ],
          "name": "stdout"
        }
      ]
    },
    {
      "cell_type": "code",
      "metadata": {
        "id": "IldP8EGoEgBh",
        "colab": {
          "base_uri": "https://localhost:8080/",
          "height": 357
        },
        "outputId": "d833be31-e74a-4cc6-e4a0-f1efc0d549a8"
      },
      "source": [
        "# Given a string, 'seq', and a substring, 'motif':\n",
        "seq = 'GATATATGCATATACTT'\n",
        "motif = 'ATAT'\n",
        "\n",
        "# One way to check for the presence/absence of a substring in a given string:\n",
        "print(motif in seq) # Returns a boolean value, True in this case\n",
        "print('A' in 'TCG') # -> False\n",
        "\n",
        "# When learning, you can always make the code spell everything out for you.\n",
        "for i, nt in enumerate(seq):\n",
        "  print(i, '-->', nt, '-->', seq[i:i+4])\n",
        "\n",
        "# Which are the indices representing the starting positions of motif in seq?\n",
        "\n",
        "# Capturing indices for later use:\n",
        "indices = []\n",
        "for i, nt in enumerate(seq):\n",
        "  if seq[i:i+4] == motif:\n",
        "    indices.append(i)\n",
        "\n",
        "print(indices)"
      ],
      "execution_count": null,
      "outputs": [
        {
          "output_type": "stream",
          "text": [
            "True\n",
            "False\n",
            "0 --> G --> GATA\n",
            "1 --> A --> ATAT\n",
            "2 --> T --> TATA\n",
            "3 --> A --> ATAT\n",
            "4 --> T --> TATG\n",
            "5 --> A --> ATGC\n",
            "6 --> T --> TGCA\n",
            "7 --> G --> GCAT\n",
            "8 --> C --> CATA\n",
            "9 --> A --> ATAT\n",
            "10 --> T --> TATA\n",
            "11 --> A --> ATAC\n",
            "12 --> T --> TACT\n",
            "13 --> A --> ACTT\n",
            "14 --> C --> CTT\n",
            "15 --> T --> TT\n",
            "16 --> T --> T\n",
            "[1, 3, 9]\n"
          ],
          "name": "stdout"
        }
      ]
    },
    {
      "cell_type": "code",
      "metadata": {
        "id": "teMS0fg0gjzT",
        "colab": {
          "base_uri": "https://localhost:8080/"
        },
        "outputId": "74747011-5753-4a6c-f851-a3d45059aedb"
      },
      "source": [
        "seq = 'GATATATGCATATACTT'\n",
        "motif = 'ATAT'\n",
        "\n",
        "# You could write a function to automate this process further:\n",
        "def find_motif(seq, motif):\n",
        "  indices = []\n",
        "  for i, nt in enumerate(seq):\n",
        "    if seq[i:i+4] == motif:\n",
        "      indices.append(i) # .append() adds an element to a list\n",
        "  return indices\n",
        "\n",
        "print(find_motif(seq, motif))\n",
        "\n",
        "print(find_motif('GATTACA', 'TT'))\n",
        "\n",
        "# Can anyone figure out why doesn't this work?\n",
        "# What quick fix could you make to this code to make it universal?"
      ],
      "execution_count": 1,
      "outputs": [
        {
          "output_type": "stream",
          "text": [
            "[1, 3, 9]\n",
            "[]\n"
          ],
          "name": "stdout"
        }
      ]
    },
    {
      "cell_type": "code",
      "metadata": {
        "colab": {
          "base_uri": "https://localhost:8080/"
        },
        "id": "rNWjt2oWRS-S",
        "outputId": "b5dbb3b4-382d-433f-f4c6-04979f6d5ada"
      },
      "source": [
        "# Use 'len(motif)' to allow any motif length to be used\n",
        "\n",
        "def find_motif(seq, motif):\n",
        "  indices = []\n",
        "  for i, nt in enumerate(seq):\n",
        "    if seq[i:i+len(motif)] == motif:\n",
        "      indices.append(i) # .append() adds an element to a list\n",
        "  return indices\n",
        "\n",
        "print(find_motif('GATTACA', 'TT'))\n"
      ],
      "execution_count": 4,
      "outputs": [
        {
          "output_type": "stream",
          "text": [
            "[2]\n"
          ],
          "name": "stdout"
        }
      ]
    }
  ]
}