{
  "nbformat": 4,
  "nbformat_minor": 0,
  "metadata": {
    "colab": {
      "name": "05 Functions, iterators, reading files",
      "provenance": [],
      "collapsed_sections": [],
      "include_colab_link": true
    },
    "kernelspec": {
      "name": "python3",
      "display_name": "Python 3"
    }
  },
  "cells": [
    {
      "cell_type": "markdown",
      "metadata": {
        "id": "view-in-github",
        "colab_type": "text"
      },
      "source": [
        "<a href=\"https://colab.research.google.com/github/Tycour/crisanti-toolshed/blob/main/docs/lessons/05_Functions%2C_iterators%2C_reading_files.ipynb\" target=\"_parent\"><img src=\"https://colab.research.google.com/assets/colab-badge.svg\" alt=\"Open In Colab\"/></a>"
      ]
    },
    {
      "cell_type": "markdown",
      "metadata": {
        "id": "8MR9se2oy1Ct"
      },
      "source": [
        "# Functions"
      ]
    },
    {
      "cell_type": "code",
      "metadata": {
        "id": "B3C67vzXbNE8",
        "colab": {
          "base_uri": "https://localhost:8080/",
          "height": 123
        },
        "outputId": "770f8ef7-b5ca-46ce-e5bb-ac0276287d89"
      },
      "source": [
        "from google.colab import drive\n",
        "drive.mount('/content/drive')"
      ],
      "execution_count": null,
      "outputs": [
        {
          "output_type": "stream",
          "text": [
            "Go to this URL in a browser: https://accounts.google.com/o/oauth2/auth?client_id=947318989803-6bn6qk8qdgf4n4g3pfee6491hc0brc4i.apps.googleusercontent.com&redirect_uri=urn%3aietf%3awg%3aoauth%3a2.0%3aoob&response_type=code&scope=email%20https%3a%2f%2fwww.googleapis.com%2fauth%2fdocs.test%20https%3a%2f%2fwww.googleapis.com%2fauth%2fdrive%20https%3a%2f%2fwww.googleapis.com%2fauth%2fdrive.photos.readonly%20https%3a%2f%2fwww.googleapis.com%2fauth%2fpeopleapi.readonly\n",
            "\n",
            "Enter your authorization code:\n",
            "··········\n",
            "Mounted at /content/drive\n"
          ],
          "name": "stdout"
        }
      ]
    },
    {
      "cell_type": "code",
      "metadata": {
        "id": "B4EBbhUiqhdQ",
        "cellView": "code",
        "colab": {
          "base_uri": "https://localhost:8080/",
          "height": 68
        },
        "outputId": "67bf427d-61a2-4637-f58a-406c95a5c55e"
      },
      "source": [
        "#@title Revison: Lesson 3: Functions\n",
        "'''\n",
        "A function is a block of code which only runs when it is called.\n",
        "You can pass data, known as parameters, into a function.\n",
        "A function can return data as a result.\n",
        "\n",
        "To write a function we need to follow some rules.\n",
        "\n",
        "    - we start function definition with 'def' (keyword - reserved word in Python)\n",
        "    - we define function name - can be arbitrary, like a variable name\n",
        "    - in parentheses we define arguments/parameters\n",
        "    - body of the function needs to be indeted - tab\n",
        "    - we return a value with keyword 'return'\n",
        "\n",
        "Scope\n",
        "    - variables can only reach the area in which they are defined, which is called scope.\n",
        "    - think of it as the area of code where variables can be used\n",
        "    - python supports global variables (usable in the entire program) and local variables.\n",
        "    - variables defined inside a function are called local variables\n",
        "'''\n",
        "\n",
        "global_variable = 12\n",
        "\n",
        "def calculate_eq(a, b, c=10, d=20):\n",
        "    # result is a local variable\n",
        "    # as well as a, b, c, d - regardless if a variable with the same name\n",
        "    # already exists outside function's scope\n",
        "\n",
        "    print('c:', c)\n",
        "    print('d:', d)\n",
        "\n",
        "    result = ((a * b) - c) / d\n",
        "    return result\n",
        "\n",
        "\n",
        "x = 14\n",
        "y = 7\n",
        "\n",
        "# explain optional/positional paramteres/arguments\n",
        "calculate_eq(x, y)"
      ],
      "execution_count": null,
      "outputs": [
        {
          "output_type": "stream",
          "text": [
            "c: 10\n",
            "d: 20\n"
          ],
          "name": "stdout"
        },
        {
          "output_type": "execute_result",
          "data": {
            "text/plain": [
              "4.4"
            ]
          },
          "metadata": {
            "tags": []
          },
          "execution_count": 11
        }
      ]
    },
    {
      "cell_type": "code",
      "metadata": {
        "id": "mOHFzrc_TuJT",
        "colab": {
          "base_uri": "https://localhost:8080/",
          "height": 34
        },
        "outputId": "067bebbb-2e52-4f9c-91ae-da40534f8a73"
      },
      "source": [
        "# ------------------------------------\n",
        "def word_counter(s):\n",
        "    words = s.split(' ')\n",
        "\n",
        "    return len(words)\n",
        "# ------------------------------------\n",
        "\n",
        "word_counter('The random sentence generator generated a random sentence about a random sentence.')"
      ],
      "execution_count": null,
      "outputs": [
        {
          "output_type": "execute_result",
          "data": {
            "text/plain": [
              "12"
            ]
          },
          "metadata": {
            "tags": []
          },
          "execution_count": 1
        }
      ]
    },
    {
      "cell_type": "markdown",
      "metadata": {
        "id": "vjy7Wfzo01Mi"
      },
      "source": [
        "### HOMEWORK\n",
        "\n",
        "Write a function called `calculate_GC(seq)` that will calculate %GC content of any given nucleotide sequence. Let `calculate_GC(seq)` return a float of GC percentage.\n"
      ]
    },
    {
      "cell_type": "code",
      "metadata": {
        "id": "yeOStQtDdD0Q",
        "colab": {
          "base_uri": "https://localhost:8080/",
          "height": 34
        },
        "outputId": "9b99d3a4-2833-4311-e9f2-55fdd138a2df"
      },
      "source": [
        "def calculate_GC(seq):\n",
        "    GC = seq.count('G') + seq.count('C')\n",
        "    return (GC / len(seq)) * 100\n",
        "\n",
        "seq = 'CGACGATACGATAC'\n",
        "\n",
        "result = calculate_GC(seq)\n",
        "print('result is ', result)"
      ],
      "execution_count": null,
      "outputs": [
        {
          "output_type": "stream",
          "text": [
            "result is  50.0\n"
          ],
          "name": "stdout"
        }
      ]
    },
    {
      "cell_type": "code",
      "metadata": {
        "id": "GO_xNXM7g5Sc",
        "colab": {
          "base_uri": "https://localhost:8080/",
          "height": 34
        },
        "outputId": "d532291c-a85e-4e05-9ab3-815441107108"
      },
      "source": [
        "# string formatting\n",
        "a = 'something'\n",
        "b = 12\n",
        "c = 44.5\n",
        "\n",
        "# sentence = 'I am using {} in sentence together with {} and {}'.format(a, b, c)\n",
        "sentence = f'I am using {a} in sentence together with {b} and {c}'\n",
        "\n",
        "print(sentence)"
      ],
      "execution_count": null,
      "outputs": [
        {
          "output_type": "stream",
          "text": [
            "I am using something in sentence together with 12 and 44.5\n"
          ],
          "name": "stdout"
        }
      ]
    },
    {
      "cell_type": "markdown",
      "metadata": {
        "id": "TIyt5XyrdFRL"
      },
      "source": [
        "## Iterators"
      ]
    },
    {
      "cell_type": "markdown",
      "metadata": {
        "id": "qTMf8nnImWZH"
      },
      "source": [
        "# New Section"
      ]
    },
    {
      "cell_type": "code",
      "metadata": {
        "id": "T6Q33Kc3dIxy",
        "colab": {
          "base_uri": "https://localhost:8080/",
          "height": 129
        },
        "outputId": "ccc90c86-42d9-4462-bc7b-23e99b4ebcfb"
      },
      "source": [
        "'''\n",
        "- Iterator in Python is simply an object that can be iterated upon. \n",
        "- An object which will return data, one element at a time.\n",
        "- Elegant way of iterating is by using the for loop. \n",
        "- Using this, we can iterate over any object that can return an iterator\n",
        "- Iterator can be a list, string, file etc.\n",
        "'''\n",
        "\n",
        "sequences = ['TAGGGACATCGTCGTGAAAACTTCTTCTCCTTGTCAGTGTTGAGGAACTTTGCAATG', \n",
        "             'AACTTTGCAATGTTTGAAACATGGTTGCTATAAGTTTGATAAAGC',\n",
        "             'CATACACACACCTATTGCCCTTCATTGGCCTCATTCATCAAGCGGCACGGTCCGGATG',\n",
        "             'GTGAAAACTTCTTCTCCTTGTCAGTGTTGAGGAACTTTGCAATGT',\n",
        "             'TCGTGACAAGATTCTCCTGCAAACACACATACACGTGATTGCGT',\n",
        "             'last element']\n",
        "\n",
        "for sequence in sequences:\n",
        "    print(sequence)\n"
      ],
      "execution_count": null,
      "outputs": [
        {
          "output_type": "stream",
          "text": [
            "TAGGGACATCGTCGTGAAAACTTCTTCTCCTTGTCAGTGTTGAGGAACTTTGCAATG\n",
            "AACTTTGCAATGTTTGAAACATGGTTGCTATAAGTTTGATAAAGC\n",
            "CATACACACACCTATTGCCCTTCATTGGCCTCATTCATCAAGCGGCACGGTCCGGATG\n",
            "GTGAAAACTTCTTCTCCTTGTCAGTGTTGAGGAACTTTGCAATGT\n",
            "TCGTGACAAGATTCTCCTGCAAACACACATACACGTGATTGCGT\n",
            "last element\n"
          ],
          "name": "stdout"
        }
      ]
    },
    {
      "cell_type": "code",
      "metadata": {
        "id": "2FKywSwYivw5",
        "colab": {
          "base_uri": "https://localhost:8080/",
          "height": 92
        },
        "outputId": "dbfc2a3f-d695-4129-9cdc-97e036070788"
      },
      "source": [
        "list_of_numbers = [12, 4, 68, 19]\n",
        "\n",
        "for number in list_of_numbers:\n",
        "    # some logic here, by adding for number it defined what's in the parenthesis to be a number\n",
        "    print(number)"
      ],
      "execution_count": null,
      "outputs": [
        {
          "output_type": "stream",
          "text": [
            "12\n",
            "4\n",
            "68\n",
            "19\n"
          ],
          "name": "stdout"
        }
      ]
    },
    {
      "cell_type": "code",
      "metadata": {
        "id": "9PbNwCqpfd03",
        "colab": {
          "base_uri": "https://localhost:8080/",
          "height": 134
        },
        "outputId": "71ac91d9-b249-4dc0-f39a-69d0282cf71f"
      },
      "source": [
        "# iterator variable name can be arbitrary - it has a scope within for loop\n",
        "\n",
        "for x in sequences:\n",
        "    print(x)\n",
        "\n",
        "# if we print x outside for loop, it will hold the value from the last loop\n",
        "print(x)"
      ],
      "execution_count": null,
      "outputs": [
        {
          "output_type": "stream",
          "text": [
            "TAGGGACATCGTCGTGAAAACTTCTTCTCCTTGTCAGTGTTGAGGAACTTTGCAATG\n",
            "AACTTTGCAATGTTTGAAACATGGTTGCTATAAGTTTGATAAAGC\n",
            "CATACACACACCTATTGCCCTTCATTGGCCTCATTCATCAAGCGGCACGGTCCGGATG\n",
            "GTGAAAACTTCTTCTCCTTGTCAGTGTTGAGGAACTTTGCAATGT\n",
            "TCGTGACAAGATTCTCCTGCAAACACACATACACGTGATTGCGT\n",
            "last element\n",
            "last element\n"
          ],
          "name": "stdout"
        }
      ]
    },
    {
      "cell_type": "code",
      "metadata": {
        "id": "hNWSx5wyhKDs",
        "colab": {
          "base_uri": "https://localhost:8080/",
          "height": 134
        },
        "outputId": "cb419e9d-bb5c-406e-cb64-d699e82ce048"
      },
      "source": [
        "# we can count loops with enumerate()\n",
        "for i, seq in enumerate(sequences):\n",
        "    print(i)\n",
        "\n",
        "print(i, seq)"
      ],
      "execution_count": null,
      "outputs": [
        {
          "output_type": "stream",
          "text": [
            "0\n",
            "1\n",
            "2\n",
            "3\n",
            "4\n",
            "5\n",
            "5 last element\n"
          ],
          "name": "stdout"
        }
      ]
    },
    {
      "cell_type": "code",
      "metadata": {
        "id": "dTCtbjPmkTxL"
      },
      "source": [
        "# create 100 loops\n",
        "for i in range(0, 100):\n",
        "    print(i)\n"
      ],
      "execution_count": null,
      "outputs": []
    },
    {
      "cell_type": "code",
      "metadata": {
        "id": "IbKL3S21iRpk",
        "colab": {
          "base_uri": "https://localhost:8080/",
          "height": 232
        },
        "outputId": "1de3a8c9-0d28-4fed-eeb6-95e010f5ff9d"
      },
      "source": [
        "# nested loops - remember, string is also iterable\n",
        "\n",
        "for i, seq in enumerate(sequences):\n",
        "    \n",
        "    print(f'this is sequence number {i}')\n",
        "    for j, base in enumerate(seq):\n",
        "        print(f'{base} is the {j}th base in {i}th sequence')"
      ],
      "execution_count": null,
      "outputs": [
        {
          "output_type": "error",
          "ename": "NameError",
          "evalue": "ignored",
          "traceback": [
            "\u001b[0;31m---------------------------------------------------------------------------\u001b[0m",
            "\u001b[0;31mNameError\u001b[0m                                 Traceback (most recent call last)",
            "\u001b[0;32m<ipython-input-20-6b431b31a370>\u001b[0m in \u001b[0;36m<module>\u001b[0;34m()\u001b[0m\n\u001b[1;32m      1\u001b[0m \u001b[0;34m\u001b[0m\u001b[0m\n\u001b[0;32m----> 2\u001b[0;31m \u001b[0;32mfor\u001b[0m \u001b[0mi\u001b[0m\u001b[0;34m,\u001b[0m \u001b[0mseq\u001b[0m \u001b[0;32min\u001b[0m \u001b[0menumerate\u001b[0m\u001b[0;34m(\u001b[0m\u001b[0msequences\u001b[0m\u001b[0;34m)\u001b[0m\u001b[0;34m:\u001b[0m\u001b[0;34m\u001b[0m\u001b[0;34m\u001b[0m\u001b[0m\n\u001b[0m\u001b[1;32m      3\u001b[0m \u001b[0;34m\u001b[0m\u001b[0m\n\u001b[1;32m      4\u001b[0m     \u001b[0mprint\u001b[0m\u001b[0;34m(\u001b[0m\u001b[0;34mf'this is sequence number {i}'\u001b[0m\u001b[0;34m)\u001b[0m\u001b[0;34m\u001b[0m\u001b[0;34m\u001b[0m\u001b[0m\n\u001b[1;32m      5\u001b[0m     \u001b[0;32mfor\u001b[0m \u001b[0mj\u001b[0m\u001b[0;34m,\u001b[0m \u001b[0mbase\u001b[0m \u001b[0;32min\u001b[0m \u001b[0menumerate\u001b[0m\u001b[0;34m(\u001b[0m\u001b[0mseq\u001b[0m\u001b[0;34m)\u001b[0m\u001b[0;34m:\u001b[0m\u001b[0;34m\u001b[0m\u001b[0;34m\u001b[0m\u001b[0m\n",
            "\u001b[0;31mNameError\u001b[0m: name 'sequences' is not defined"
          ]
        }
      ]
    },
    {
      "cell_type": "markdown",
      "metadata": {
        "id": "D5ndAUauidft"
      },
      "source": [
        "## Reading from file\n",
        "\n",
        "We are currently on Google Servers so in order to access our data from our Drive folder, we need to mount it and authorise the server to have access."
      ]
    },
    {
      "cell_type": "code",
      "metadata": {
        "id": "q0dFrK0RlLTt",
        "colab": {
          "base_uri": "https://localhost:8080/",
          "height": 34
        },
        "outputId": "3092cd7b-097d-4b74-bdc4-04d8f00524be"
      },
      "source": [
        "from google.colab import drive\n",
        "drive.mount('/content/drive', force_remount=True)"
      ],
      "execution_count": null,
      "outputs": [
        {
          "output_type": "stream",
          "text": [
            "Mounted at /content/drive\n"
          ],
          "name": "stdout"
        }
      ]
    },
    {
      "cell_type": "markdown",
      "metadata": {
        "id": "4SaMgkVoNuW0"
      },
      "source": [
        "Files can be found in `_files/` in the CC Drive folder."
      ]
    },
    {
      "cell_type": "code",
      "metadata": {
        "id": "apwKmzH0iiGn",
        "colab": {
          "base_uri": "https://localhost:8080/",
          "height": 134
        },
        "outputId": "9f73a207-5522-468c-f9bc-e2f43eafc22d"
      },
      "source": [
        "# The open() function returns a file object, which has a read() method for reading the content of the file\n",
        "\n",
        "sequences_file = open('/content/drive/My Drive/Shared/Coding club/_data/05_sequences.txt')\n",
        "\n",
        "for line in sequences_file:\n",
        "    print(line.replace('\\n', ''))\n",
        "\n",
        "sequences_file.close()"
      ],
      "execution_count": null,
      "outputs": [
        {
          "output_type": "stream",
          "text": [
            "TAGGGACATCGTCGTGAAAACTTCTTCTCCTTGTCAGTGTTGAGGAACTTTGCAATG \n",
            "AACTTTGCAATGTTTGAAACATGGTTGCTATAAGTTTGATAAAGC\n",
            "CATACACACACCTATTGCCCTTCATTGGCCTCATTCATCAAGCGGCACGGTCCGGATG\n",
            "GTGAAAACTTCTTCTCCTTGTCAGTGTTGAGGAACTTTGCAATGT\n",
            "TCGTGACAAGATTCTCCTGCAAACACACATACACGTGATTGCGT\n",
            "GCCCTTCATTGGCCTCATTCATCAAGCGGCACGGTCCGGAT\n",
            "TCATT\n"
          ],
          "name": "stdout"
        }
      ]
    },
    {
      "cell_type": "code",
      "metadata": {
        "id": "Z6HC0DGGs6cn",
        "colab": {
          "base_uri": "https://localhost:8080/",
          "height": 134
        },
        "outputId": "55fee12d-f1f6-46ea-c4c6-8620edf95c24"
      },
      "source": [
        "# READING -----\n",
        "with open('/content/drive/My Drive/Shared/Coding club/_data/05_sequences.txt') as sequences_file:\n",
        "    # here\n",
        "    for line in sequences_file:\n",
        "        seq = line.strip()\n",
        "        print(seq)\n",
        "    # here the file is ---\n",
        "\n",
        "# WRITING -----\n",
        "with open('/content/drive/My Drive/Shared/Coding club/_data/05_sequences.x.txt', 'w') as sequences_file:\n",
        "    # here\n",
        "    for i in range(0, 100):\n",
        "        sequences_file.write(f'line {i}\\n')\n",
        "    # here the file is ---\n",
        "\n",
        "\n",
        "# file is closed \n",
        "# here file is already closed\n",
        "# no need to use sequence_file.close()\n"
      ],
      "execution_count": null,
      "outputs": [
        {
          "output_type": "stream",
          "text": [
            "TAGGGACATCGTCGTGAAAACTTCTTCTCCTTGTCAGTGTTGAGGAACTTTGCAATG\n",
            "AACTTTGCAATGTTTGAAACATGGTTGCTATAAGTTTGATAAAGC\n",
            "CATACACACACCTATTGCCCTTCATTGGCCTCATTCATCAAGCGGCACGGTCCGGATG\n",
            "GTGAAAACTTCTTCTCCTTGTCAGTGTTGAGGAACTTTGCAATGT\n",
            "TCGTGACAAGATTCTCCTGCAAACACACATACACGTGATTGCGT\n",
            "GCCCTTCATTGGCCTCATTCATCAAGCGGCACGGTCCGGAT\n",
            "TCATT\n"
          ],
          "name": "stdout"
        }
      ]
    },
    {
      "cell_type": "code",
      "metadata": {
        "id": "elZ07GKki8_c"
      },
      "source": [
        "# Iterate over file"
      ],
      "execution_count": null,
      "outputs": []
    },
    {
      "cell_type": "code",
      "metadata": {
        "id": "I_vfVVLumr9k"
      },
      "source": [
        ""
      ],
      "execution_count": null,
      "outputs": []
    },
    {
      "cell_type": "markdown",
      "metadata": {
        "id": "aMUHIXwomtJe"
      },
      "source": [
        "## Homework\n",
        "- Read sequences from file `_data/05_guide_sequences.txt`\n",
        "- For each sequence calculate GC content\n",
        "- Print line numbers of the sequences and their GC content\n",
        "\n",
        "### Extra\n",
        "- Print only line numbers and %GC content for sequences that are at least 20 bp long and have more than 40% GC content\n",
        "- Help: https://www.w3schools.com/python/python_conditions.asp"
      ]
    },
    {
      "cell_type": "code",
      "metadata": {
        "id": "U--E3paXiGam",
        "colab": {
          "base_uri": "https://localhost:8080/",
          "height": 131
        },
        "outputId": "631cfdc1-2e72-4066-cbfd-04985eaeadff"
      },
      "source": [
        "from google.colab import drive \n",
        "drive.mount('/content/drive')"
      ],
      "execution_count": null,
      "outputs": [
        {
          "output_type": "stream",
          "text": [
            "Go to this URL in a browser: https://accounts.google.com/o/oauth2/auth?client_id=947318989803-6bn6qk8qdgf4n4g3pfee6491hc0brc4i.apps.googleusercontent.com&redirect_uri=urn%3aietf%3awg%3aoauth%3a2.0%3aoob&response_type=code&scope=email%20https%3a%2f%2fwww.googleapis.com%2fauth%2fdocs.test%20https%3a%2f%2fwww.googleapis.com%2fauth%2fdrive%20https%3a%2f%2fwww.googleapis.com%2fauth%2fdrive.photos.readonly%20https%3a%2f%2fwww.googleapis.com%2fauth%2fpeopleapi.readonly\n",
            "\n",
            "Enter your authorization code:\n",
            "··········\n",
            "Mounted at /content/drive\n"
          ],
          "name": "stdout"
        }
      ]
    },
    {
      "cell_type": "code",
      "metadata": {
        "id": "7nsF1qe2o0cM",
        "colab": {
          "base_uri": "https://localhost:8080/",
          "height": 71
        },
        "outputId": "21bab8e7-fea9-47c8-80b0-2d7e893a885e"
      },
      "source": [
        "sequence_file = open('/content/drive/My Drive/Coding club/_data/05_guide_sequences.txt')\n",
        "print(sequence_file)\n",
        "\n",
        "sequence_file.read()\n",
        "\n"
      ],
      "execution_count": null,
      "outputs": [
        {
          "output_type": "stream",
          "text": [
            "<_io.TextIOWrapper name='/content/drive/My Drive/Coding club/_data/05_guide_sequences.txt' mode='r' encoding='UTF-8'>\n"
          ],
          "name": "stdout"
        },
        {
          "output_type": "execute_result",
          "data": {
            "text/plain": [
              "'GAGTACCGACTGGAGTCCATGTGAGT\\nCAAAGAACTTCTCGGCCTCCTTGAAT\\nATTTCCTGGGTCCGTTAGCATGGAAT\\nGACAACAGCCTAGAGTTTCTGGGGAT\\nAATCGGGTGACAGAAGACCAATGGAT\\nGTCGGTACTCCATCCCACAAAAGAAT\\nTCCAATTGGACTGATATAGGAAGGAT\\nGTATCAATGATGCTTTCCGTCTGAAT\\nAGCAAATCACCCAAAAAGAAT\\nGCTAATATCGATGGAGGCATAAGGAT\\nCCGTCTGAATGACAACAGCCTAGAGT\\nCATTTTCCAATGCTAGGGTCCAGGGT\\nATGGCAGAGTCCCAACAATCGTGAGT\\nCCGTTTTCCCAGAAT\\nGCAGACCAAAGCATCAAAGTGAGGAT\\nTGTGCTTTGGGATAACAGGTTTGAAT\\nTCCTTCCTATATCAGTCCAATTGGAT\\nCCCCAAAGGCGAGAGATAGTTGGGGT\\nCTGTCCAAAGGGAACTGTCAAAGAGT\\nTTGTGG\\nTCTCTGATCCCAGTGAAGATCAGGAT\\nCCTACAACATTTTCCAATGCTAGGGT\\nTCTTGAAACTGGAATTGGTAAAGGGT\\nGCAGCTGAGGCCATTATATGAAGAGT\\nATTGTCATCCTGATCTTCACTGGGAT\\nAGAAAACTGTAATTTACCGAATGAAT\\nGGGGAAATTCCCAAAGACCAGTGGAT\\nCCTATGGCAAAGTTGATGAAT\\nAGCAGTGAGTATTCTGGACAGTGAAT\\nGCAGCATATGCCATATCATACTGGAT\\nTGGTCTTCCTAATATGAGGAT\\nGTGACATTTTACTTTCATCTAAGGGT\\nTACCATTGTCTTCTTGAAAATCGGGT\\nTGATTTCCCCAACAGCTTCATGGAAT\\nGACAAAGTGCTTCTTGAAACTGGAAT\\nTTTGCTTGGTAAGAAGCCCCATG\\nGCTGCAGGCTCTTCAGCAAAATGGGT\\nTGTATCCACTACAAGAAATTCAGAAT\\nGCCTTTTCAACTTCAGTTCTAGGAAT\\nAACTGTAATTTACCGAATGAATGAGT\\nTCCATATGGCTGATTGTTTTTGGAGT\\nTCTAACGTAAATGGCAGAGT\\nTACATGTTAGAGAAGTGGAGGTGGAT\\nCAGCTCTTGGAGATAAAGCAGTGAGT\\nGCTAAGAAATGGTAATGAAGGAT\\nCTCTACAGGGAGGAGGATGTGCGAGT\\nGACTGCTTTCTGAACATTTCCTGGGT\\nTTTTTGGTTGCTGGGT\\nTAAGCATTCTTGTGGATTATCTGGGT\\nTTGTAACCCAGATAATCCACAAGAAT\\nCGAAGACAAGAGCAAACGGGT\\nTGAAGCTTGACTGTGAGATTCTGAAT\\nCCAGAACAAGAATTCTTTTGTGGGAT\\nTTCAAGTAATAAGCATTCTTGTGGAT\\nATTGTCACCTTTGTGCACATAAGGAT\\nTCTGAACATCATCAGTGTTTTGGAAT\\nATCAAAGTTCACTTGCTTCTTGGAAT\\nAAGAGAATGTCCAAAACATGGTGAGT\\nATGTTGTAGGAGCAAAGAACATGAAT\\nTCCCAGGCCTGGGATGCACAGAGAAT\\nATAACACCAATATTACTGAAGAGAAT\\nACAAGAATTCTTTTGTGGGATGGAGT\\nTAGATGGTTTGTATTTAGAAT\\nGTGGGAGATGAAGTAAGTCAATGAAT\\nAAACAGATTATGAGGACTATGGGGAT\\nCTTTCTTCTGAATTTGCAGTATGAAT\\nCAGTTTCTGTCCAGCTTCTGTAGAGT\\nCTGTTCTCTTTTCCCAGGCCTGGGAT\\nTTTTGTTTCTCTACAGGGAGGAGGAT\\nTTTTAAATATAGGTGATATGTGGGGT\\nCTTCCCCAGGTCCCAAGCTGTGGGAT\\nTCATCTTGTCCATTTTCATGCAGGAT\\nAATCAGCTTTTTGGGTGAGT\\nAGAGGAGACTATGAAGTAAATGGGGT\\nATTGTTTTTGGAGTTGTGATGGGAGT\\nCGAGTGGCTAATTTGAAACCAAGAAT\\nCATATCACCTATATTTAAAAAAGAAT\\nATGGAATTTTCCCAGAATC\\nTTTTTCATCCACTGGTCTTTGGGAAT\\nGAGATTCTGAATTTCTTGTAGTGGAT\\nTAGCAAAGGAGAAAATAATCCAGGAT\\nATCATCAGTGTTTTGGAATCCTGGAT\\nCATATTGCTACA\\nAGAAACATGGAACAGAGATGCGGGGT\\nCCTGGCTGAAAGACCAGAACAAGAAT\\nAAAAAATCAGATGATTCTTTTTGGGT\\nAACAAGAAAACTGTAATTTACCGAAT\\nCTGTTTTTTGCTTTTGCAAATAG\\nTTTCTGAAAGTAAAATAGAAA\\nAATTTTCTTTTCTGTCATTTCAGAAT'"
            ]
          },
          "metadata": {
            "tags": []
          },
          "execution_count": 12
        }
      ]
    },
    {
      "cell_type": "code",
      "metadata": {
        "id": "QZpeTyVupoEy",
        "colab": {
          "base_uri": "https://localhost:8080/",
          "height": 1000
        },
        "outputId": "4e164fb6-d9f1-46eb-9e73-cd786299cdfb"
      },
      "source": [
        "sequence_file = open('/content/drive/My Drive/Coding club/_data/05_guide_sequences.txt')\n",
        "print(sequence_file)\n",
        "for line in sequence_file:\n",
        "  print(line.replace('\\n',''))"
      ],
      "execution_count": null,
      "outputs": [
        {
          "output_type": "stream",
          "text": [
            "<_io.TextIOWrapper name='/content/drive/My Drive/Coding club/_data/05_guide_sequences.txt' mode='r' encoding='UTF-8'>\n",
            "GAGTACCGACTGGAGTCCATGTGAGT\n",
            "CAAAGAACTTCTCGGCCTCCTTGAAT\n",
            "ATTTCCTGGGTCCGTTAGCATGGAAT\n",
            "GACAACAGCCTAGAGTTTCTGGGGAT\n",
            "AATCGGGTGACAGAAGACCAATGGAT\n",
            "GTCGGTACTCCATCCCACAAAAGAAT\n",
            "TCCAATTGGACTGATATAGGAAGGAT\n",
            "GTATCAATGATGCTTTCCGTCTGAAT\n",
            "AGCAAATCACCCAAAAAGAAT\n",
            "GCTAATATCGATGGAGGCATAAGGAT\n",
            "CCGTCTGAATGACAACAGCCTAGAGT\n",
            "CATTTTCCAATGCTAGGGTCCAGGGT\n",
            "ATGGCAGAGTCCCAACAATCGTGAGT\n",
            "CCGTTTTCCCAGAAT\n",
            "GCAGACCAAAGCATCAAAGTGAGGAT\n",
            "TGTGCTTTGGGATAACAGGTTTGAAT\n",
            "TCCTTCCTATATCAGTCCAATTGGAT\n",
            "CCCCAAAGGCGAGAGATAGTTGGGGT\n",
            "CTGTCCAAAGGGAACTGTCAAAGAGT\n",
            "TTGTGG\n",
            "TCTCTGATCCCAGTGAAGATCAGGAT\n",
            "CCTACAACATTTTCCAATGCTAGGGT\n",
            "TCTTGAAACTGGAATTGGTAAAGGGT\n",
            "GCAGCTGAGGCCATTATATGAAGAGT\n",
            "ATTGTCATCCTGATCTTCACTGGGAT\n",
            "AGAAAACTGTAATTTACCGAATGAAT\n",
            "GGGGAAATTCCCAAAGACCAGTGGAT\n",
            "CCTATGGCAAAGTTGATGAAT\n",
            "AGCAGTGAGTATTCTGGACAGTGAAT\n",
            "GCAGCATATGCCATATCATACTGGAT\n",
            "TGGTCTTCCTAATATGAGGAT\n",
            "GTGACATTTTACTTTCATCTAAGGGT\n",
            "TACCATTGTCTTCTTGAAAATCGGGT\n",
            "TGATTTCCCCAACAGCTTCATGGAAT\n",
            "GACAAAGTGCTTCTTGAAACTGGAAT\n",
            "TTTGCTTGGTAAGAAGCCCCATG\n",
            "GCTGCAGGCTCTTCAGCAAAATGGGT\n",
            "TGTATCCACTACAAGAAATTCAGAAT\n",
            "GCCTTTTCAACTTCAGTTCTAGGAAT\n",
            "AACTGTAATTTACCGAATGAATGAGT\n",
            "TCCATATGGCTGATTGTTTTTGGAGT\n",
            "TCTAACGTAAATGGCAGAGT\n",
            "TACATGTTAGAGAAGTGGAGGTGGAT\n",
            "CAGCTCTTGGAGATAAAGCAGTGAGT\n",
            "GCTAAGAAATGGTAATGAAGGAT\n",
            "CTCTACAGGGAGGAGGATGTGCGAGT\n",
            "GACTGCTTTCTGAACATTTCCTGGGT\n",
            "TTTTTGGTTGCTGGGT\n",
            "TAAGCATTCTTGTGGATTATCTGGGT\n",
            "TTGTAACCCAGATAATCCACAAGAAT\n",
            "CGAAGACAAGAGCAAACGGGT\n",
            "TGAAGCTTGACTGTGAGATTCTGAAT\n",
            "CCAGAACAAGAATTCTTTTGTGGGAT\n",
            "TTCAAGTAATAAGCATTCTTGTGGAT\n",
            "ATTGTCACCTTTGTGCACATAAGGAT\n",
            "TCTGAACATCATCAGTGTTTTGGAAT\n",
            "ATCAAAGTTCACTTGCTTCTTGGAAT\n",
            "AAGAGAATGTCCAAAACATGGTGAGT\n",
            "ATGTTGTAGGAGCAAAGAACATGAAT\n",
            "TCCCAGGCCTGGGATGCACAGAGAAT\n",
            "ATAACACCAATATTACTGAAGAGAAT\n",
            "ACAAGAATTCTTTTGTGGGATGGAGT\n",
            "TAGATGGTTTGTATTTAGAAT\n",
            "GTGGGAGATGAAGTAAGTCAATGAAT\n",
            "AAACAGATTATGAGGACTATGGGGAT\n",
            "CTTTCTTCTGAATTTGCAGTATGAAT\n",
            "CAGTTTCTGTCCAGCTTCTGTAGAGT\n",
            "CTGTTCTCTTTTCCCAGGCCTGGGAT\n",
            "TTTTGTTTCTCTACAGGGAGGAGGAT\n",
            "TTTTAAATATAGGTGATATGTGGGGT\n",
            "CTTCCCCAGGTCCCAAGCTGTGGGAT\n",
            "TCATCTTGTCCATTTTCATGCAGGAT\n",
            "AATCAGCTTTTTGGGTGAGT\n",
            "AGAGGAGACTATGAAGTAAATGGGGT\n",
            "ATTGTTTTTGGAGTTGTGATGGGAGT\n",
            "CGAGTGGCTAATTTGAAACCAAGAAT\n",
            "CATATCACCTATATTTAAAAAAGAAT\n",
            "ATGGAATTTTCCCAGAATC\n",
            "TTTTTCATCCACTGGTCTTTGGGAAT\n",
            "GAGATTCTGAATTTCTTGTAGTGGAT\n",
            "TAGCAAAGGAGAAAATAATCCAGGAT\n",
            "ATCATCAGTGTTTTGGAATCCTGGAT\n",
            "CATATTGCTACA\n",
            "AGAAACATGGAACAGAGATGCGGGGT\n",
            "CCTGGCTGAAAGACCAGAACAAGAAT\n",
            "AAAAAATCAGATGATTCTTTTTGGGT\n",
            "AACAAGAAAACTGTAATTTACCGAAT\n",
            "CTGTTTTTTGCTTTTGCAAATAG\n",
            "TTTCTGAAAGTAAAATAGAAA\n",
            "AATTTTCTTTTCTGTCATTTCAGAAT\n"
          ],
          "name": "stdout"
        }
      ]
    },
    {
      "cell_type": "code",
      "metadata": {
        "id": "5vbNaKEXqY1O",
        "colab": {
          "base_uri": "https://localhost:8080/",
          "height": 1000
        },
        "outputId": "7d2af7c2-6020-444e-a411-2dbf5059330f"
      },
      "source": [
        "sequence_file = open('/content/drive/My Drive/Coding club/_data/05_guide_sequences.txt')\n",
        "\n",
        "\n",
        "for line in sequence_file:\n",
        "  print(((line.count('G') + line.count('C')) / len(line)) * 100) "
      ],
      "execution_count": null,
      "outputs": [
        {
          "output_type": "stream",
          "text": [
            "51.85185185185185\n",
            "44.44444444444444\n",
            "44.44444444444444\n",
            "48.148148148148145\n",
            "44.44444444444444\n",
            "44.44444444444444\n",
            "37.03703703703704\n",
            "37.03703703703704\n",
            "31.818181818181817\n",
            "40.74074074074074\n",
            "48.148148148148145\n",
            "48.148148148148145\n",
            "48.148148148148145\n",
            "43.75\n",
            "44.44444444444444\n",
            "37.03703703703704\n",
            "37.03703703703704\n",
            "55.55555555555556\n",
            "44.44444444444444\n",
            "42.857142857142854\n",
            "44.44444444444444\n",
            "40.74074074074074\n",
            "37.03703703703704\n",
            "44.44444444444444\n",
            "40.74074074074074\n",
            "25.925925925925924\n",
            "48.148148148148145\n",
            "36.36363636363637\n",
            "40.74074074074074\n",
            "40.74074074074074\n",
            "36.36363636363637\n",
            "33.33333333333333\n",
            "37.03703703703704\n",
            "40.74074074074074\n",
            "37.03703703703704\n",
            "45.83333333333333\n",
            "51.85185185185185\n",
            "29.629629629629626\n",
            "37.03703703703704\n",
            "29.629629629629626\n",
            "37.03703703703704\n",
            "38.095238095238095\n",
            "40.74074074074074\n",
            "44.44444444444444\n",
            "33.33333333333333\n",
            "55.55555555555556\n",
            "44.44444444444444\n",
            "41.17647058823529\n",
            "37.03703703703704\n",
            "33.33333333333333\n",
            "50.0\n",
            "37.03703703703704\n",
            "37.03703703703704\n",
            "29.629629629629626\n",
            "37.03703703703704\n",
            "33.33333333333333\n",
            "33.33333333333333\n",
            "37.03703703703704\n",
            "33.33333333333333\n",
            "55.55555555555556\n",
            "25.925925925925924\n",
            "37.03703703703704\n",
            "22.727272727272727\n",
            "37.03703703703704\n",
            "37.03703703703704\n",
            "29.629629629629626\n",
            "44.44444444444444\n",
            "51.85185185185185\n",
            "40.74074074074074\n",
            "29.629629629629626\n",
            "59.25925925925925\n",
            "37.03703703703704\n",
            "38.095238095238095\n",
            "40.74074074074074\n",
            "37.03703703703704\n",
            "37.03703703703704\n",
            "18.51851851851852\n",
            "35.0\n",
            "37.03703703703704\n",
            "33.33333333333333\n",
            "33.33333333333333\n",
            "37.03703703703704\n",
            "30.76923076923077\n",
            "48.148148148148145\n",
            "44.44444444444444\n",
            "25.925925925925924\n",
            "25.925925925925924\n",
            "29.166666666666668\n",
            "18.181818181818183\n",
            "23.076923076923077\n"
          ],
          "name": "stdout"
        }
      ]
    },
    {
      "cell_type": "code",
      "metadata": {
        "id": "ENfTGJz3uARh",
        "colab": {
          "base_uri": "https://localhost:8080/",
          "height": 1000
        },
        "outputId": "bdbc7d7d-c88f-4b94-cadc-fc0d9a71483d"
      },
      "source": [
        "sequence_file = open('/content/drive/My Drive/Coding club/_data/05_guide_sequences.txt')\n",
        "\n",
        "for i, line in enumerate(sequence_file):\n",
        "  print(i, (line.count('G') + line.count('C')) / len(line) * 100)\n"
      ],
      "execution_count": null,
      "outputs": [
        {
          "output_type": "stream",
          "text": [
            "0 51.85185185185185\n",
            "1 44.44444444444444\n",
            "2 44.44444444444444\n",
            "3 48.148148148148145\n",
            "4 44.44444444444444\n",
            "5 44.44444444444444\n",
            "6 37.03703703703704\n",
            "7 37.03703703703704\n",
            "8 31.818181818181817\n",
            "9 40.74074074074074\n",
            "10 48.148148148148145\n",
            "11 48.148148148148145\n",
            "12 48.148148148148145\n",
            "13 43.75\n",
            "14 44.44444444444444\n",
            "15 37.03703703703704\n",
            "16 37.03703703703704\n",
            "17 55.55555555555556\n",
            "18 44.44444444444444\n",
            "19 42.857142857142854\n",
            "20 44.44444444444444\n",
            "21 40.74074074074074\n",
            "22 37.03703703703704\n",
            "23 44.44444444444444\n",
            "24 40.74074074074074\n",
            "25 25.925925925925924\n",
            "26 48.148148148148145\n",
            "27 36.36363636363637\n",
            "28 40.74074074074074\n",
            "29 40.74074074074074\n",
            "30 36.36363636363637\n",
            "31 33.33333333333333\n",
            "32 37.03703703703704\n",
            "33 40.74074074074074\n",
            "34 37.03703703703704\n",
            "35 45.83333333333333\n",
            "36 51.85185185185185\n",
            "37 29.629629629629626\n",
            "38 37.03703703703704\n",
            "39 29.629629629629626\n",
            "40 37.03703703703704\n",
            "41 38.095238095238095\n",
            "42 40.74074074074074\n",
            "43 44.44444444444444\n",
            "44 33.33333333333333\n",
            "45 55.55555555555556\n",
            "46 44.44444444444444\n",
            "47 41.17647058823529\n",
            "48 37.03703703703704\n",
            "49 33.33333333333333\n",
            "50 50.0\n",
            "51 37.03703703703704\n",
            "52 37.03703703703704\n",
            "53 29.629629629629626\n",
            "54 37.03703703703704\n",
            "55 33.33333333333333\n",
            "56 33.33333333333333\n",
            "57 37.03703703703704\n",
            "58 33.33333333333333\n",
            "59 55.55555555555556\n",
            "60 25.925925925925924\n",
            "61 37.03703703703704\n",
            "62 22.727272727272727\n",
            "63 37.03703703703704\n",
            "64 37.03703703703704\n",
            "65 29.629629629629626\n",
            "66 44.44444444444444\n",
            "67 51.85185185185185\n",
            "68 40.74074074074074\n",
            "69 29.629629629629626\n",
            "70 59.25925925925925\n",
            "71 37.03703703703704\n",
            "72 38.095238095238095\n",
            "73 40.74074074074074\n",
            "74 37.03703703703704\n",
            "75 37.03703703703704\n",
            "76 18.51851851851852\n",
            "77 35.0\n",
            "78 37.03703703703704\n",
            "79 33.33333333333333\n",
            "80 33.33333333333333\n",
            "81 37.03703703703704\n",
            "82 30.76923076923077\n",
            "83 48.148148148148145\n",
            "84 44.44444444444444\n",
            "85 25.925925925925924\n",
            "86 25.925925925925924\n",
            "87 29.166666666666668\n",
            "88 18.181818181818183\n",
            "89 23.076923076923077\n"
          ],
          "name": "stdout"
        }
      ]
    },
    {
      "cell_type": "code",
      "metadata": {
        "id": "71lEMjdc8viK",
        "colab": {
          "base_uri": "https://localhost:8080/",
          "height": 54
        },
        "outputId": "73ee9199-6ae1-4dc0-8aac-5b61b46386e7"
      },
      "source": [
        "from google.colab import drive\n",
        "drive.mount('/content/drive')"
      ],
      "execution_count": null,
      "outputs": [
        {
          "output_type": "stream",
          "text": [
            "Drive already mounted at /content/drive; to attempt to forcibly remount, call drive.mount(\"/content/drive\", force_remount=True).\n"
          ],
          "name": "stdout"
        }
      ]
    },
    {
      "cell_type": "code",
      "metadata": {
        "cellView": "code",
        "id": "NN-aRpqL8viN",
        "colab": {
          "base_uri": "https://localhost:8080/",
          "height": 68
        },
        "outputId": "67bf427d-61a2-4637-f58a-406c95a5c55e"
      },
      "source": [
        "#@title Revison: Lesson 3: Functions\n",
        "'''\n",
        "A function is a block of code which only runs when it is called.\n",
        "You can pass data, known as parameters, into a function.\n",
        "A function can return data as a result.\n",
        "\n",
        "To write a function we need to follow some rules.\n",
        "\n",
        "    - we start function definition with 'def' (keyword - reserved word in Python)\n",
        "    - we define function name - can be arbitrary, like a variable name\n",
        "    - in parentheses we define arguments/parameters\n",
        "    - body of the function needs to be indeted - tab\n",
        "    - we return a value with keyword 'return'\n",
        "\n",
        "Scope\n",
        "    - variables can only reach the area in which they are defined, which is called scope.\n",
        "    - think of it as the area of code where variables can be used\n",
        "    - python supports global variables (usable in the entire program) and local variables.\n",
        "    - variables defined inside a function are called local variables\n",
        "'''\n",
        "\n",
        "global_variable = 12\n",
        "\n",
        "def calculate_eq(a, b, c=10, d=20):\n",
        "    # result is a local variable\n",
        "    # as well as a, b, c, d - regardless if a variable with the same name\n",
        "    # already exists outside function's scope\n",
        "\n",
        "    print('c:', c)\n",
        "    print('d:', d)\n",
        "\n",
        "    result = ((a * b) - c) / d\n",
        "    return result\n",
        "\n",
        "\n",
        "x = 14\n",
        "y = 7\n",
        "\n",
        "# explain optional/positional paramteres/arguments\n",
        "calculate_eq(x, y)"
      ],
      "execution_count": null,
      "outputs": [
        {
          "output_type": "stream",
          "text": [
            "c: 10\n",
            "d: 20\n"
          ],
          "name": "stdout"
        },
        {
          "output_type": "execute_result",
          "data": {
            "text/plain": [
              "4.4"
            ]
          },
          "metadata": {
            "tags": []
          },
          "execution_count": 11
        }
      ]
    },
    {
      "cell_type": "code",
      "metadata": {
        "id": "UWGgyGHp8viP",
        "colab": {
          "base_uri": "https://localhost:8080/",
          "height": 34
        },
        "outputId": "c8c8a013-20c9-4180-b602-c36111ab7f2d"
      },
      "source": [
        "# ------------------------------------\n",
        "def sentence_splitter(s):\n",
        "    words = s.split(' ')\n",
        "\n",
        "    return len(words)\n",
        "# ------------------------------------\n",
        "\n",
        "sentence_splitter('The random sentence generator generated a random sentence about a random sentence.')"
      ],
      "execution_count": null,
      "outputs": [
        {
          "output_type": "execute_result",
          "data": {
            "text/plain": [
              "12"
            ]
          },
          "metadata": {
            "tags": []
          },
          "execution_count": 35
        }
      ]
    },
    {
      "cell_type": "markdown",
      "metadata": {
        "id": "ahyhNk298viQ"
      },
      "source": [
        "### HOMEWORK\n",
        "\n",
        "Write a function called `calculate_GC(seq)` that will calculate %GC content of any given nucleotide sequence. Let `calculate_GC(seq)` return a float of GC percentage.\n"
      ]
    },
    {
      "cell_type": "code",
      "metadata": {
        "id": "GRe5-MtB8viQ",
        "colab": {
          "base_uri": "https://localhost:8080/",
          "height": 34
        },
        "outputId": "9b99d3a4-2833-4311-e9f2-55fdd138a2df"
      },
      "source": [
        "def calculate_GC(seq):\n",
        "    GC = seq.count('G') + seq.count('C')\n",
        "    return (GC / len(seq)) * 100\n",
        "\n",
        "seq = 'CGACGATACGATAC'\n",
        "\n",
        "result = calculate_GC(seq)\n",
        "print('result is ', result)"
      ],
      "execution_count": null,
      "outputs": [
        {
          "output_type": "stream",
          "text": [
            "result is  50.0\n"
          ],
          "name": "stdout"
        }
      ]
    },
    {
      "cell_type": "code",
      "metadata": {
        "id": "8UPIbLp38viS",
        "colab": {
          "base_uri": "https://localhost:8080/",
          "height": 34
        },
        "outputId": "d532291c-a85e-4e05-9ab3-815441107108"
      },
      "source": [
        "# string formatting\n",
        "a = 'something'\n",
        "b = 12\n",
        "c = 44.5\n",
        "\n",
        "# sentence = 'I am using {} in sentence together with {} and {}'.format(a, b, c)\n",
        "sentence = f'I am using {a} in sentence together with {b} and {c}'\n",
        "\n",
        "print(sentence)"
      ],
      "execution_count": null,
      "outputs": [
        {
          "output_type": "stream",
          "text": [
            "I am using something in sentence together with 12 and 44.5\n"
          ],
          "name": "stdout"
        }
      ]
    },
    {
      "cell_type": "markdown",
      "metadata": {
        "id": "eDEIMIni8viW"
      },
      "source": [
        "## Iterators"
      ]
    },
    {
      "cell_type": "markdown",
      "metadata": {
        "id": "JWfbtGHk8viW"
      },
      "source": [
        "# New Section"
      ]
    },
    {
      "cell_type": "code",
      "metadata": {
        "id": "VzTNvN0E8viX",
        "colab": {
          "base_uri": "https://localhost:8080/",
          "height": 129
        },
        "outputId": "ccc90c86-42d9-4462-bc7b-23e99b4ebcfb"
      },
      "source": [
        "'''\n",
        "- Iterator in Python is simply an object that can be iterated upon. \n",
        "- An object which will return data, one element at a time.\n",
        "- Elegant way of iterating is by using the for loop. \n",
        "- Using this, we can iterate over any object that can return an iterator\n",
        "- Iterator can be a list, string, file etc.\n",
        "'''\n",
        "\n",
        "sequences = ['TAGGGACATCGTCGTGAAAACTTCTTCTCCTTGTCAGTGTTGAGGAACTTTGCAATG', \n",
        "             'AACTTTGCAATGTTTGAAACATGGTTGCTATAAGTTTGATAAAGC',\n",
        "             'CATACACACACCTATTGCCCTTCATTGGCCTCATTCATCAAGCGGCACGGTCCGGATG',\n",
        "             'GTGAAAACTTCTTCTCCTTGTCAGTGTTGAGGAACTTTGCAATGT',\n",
        "             'TCGTGACAAGATTCTCCTGCAAACACACATACACGTGATTGCGT',\n",
        "             'last element']\n",
        "\n",
        "for sequence in sequences:\n",
        "    print(sequence)\n"
      ],
      "execution_count": null,
      "outputs": [
        {
          "output_type": "stream",
          "text": [
            "TAGGGACATCGTCGTGAAAACTTCTTCTCCTTGTCAGTGTTGAGGAACTTTGCAATG\n",
            "AACTTTGCAATGTTTGAAACATGGTTGCTATAAGTTTGATAAAGC\n",
            "CATACACACACCTATTGCCCTTCATTGGCCTCATTCATCAAGCGGCACGGTCCGGATG\n",
            "GTGAAAACTTCTTCTCCTTGTCAGTGTTGAGGAACTTTGCAATGT\n",
            "TCGTGACAAGATTCTCCTGCAAACACACATACACGTGATTGCGT\n",
            "last element\n"
          ],
          "name": "stdout"
        }
      ]
    },
    {
      "cell_type": "code",
      "metadata": {
        "id": "y_XgCeDd8viY",
        "colab": {
          "base_uri": "https://localhost:8080/",
          "height": 92
        },
        "outputId": "dbfc2a3f-d695-4129-9cdc-97e036070788"
      },
      "source": [
        "list_of_numbers = [12, 4, 68, 19]\n",
        "\n",
        "for number in list_of_numbers:\n",
        "    # some logic here, by adding for number it defined what's in the parenthesis to be a number\n",
        "    print(number)"
      ],
      "execution_count": null,
      "outputs": [
        {
          "output_type": "stream",
          "text": [
            "12\n",
            "4\n",
            "68\n",
            "19\n"
          ],
          "name": "stdout"
        }
      ]
    },
    {
      "cell_type": "code",
      "metadata": {
        "id": "LkicWozH8via",
        "colab": {
          "base_uri": "https://localhost:8080/",
          "height": 134
        },
        "outputId": "71ac91d9-b249-4dc0-f39a-69d0282cf71f"
      },
      "source": [
        "# iterator variable name can be arbitrary - it has a scope within for loop\n",
        "\n",
        "for x in sequences:\n",
        "    print(x)\n",
        "\n",
        "# if we print x outside for loop, it will hold the value from the last loop\n",
        "print(x)"
      ],
      "execution_count": null,
      "outputs": [
        {
          "output_type": "stream",
          "text": [
            "TAGGGACATCGTCGTGAAAACTTCTTCTCCTTGTCAGTGTTGAGGAACTTTGCAATG\n",
            "AACTTTGCAATGTTTGAAACATGGTTGCTATAAGTTTGATAAAGC\n",
            "CATACACACACCTATTGCCCTTCATTGGCCTCATTCATCAAGCGGCACGGTCCGGATG\n",
            "GTGAAAACTTCTTCTCCTTGTCAGTGTTGAGGAACTTTGCAATGT\n",
            "TCGTGACAAGATTCTCCTGCAAACACACATACACGTGATTGCGT\n",
            "last element\n",
            "last element\n"
          ],
          "name": "stdout"
        }
      ]
    },
    {
      "cell_type": "code",
      "metadata": {
        "id": "hETnDgAy8vic",
        "colab": {
          "base_uri": "https://localhost:8080/",
          "height": 134
        },
        "outputId": "cb419e9d-bb5c-406e-cb64-d699e82ce048"
      },
      "source": [
        "# we can count loops with enumerate()\n",
        "for i, seq in enumerate(sequences):\n",
        "    print(i)\n",
        "\n",
        "print(i, seq)"
      ],
      "execution_count": null,
      "outputs": [
        {
          "output_type": "stream",
          "text": [
            "0\n",
            "1\n",
            "2\n",
            "3\n",
            "4\n",
            "5\n",
            "5 last element\n"
          ],
          "name": "stdout"
        }
      ]
    },
    {
      "cell_type": "code",
      "metadata": {
        "id": "xg-446nV8vie"
      },
      "source": [
        "# create 100 loops\n",
        "for i in range(0, 100):\n",
        "    print(i)\n"
      ],
      "execution_count": null,
      "outputs": []
    },
    {
      "cell_type": "code",
      "metadata": {
        "id": "JfwBVg338vif",
        "colab": {
          "base_uri": "https://localhost:8080/",
          "height": 232
        },
        "outputId": "1de3a8c9-0d28-4fed-eeb6-95e010f5ff9d"
      },
      "source": [
        "# nested loops - remember, string is also iterable\n",
        "\n",
        "for i, seq in enumerate(sequences):\n",
        "    \n",
        "    print(f'this is sequence number {i}')\n",
        "    for j, base in enumerate(seq):\n",
        "        print(f'{base} is the {j}th base in {i}th sequence')"
      ],
      "execution_count": null,
      "outputs": [
        {
          "output_type": "error",
          "ename": "NameError",
          "evalue": "ignored",
          "traceback": [
            "\u001b[0;31m---------------------------------------------------------------------------\u001b[0m",
            "\u001b[0;31mNameError\u001b[0m                                 Traceback (most recent call last)",
            "\u001b[0;32m<ipython-input-20-6b431b31a370>\u001b[0m in \u001b[0;36m<module>\u001b[0;34m()\u001b[0m\n\u001b[1;32m      1\u001b[0m \u001b[0;34m\u001b[0m\u001b[0m\n\u001b[0;32m----> 2\u001b[0;31m \u001b[0;32mfor\u001b[0m \u001b[0mi\u001b[0m\u001b[0;34m,\u001b[0m \u001b[0mseq\u001b[0m \u001b[0;32min\u001b[0m \u001b[0menumerate\u001b[0m\u001b[0;34m(\u001b[0m\u001b[0msequences\u001b[0m\u001b[0;34m)\u001b[0m\u001b[0;34m:\u001b[0m\u001b[0;34m\u001b[0m\u001b[0;34m\u001b[0m\u001b[0m\n\u001b[0m\u001b[1;32m      3\u001b[0m \u001b[0;34m\u001b[0m\u001b[0m\n\u001b[1;32m      4\u001b[0m     \u001b[0mprint\u001b[0m\u001b[0;34m(\u001b[0m\u001b[0;34mf'this is sequence number {i}'\u001b[0m\u001b[0;34m)\u001b[0m\u001b[0;34m\u001b[0m\u001b[0;34m\u001b[0m\u001b[0m\n\u001b[1;32m      5\u001b[0m     \u001b[0;32mfor\u001b[0m \u001b[0mj\u001b[0m\u001b[0;34m,\u001b[0m \u001b[0mbase\u001b[0m \u001b[0;32min\u001b[0m \u001b[0menumerate\u001b[0m\u001b[0;34m(\u001b[0m\u001b[0mseq\u001b[0m\u001b[0;34m)\u001b[0m\u001b[0;34m:\u001b[0m\u001b[0;34m\u001b[0m\u001b[0;34m\u001b[0m\u001b[0m\n",
            "\u001b[0;31mNameError\u001b[0m: name 'sequences' is not defined"
          ]
        }
      ]
    },
    {
      "cell_type": "markdown",
      "metadata": {
        "id": "yIRHWOZ-8vig"
      },
      "source": [
        "## Reading from file\n",
        "\n",
        "We are currently on Google Servers so in order to access our data from our Drive folder, we need to mount it and authorise the server to have access."
      ]
    },
    {
      "cell_type": "code",
      "metadata": {
        "id": "Msw6hDqN8vih",
        "colab": {
          "base_uri": "https://localhost:8080/",
          "height": 34
        },
        "outputId": "3092cd7b-097d-4b74-bdc4-04d8f00524be"
      },
      "source": [
        "from google.colab import drive\n",
        "drive.mount('/content/drive', force_remount=True)"
      ],
      "execution_count": null,
      "outputs": [
        {
          "output_type": "stream",
          "text": [
            "Mounted at /content/drive\n"
          ],
          "name": "stdout"
        }
      ]
    },
    {
      "cell_type": "markdown",
      "metadata": {
        "id": "W2HSTuvi8vii"
      },
      "source": [
        "Files can be found in `_files/` in the CC Drive folder."
      ]
    },
    {
      "cell_type": "code",
      "metadata": {
        "id": "_IqUWrCC8vii",
        "colab": {
          "base_uri": "https://localhost:8080/",
          "height": 134
        },
        "outputId": "9f73a207-5522-468c-f9bc-e2f43eafc22d"
      },
      "source": [
        "# The open() function returns a file object, which has a read() method for reading the content of the file\n",
        "\n",
        "sequences_file = open('/content/drive/My Drive/Shared/Coding club/_data/05_sequences.txt')\n",
        "\n",
        "for line in sequences_file:\n",
        "    print(line.replace('\\n', ''))\n",
        "\n",
        "sequences_file.close()"
      ],
      "execution_count": null,
      "outputs": [
        {
          "output_type": "stream",
          "text": [
            "TAGGGACATCGTCGTGAAAACTTCTTCTCCTTGTCAGTGTTGAGGAACTTTGCAATG \n",
            "AACTTTGCAATGTTTGAAACATGGTTGCTATAAGTTTGATAAAGC\n",
            "CATACACACACCTATTGCCCTTCATTGGCCTCATTCATCAAGCGGCACGGTCCGGATG\n",
            "GTGAAAACTTCTTCTCCTTGTCAGTGTTGAGGAACTTTGCAATGT\n",
            "TCGTGACAAGATTCTCCTGCAAACACACATACACGTGATTGCGT\n",
            "GCCCTTCATTGGCCTCATTCATCAAGCGGCACGGTCCGGAT\n",
            "TCATT\n"
          ],
          "name": "stdout"
        }
      ]
    },
    {
      "cell_type": "code",
      "metadata": {
        "id": "FhedcnYN8vik",
        "colab": {
          "base_uri": "https://localhost:8080/",
          "height": 134
        },
        "outputId": "55fee12d-f1f6-46ea-c4c6-8620edf95c24"
      },
      "source": [
        "# READING -----\n",
        "with open('/content/drive/My Drive/Shared/Coding club/_data/05_sequences.txt') as sequences_file:\n",
        "    # here\n",
        "    for line in sequences_file:\n",
        "        seq = line.strip()\n",
        "        print(seq)\n",
        "    # here the file is ---\n",
        "\n",
        "# WRITING -----\n",
        "with open('/content/drive/My Drive/Shared/Coding club/_data/05_sequences.x.txt', 'w') as sequences_file:\n",
        "    # here\n",
        "    for i in range(0, 100):\n",
        "        sequences_file.write(f'line {i}\\n')\n",
        "    # here the file is ---\n",
        "\n",
        "\n",
        "# file is closed \n",
        "# here file is already closed\n",
        "# no need to use sequence_file.close()\n"
      ],
      "execution_count": null,
      "outputs": [
        {
          "output_type": "stream",
          "text": [
            "TAGGGACATCGTCGTGAAAACTTCTTCTCCTTGTCAGTGTTGAGGAACTTTGCAATG\n",
            "AACTTTGCAATGTTTGAAACATGGTTGCTATAAGTTTGATAAAGC\n",
            "CATACACACACCTATTGCCCTTCATTGGCCTCATTCATCAAGCGGCACGGTCCGGATG\n",
            "GTGAAAACTTCTTCTCCTTGTCAGTGTTGAGGAACTTTGCAATGT\n",
            "TCGTGACAAGATTCTCCTGCAAACACACATACACGTGATTGCGT\n",
            "GCCCTTCATTGGCCTCATTCATCAAGCGGCACGGTCCGGAT\n",
            "TCATT\n"
          ],
          "name": "stdout"
        }
      ]
    },
    {
      "cell_type": "code",
      "metadata": {
        "id": "L8jXWnyp8vil"
      },
      "source": [
        "# Iterate over file"
      ],
      "execution_count": null,
      "outputs": []
    },
    {
      "cell_type": "code",
      "metadata": {
        "id": "sZZzG1Am8vim"
      },
      "source": [
        ""
      ],
      "execution_count": null,
      "outputs": []
    },
    {
      "cell_type": "markdown",
      "metadata": {
        "id": "vRU0s_2G8vin"
      },
      "source": [
        "## Homework\n",
        "- Read sequences from file `_data/05_guide_sequences.txt`\n",
        "- For each sequence calculate GC content\n",
        "- Print line numbers of the sequences and their GC content\n",
        "\n",
        "### Extra\n",
        "- Print only line numbers and %GC content for sequences that are at least 20 bp long and have more than 40% GC content\n",
        "- Help: https://www.w3schools.com/python/python_conditions.asp"
      ]
    },
    {
      "cell_type": "code",
      "metadata": {
        "id": "IsSualAP8vio",
        "colab": {
          "base_uri": "https://localhost:8080/",
          "height": 131
        },
        "outputId": "631cfdc1-2e72-4066-cbfd-04985eaeadff"
      },
      "source": [
        "from google.colab import drive \n",
        "drive.mount('/content/drive')"
      ],
      "execution_count": null,
      "outputs": [
        {
          "output_type": "stream",
          "text": [
            "Go to this URL in a browser: https://accounts.google.com/o/oauth2/auth?client_id=947318989803-6bn6qk8qdgf4n4g3pfee6491hc0brc4i.apps.googleusercontent.com&redirect_uri=urn%3aietf%3awg%3aoauth%3a2.0%3aoob&response_type=code&scope=email%20https%3a%2f%2fwww.googleapis.com%2fauth%2fdocs.test%20https%3a%2f%2fwww.googleapis.com%2fauth%2fdrive%20https%3a%2f%2fwww.googleapis.com%2fauth%2fdrive.photos.readonly%20https%3a%2f%2fwww.googleapis.com%2fauth%2fpeopleapi.readonly\n",
            "\n",
            "Enter your authorization code:\n",
            "··········\n",
            "Mounted at /content/drive\n"
          ],
          "name": "stdout"
        }
      ]
    },
    {
      "cell_type": "code",
      "metadata": {
        "id": "7ELjCYFW8vip",
        "colab": {
          "base_uri": "https://localhost:8080/",
          "height": 71
        },
        "outputId": "21bab8e7-fea9-47c8-80b0-2d7e893a885e"
      },
      "source": [
        "sequence_file = open('/content/drive/My Drive/Coding club/_data/05_guide_sequences.txt')\n",
        "print(sequence_file)\n",
        "\n",
        "sequence_file.read()\n",
        "\n"
      ],
      "execution_count": null,
      "outputs": [
        {
          "output_type": "stream",
          "text": [
            "<_io.TextIOWrapper name='/content/drive/My Drive/Coding club/_data/05_guide_sequences.txt' mode='r' encoding='UTF-8'>\n"
          ],
          "name": "stdout"
        },
        {
          "output_type": "execute_result",
          "data": {
            "text/plain": [
              "'GAGTACCGACTGGAGTCCATGTGAGT\\nCAAAGAACTTCTCGGCCTCCTTGAAT\\nATTTCCTGGGTCCGTTAGCATGGAAT\\nGACAACAGCCTAGAGTTTCTGGGGAT\\nAATCGGGTGACAGAAGACCAATGGAT\\nGTCGGTACTCCATCCCACAAAAGAAT\\nTCCAATTGGACTGATATAGGAAGGAT\\nGTATCAATGATGCTTTCCGTCTGAAT\\nAGCAAATCACCCAAAAAGAAT\\nGCTAATATCGATGGAGGCATAAGGAT\\nCCGTCTGAATGACAACAGCCTAGAGT\\nCATTTTCCAATGCTAGGGTCCAGGGT\\nATGGCAGAGTCCCAACAATCGTGAGT\\nCCGTTTTCCCAGAAT\\nGCAGACCAAAGCATCAAAGTGAGGAT\\nTGTGCTTTGGGATAACAGGTTTGAAT\\nTCCTTCCTATATCAGTCCAATTGGAT\\nCCCCAAAGGCGAGAGATAGTTGGGGT\\nCTGTCCAAAGGGAACTGTCAAAGAGT\\nTTGTGG\\nTCTCTGATCCCAGTGAAGATCAGGAT\\nCCTACAACATTTTCCAATGCTAGGGT\\nTCTTGAAACTGGAATTGGTAAAGGGT\\nGCAGCTGAGGCCATTATATGAAGAGT\\nATTGTCATCCTGATCTTCACTGGGAT\\nAGAAAACTGTAATTTACCGAATGAAT\\nGGGGAAATTCCCAAAGACCAGTGGAT\\nCCTATGGCAAAGTTGATGAAT\\nAGCAGTGAGTATTCTGGACAGTGAAT\\nGCAGCATATGCCATATCATACTGGAT\\nTGGTCTTCCTAATATGAGGAT\\nGTGACATTTTACTTTCATCTAAGGGT\\nTACCATTGTCTTCTTGAAAATCGGGT\\nTGATTTCCCCAACAGCTTCATGGAAT\\nGACAAAGTGCTTCTTGAAACTGGAAT\\nTTTGCTTGGTAAGAAGCCCCATG\\nGCTGCAGGCTCTTCAGCAAAATGGGT\\nTGTATCCACTACAAGAAATTCAGAAT\\nGCCTTTTCAACTTCAGTTCTAGGAAT\\nAACTGTAATTTACCGAATGAATGAGT\\nTCCATATGGCTGATTGTTTTTGGAGT\\nTCTAACGTAAATGGCAGAGT\\nTACATGTTAGAGAAGTGGAGGTGGAT\\nCAGCTCTTGGAGATAAAGCAGTGAGT\\nGCTAAGAAATGGTAATGAAGGAT\\nCTCTACAGGGAGGAGGATGTGCGAGT\\nGACTGCTTTCTGAACATTTCCTGGGT\\nTTTTTGGTTGCTGGGT\\nTAAGCATTCTTGTGGATTATCTGGGT\\nTTGTAACCCAGATAATCCACAAGAAT\\nCGAAGACAAGAGCAAACGGGT\\nTGAAGCTTGACTGTGAGATTCTGAAT\\nCCAGAACAAGAATTCTTTTGTGGGAT\\nTTCAAGTAATAAGCATTCTTGTGGAT\\nATTGTCACCTTTGTGCACATAAGGAT\\nTCTGAACATCATCAGTGTTTTGGAAT\\nATCAAAGTTCACTTGCTTCTTGGAAT\\nAAGAGAATGTCCAAAACATGGTGAGT\\nATGTTGTAGGAGCAAAGAACATGAAT\\nTCCCAGGCCTGGGATGCACAGAGAAT\\nATAACACCAATATTACTGAAGAGAAT\\nACAAGAATTCTTTTGTGGGATGGAGT\\nTAGATGGTTTGTATTTAGAAT\\nGTGGGAGATGAAGTAAGTCAATGAAT\\nAAACAGATTATGAGGACTATGGGGAT\\nCTTTCTTCTGAATTTGCAGTATGAAT\\nCAGTTTCTGTCCAGCTTCTGTAGAGT\\nCTGTTCTCTTTTCCCAGGCCTGGGAT\\nTTTTGTTTCTCTACAGGGAGGAGGAT\\nTTTTAAATATAGGTGATATGTGGGGT\\nCTTCCCCAGGTCCCAAGCTGTGGGAT\\nTCATCTTGTCCATTTTCATGCAGGAT\\nAATCAGCTTTTTGGGTGAGT\\nAGAGGAGACTATGAAGTAAATGGGGT\\nATTGTTTTTGGAGTTGTGATGGGAGT\\nCGAGTGGCTAATTTGAAACCAAGAAT\\nCATATCACCTATATTTAAAAAAGAAT\\nATGGAATTTTCCCAGAATC\\nTTTTTCATCCACTGGTCTTTGGGAAT\\nGAGATTCTGAATTTCTTGTAGTGGAT\\nTAGCAAAGGAGAAAATAATCCAGGAT\\nATCATCAGTGTTTTGGAATCCTGGAT\\nCATATTGCTACA\\nAGAAACATGGAACAGAGATGCGGGGT\\nCCTGGCTGAAAGACCAGAACAAGAAT\\nAAAAAATCAGATGATTCTTTTTGGGT\\nAACAAGAAAACTGTAATTTACCGAAT\\nCTGTTTTTTGCTTTTGCAAATAG\\nTTTCTGAAAGTAAAATAGAAA\\nAATTTTCTTTTCTGTCATTTCAGAAT'"
            ]
          },
          "metadata": {
            "tags": []
          },
          "execution_count": 12
        }
      ]
    },
    {
      "cell_type": "code",
      "metadata": {
        "id": "wDZCVmCb8viq",
        "colab": {
          "base_uri": "https://localhost:8080/",
          "height": 1000
        },
        "outputId": "4e164fb6-d9f1-46eb-9e73-cd786299cdfb"
      },
      "source": [
        "sequence_file = open('/content/drive/My Drive/Coding club/_data/05_guide_sequences.txt')\n",
        "print(sequence_file)\n",
        "for line in sequence_file:\n",
        "  print(line.replace('\\n',''))"
      ],
      "execution_count": null,
      "outputs": [
        {
          "output_type": "stream",
          "text": [
            "<_io.TextIOWrapper name='/content/drive/My Drive/Coding club/_data/05_guide_sequences.txt' mode='r' encoding='UTF-8'>\n",
            "GAGTACCGACTGGAGTCCATGTGAGT\n",
            "CAAAGAACTTCTCGGCCTCCTTGAAT\n",
            "ATTTCCTGGGTCCGTTAGCATGGAAT\n",
            "GACAACAGCCTAGAGTTTCTGGGGAT\n",
            "AATCGGGTGACAGAAGACCAATGGAT\n",
            "GTCGGTACTCCATCCCACAAAAGAAT\n",
            "TCCAATTGGACTGATATAGGAAGGAT\n",
            "GTATCAATGATGCTTTCCGTCTGAAT\n",
            "AGCAAATCACCCAAAAAGAAT\n",
            "GCTAATATCGATGGAGGCATAAGGAT\n",
            "CCGTCTGAATGACAACAGCCTAGAGT\n",
            "CATTTTCCAATGCTAGGGTCCAGGGT\n",
            "ATGGCAGAGTCCCAACAATCGTGAGT\n",
            "CCGTTTTCCCAGAAT\n",
            "GCAGACCAAAGCATCAAAGTGAGGAT\n",
            "TGTGCTTTGGGATAACAGGTTTGAAT\n",
            "TCCTTCCTATATCAGTCCAATTGGAT\n",
            "CCCCAAAGGCGAGAGATAGTTGGGGT\n",
            "CTGTCCAAAGGGAACTGTCAAAGAGT\n",
            "TTGTGG\n",
            "TCTCTGATCCCAGTGAAGATCAGGAT\n",
            "CCTACAACATTTTCCAATGCTAGGGT\n",
            "TCTTGAAACTGGAATTGGTAAAGGGT\n",
            "GCAGCTGAGGCCATTATATGAAGAGT\n",
            "ATTGTCATCCTGATCTTCACTGGGAT\n",
            "AGAAAACTGTAATTTACCGAATGAAT\n",
            "GGGGAAATTCCCAAAGACCAGTGGAT\n",
            "CCTATGGCAAAGTTGATGAAT\n",
            "AGCAGTGAGTATTCTGGACAGTGAAT\n",
            "GCAGCATATGCCATATCATACTGGAT\n",
            "TGGTCTTCCTAATATGAGGAT\n",
            "GTGACATTTTACTTTCATCTAAGGGT\n",
            "TACCATTGTCTTCTTGAAAATCGGGT\n",
            "TGATTTCCCCAACAGCTTCATGGAAT\n",
            "GACAAAGTGCTTCTTGAAACTGGAAT\n",
            "TTTGCTTGGTAAGAAGCCCCATG\n",
            "GCTGCAGGCTCTTCAGCAAAATGGGT\n",
            "TGTATCCACTACAAGAAATTCAGAAT\n",
            "GCCTTTTCAACTTCAGTTCTAGGAAT\n",
            "AACTGTAATTTACCGAATGAATGAGT\n",
            "TCCATATGGCTGATTGTTTTTGGAGT\n",
            "TCTAACGTAAATGGCAGAGT\n",
            "TACATGTTAGAGAAGTGGAGGTGGAT\n",
            "CAGCTCTTGGAGATAAAGCAGTGAGT\n",
            "GCTAAGAAATGGTAATGAAGGAT\n",
            "CTCTACAGGGAGGAGGATGTGCGAGT\n",
            "GACTGCTTTCTGAACATTTCCTGGGT\n",
            "TTTTTGGTTGCTGGGT\n",
            "TAAGCATTCTTGTGGATTATCTGGGT\n",
            "TTGTAACCCAGATAATCCACAAGAAT\n",
            "CGAAGACAAGAGCAAACGGGT\n",
            "TGAAGCTTGACTGTGAGATTCTGAAT\n",
            "CCAGAACAAGAATTCTTTTGTGGGAT\n",
            "TTCAAGTAATAAGCATTCTTGTGGAT\n",
            "ATTGTCACCTTTGTGCACATAAGGAT\n",
            "TCTGAACATCATCAGTGTTTTGGAAT\n",
            "ATCAAAGTTCACTTGCTTCTTGGAAT\n",
            "AAGAGAATGTCCAAAACATGGTGAGT\n",
            "ATGTTGTAGGAGCAAAGAACATGAAT\n",
            "TCCCAGGCCTGGGATGCACAGAGAAT\n",
            "ATAACACCAATATTACTGAAGAGAAT\n",
            "ACAAGAATTCTTTTGTGGGATGGAGT\n",
            "TAGATGGTTTGTATTTAGAAT\n",
            "GTGGGAGATGAAGTAAGTCAATGAAT\n",
            "AAACAGATTATGAGGACTATGGGGAT\n",
            "CTTTCTTCTGAATTTGCAGTATGAAT\n",
            "CAGTTTCTGTCCAGCTTCTGTAGAGT\n",
            "CTGTTCTCTTTTCCCAGGCCTGGGAT\n",
            "TTTTGTTTCTCTACAGGGAGGAGGAT\n",
            "TTTTAAATATAGGTGATATGTGGGGT\n",
            "CTTCCCCAGGTCCCAAGCTGTGGGAT\n",
            "TCATCTTGTCCATTTTCATGCAGGAT\n",
            "AATCAGCTTTTTGGGTGAGT\n",
            "AGAGGAGACTATGAAGTAAATGGGGT\n",
            "ATTGTTTTTGGAGTTGTGATGGGAGT\n",
            "CGAGTGGCTAATTTGAAACCAAGAAT\n",
            "CATATCACCTATATTTAAAAAAGAAT\n",
            "ATGGAATTTTCCCAGAATC\n",
            "TTTTTCATCCACTGGTCTTTGGGAAT\n",
            "GAGATTCTGAATTTCTTGTAGTGGAT\n",
            "TAGCAAAGGAGAAAATAATCCAGGAT\n",
            "ATCATCAGTGTTTTGGAATCCTGGAT\n",
            "CATATTGCTACA\n",
            "AGAAACATGGAACAGAGATGCGGGGT\n",
            "CCTGGCTGAAAGACCAGAACAAGAAT\n",
            "AAAAAATCAGATGATTCTTTTTGGGT\n",
            "AACAAGAAAACTGTAATTTACCGAAT\n",
            "CTGTTTTTTGCTTTTGCAAATAG\n",
            "TTTCTGAAAGTAAAATAGAAA\n",
            "AATTTTCTTTTCTGTCATTTCAGAAT\n"
          ],
          "name": "stdout"
        }
      ]
    },
    {
      "cell_type": "code",
      "metadata": {
        "id": "zZvq1M7I8vis",
        "colab": {
          "base_uri": "https://localhost:8080/",
          "height": 1000
        },
        "outputId": "7d2af7c2-6020-444e-a411-2dbf5059330f"
      },
      "source": [
        "sequence_file = open('/content/drive/My Drive/Coding club/_data/05_guide_sequences.txt')\n",
        "\n",
        "\n",
        "for line in sequence_file:\n",
        "  print(((line.count('G') + line.count('C')) / len(line)) * 100) "
      ],
      "execution_count": null,
      "outputs": [
        {
          "output_type": "stream",
          "text": [
            "51.85185185185185\n",
            "44.44444444444444\n",
            "44.44444444444444\n",
            "48.148148148148145\n",
            "44.44444444444444\n",
            "44.44444444444444\n",
            "37.03703703703704\n",
            "37.03703703703704\n",
            "31.818181818181817\n",
            "40.74074074074074\n",
            "48.148148148148145\n",
            "48.148148148148145\n",
            "48.148148148148145\n",
            "43.75\n",
            "44.44444444444444\n",
            "37.03703703703704\n",
            "37.03703703703704\n",
            "55.55555555555556\n",
            "44.44444444444444\n",
            "42.857142857142854\n",
            "44.44444444444444\n",
            "40.74074074074074\n",
            "37.03703703703704\n",
            "44.44444444444444\n",
            "40.74074074074074\n",
            "25.925925925925924\n",
            "48.148148148148145\n",
            "36.36363636363637\n",
            "40.74074074074074\n",
            "40.74074074074074\n",
            "36.36363636363637\n",
            "33.33333333333333\n",
            "37.03703703703704\n",
            "40.74074074074074\n",
            "37.03703703703704\n",
            "45.83333333333333\n",
            "51.85185185185185\n",
            "29.629629629629626\n",
            "37.03703703703704\n",
            "29.629629629629626\n",
            "37.03703703703704\n",
            "38.095238095238095\n",
            "40.74074074074074\n",
            "44.44444444444444\n",
            "33.33333333333333\n",
            "55.55555555555556\n",
            "44.44444444444444\n",
            "41.17647058823529\n",
            "37.03703703703704\n",
            "33.33333333333333\n",
            "50.0\n",
            "37.03703703703704\n",
            "37.03703703703704\n",
            "29.629629629629626\n",
            "37.03703703703704\n",
            "33.33333333333333\n",
            "33.33333333333333\n",
            "37.03703703703704\n",
            "33.33333333333333\n",
            "55.55555555555556\n",
            "25.925925925925924\n",
            "37.03703703703704\n",
            "22.727272727272727\n",
            "37.03703703703704\n",
            "37.03703703703704\n",
            "29.629629629629626\n",
            "44.44444444444444\n",
            "51.85185185185185\n",
            "40.74074074074074\n",
            "29.629629629629626\n",
            "59.25925925925925\n",
            "37.03703703703704\n",
            "38.095238095238095\n",
            "40.74074074074074\n",
            "37.03703703703704\n",
            "37.03703703703704\n",
            "18.51851851851852\n",
            "35.0\n",
            "37.03703703703704\n",
            "33.33333333333333\n",
            "33.33333333333333\n",
            "37.03703703703704\n",
            "30.76923076923077\n",
            "48.148148148148145\n",
            "44.44444444444444\n",
            "25.925925925925924\n",
            "25.925925925925924\n",
            "29.166666666666668\n",
            "18.181818181818183\n",
            "23.076923076923077\n"
          ],
          "name": "stdout"
        }
      ]
    },
    {
      "cell_type": "code",
      "metadata": {
        "id": "gHbcOhSr8vit",
        "colab": {
          "base_uri": "https://localhost:8080/",
          "height": 1000
        },
        "outputId": "bdbc7d7d-c88f-4b94-cadc-fc0d9a71483d"
      },
      "source": [
        "sequence_file = open('/content/drive/My Drive/Coding club/_data/05_guide_sequences.txt')\n",
        "\n",
        "for i, line in enumerate(sequence_file):\n",
        "  print(i, (line.count('G') + line.count('C')) / len(line) * 100)\n"
      ],
      "execution_count": null,
      "outputs": [
        {
          "output_type": "stream",
          "text": [
            "0 51.85185185185185\n",
            "1 44.44444444444444\n",
            "2 44.44444444444444\n",
            "3 48.148148148148145\n",
            "4 44.44444444444444\n",
            "5 44.44444444444444\n",
            "6 37.03703703703704\n",
            "7 37.03703703703704\n",
            "8 31.818181818181817\n",
            "9 40.74074074074074\n",
            "10 48.148148148148145\n",
            "11 48.148148148148145\n",
            "12 48.148148148148145\n",
            "13 43.75\n",
            "14 44.44444444444444\n",
            "15 37.03703703703704\n",
            "16 37.03703703703704\n",
            "17 55.55555555555556\n",
            "18 44.44444444444444\n",
            "19 42.857142857142854\n",
            "20 44.44444444444444\n",
            "21 40.74074074074074\n",
            "22 37.03703703703704\n",
            "23 44.44444444444444\n",
            "24 40.74074074074074\n",
            "25 25.925925925925924\n",
            "26 48.148148148148145\n",
            "27 36.36363636363637\n",
            "28 40.74074074074074\n",
            "29 40.74074074074074\n",
            "30 36.36363636363637\n",
            "31 33.33333333333333\n",
            "32 37.03703703703704\n",
            "33 40.74074074074074\n",
            "34 37.03703703703704\n",
            "35 45.83333333333333\n",
            "36 51.85185185185185\n",
            "37 29.629629629629626\n",
            "38 37.03703703703704\n",
            "39 29.629629629629626\n",
            "40 37.03703703703704\n",
            "41 38.095238095238095\n",
            "42 40.74074074074074\n",
            "43 44.44444444444444\n",
            "44 33.33333333333333\n",
            "45 55.55555555555556\n",
            "46 44.44444444444444\n",
            "47 41.17647058823529\n",
            "48 37.03703703703704\n",
            "49 33.33333333333333\n",
            "50 50.0\n",
            "51 37.03703703703704\n",
            "52 37.03703703703704\n",
            "53 29.629629629629626\n",
            "54 37.03703703703704\n",
            "55 33.33333333333333\n",
            "56 33.33333333333333\n",
            "57 37.03703703703704\n",
            "58 33.33333333333333\n",
            "59 55.55555555555556\n",
            "60 25.925925925925924\n",
            "61 37.03703703703704\n",
            "62 22.727272727272727\n",
            "63 37.03703703703704\n",
            "64 37.03703703703704\n",
            "65 29.629629629629626\n",
            "66 44.44444444444444\n",
            "67 51.85185185185185\n",
            "68 40.74074074074074\n",
            "69 29.629629629629626\n",
            "70 59.25925925925925\n",
            "71 37.03703703703704\n",
            "72 38.095238095238095\n",
            "73 40.74074074074074\n",
            "74 37.03703703703704\n",
            "75 37.03703703703704\n",
            "76 18.51851851851852\n",
            "77 35.0\n",
            "78 37.03703703703704\n",
            "79 33.33333333333333\n",
            "80 33.33333333333333\n",
            "81 37.03703703703704\n",
            "82 30.76923076923077\n",
            "83 48.148148148148145\n",
            "84 44.44444444444444\n",
            "85 25.925925925925924\n",
            "86 25.925925925925924\n",
            "87 29.166666666666668\n",
            "88 18.181818181818183\n",
            "89 23.076923076923077\n"
          ],
          "name": "stdout"
        }
      ]
    },
    {
      "cell_type": "code",
      "metadata": {
        "id": "NXq26zoO8u41",
        "colab": {
          "base_uri": "https://localhost:8080/",
          "height": 54
        },
        "outputId": "73ee9199-6ae1-4dc0-8aac-5b61b46386e7"
      },
      "source": [
        "from google.colab import drive\n",
        "drive.mount('/content/drive')"
      ],
      "execution_count": null,
      "outputs": [
        {
          "output_type": "stream",
          "text": [
            "Drive already mounted at /content/drive; to attempt to forcibly remount, call drive.mount(\"/content/drive\", force_remount=True).\n"
          ],
          "name": "stdout"
        }
      ]
    },
    {
      "cell_type": "code",
      "metadata": {
        "cellView": "code",
        "id": "Z-xmvEKN8u48",
        "colab": {
          "base_uri": "https://localhost:8080/",
          "height": 68
        },
        "outputId": "67bf427d-61a2-4637-f58a-406c95a5c55e"
      },
      "source": [
        "#@title Revison: Lesson 3: Functions\n",
        "'''\n",
        "A function is a block of code which only runs when it is called.\n",
        "You can pass data, known as parameters, into a function.\n",
        "A function can return data as a result.\n",
        "\n",
        "To write a function we need to follow some rules.\n",
        "\n",
        "    - we start function definition with 'def' (keyword - reserved word in Python)\n",
        "    - we define function name - can be arbitrary, like a variable name\n",
        "    - in parentheses we define arguments/parameters\n",
        "    - body of the function needs to be indeted - tab\n",
        "    - we return a value with keyword 'return'\n",
        "\n",
        "Scope\n",
        "    - variables can only reach the area in which they are defined, which is called scope.\n",
        "    - think of it as the area of code where variables can be used\n",
        "    - python supports global variables (usable in the entire program) and local variables.\n",
        "    - variables defined inside a function are called local variables\n",
        "'''\n",
        "\n",
        "global_variable = 12\n",
        "\n",
        "def calculate_eq(a, b, c=10, d=20):\n",
        "    # result is a local variable\n",
        "    # as well as a, b, c, d - regardless if a variable with the same name\n",
        "    # already exists outside function's scope\n",
        "\n",
        "    print('c:', c)\n",
        "    print('d:', d)\n",
        "\n",
        "    result = ((a * b) - c) / d\n",
        "    return result\n",
        "\n",
        "\n",
        "x = 14\n",
        "y = 7\n",
        "\n",
        "# explain optional/positional paramteres/arguments\n",
        "calculate_eq(x, y)"
      ],
      "execution_count": null,
      "outputs": [
        {
          "output_type": "stream",
          "text": [
            "c: 10\n",
            "d: 20\n"
          ],
          "name": "stdout"
        },
        {
          "output_type": "execute_result",
          "data": {
            "text/plain": [
              "4.4"
            ]
          },
          "metadata": {
            "tags": []
          },
          "execution_count": 11
        }
      ]
    },
    {
      "cell_type": "code",
      "metadata": {
        "id": "_jdly_kZ8u4_",
        "colab": {
          "base_uri": "https://localhost:8080/",
          "height": 34
        },
        "outputId": "c8c8a013-20c9-4180-b602-c36111ab7f2d"
      },
      "source": [
        "# ------------------------------------\n",
        "def sentence_splitter(s):\n",
        "    words = s.split(' ')\n",
        "\n",
        "    return len(words)\n",
        "# ------------------------------------\n",
        "\n",
        "sentence_splitter('The random sentence generator generated a random sentence about a random sentence.')"
      ],
      "execution_count": null,
      "outputs": [
        {
          "output_type": "execute_result",
          "data": {
            "text/plain": [
              "12"
            ]
          },
          "metadata": {
            "tags": []
          },
          "execution_count": 35
        }
      ]
    },
    {
      "cell_type": "markdown",
      "metadata": {
        "id": "-9J4LyQe8u5B"
      },
      "source": [
        "### HOMEWORK\n",
        "\n",
        "Write a function called `calculate_GC(seq)` that will calculate %GC content of any given nucleotide sequence. Let `calculate_GC(seq)` return a float of GC percentage.\n"
      ]
    },
    {
      "cell_type": "code",
      "metadata": {
        "id": "vQowkqe18u5C",
        "colab": {
          "base_uri": "https://localhost:8080/",
          "height": 34
        },
        "outputId": "9b99d3a4-2833-4311-e9f2-55fdd138a2df"
      },
      "source": [
        "def calculate_GC(seq):\n",
        "    GC = seq.count('G') + seq.count('C')\n",
        "    return (GC / len(seq)) * 100\n",
        "\n",
        "seq = 'CGACGATACGATAC'\n",
        "\n",
        "result = calculate_GC(seq)\n",
        "print('result is ', result)"
      ],
      "execution_count": null,
      "outputs": [
        {
          "output_type": "stream",
          "text": [
            "result is  50.0\n"
          ],
          "name": "stdout"
        }
      ]
    },
    {
      "cell_type": "code",
      "metadata": {
        "id": "lqMGmGgf8u5E",
        "colab": {
          "base_uri": "https://localhost:8080/",
          "height": 34
        },
        "outputId": "d532291c-a85e-4e05-9ab3-815441107108"
      },
      "source": [
        "# string formatting\n",
        "a = 'something'\n",
        "b = 12\n",
        "c = 44.5\n",
        "\n",
        "# sentence = 'I am using {} in sentence together with {} and {}'.format(a, b, c)\n",
        "sentence = f'I am using {a} in sentence together with {b} and {c}'\n",
        "\n",
        "print(sentence)"
      ],
      "execution_count": null,
      "outputs": [
        {
          "output_type": "stream",
          "text": [
            "I am using something in sentence together with 12 and 44.5\n"
          ],
          "name": "stdout"
        }
      ]
    },
    {
      "cell_type": "markdown",
      "metadata": {
        "id": "RAqZ7ioE8u5G"
      },
      "source": [
        "## Iterators"
      ]
    },
    {
      "cell_type": "markdown",
      "metadata": {
        "id": "npjt3Uc-8u5G"
      },
      "source": [
        "# New Section"
      ]
    },
    {
      "cell_type": "code",
      "metadata": {
        "id": "JUJq3vb88u5H",
        "colab": {
          "base_uri": "https://localhost:8080/",
          "height": 129
        },
        "outputId": "ccc90c86-42d9-4462-bc7b-23e99b4ebcfb"
      },
      "source": [
        "'''\n",
        "- Iterator in Python is simply an object that can be iterated upon. \n",
        "- An object which will return data, one element at a time.\n",
        "- Elegant way of iterating is by using the for loop. \n",
        "- Using this, we can iterate over any object that can return an iterator\n",
        "- Iterator can be a list, string, file etc.\n",
        "'''\n",
        "\n",
        "sequences = ['TAGGGACATCGTCGTGAAAACTTCTTCTCCTTGTCAGTGTTGAGGAACTTTGCAATG', \n",
        "             'AACTTTGCAATGTTTGAAACATGGTTGCTATAAGTTTGATAAAGC',\n",
        "             'CATACACACACCTATTGCCCTTCATTGGCCTCATTCATCAAGCGGCACGGTCCGGATG',\n",
        "             'GTGAAAACTTCTTCTCCTTGTCAGTGTTGAGGAACTTTGCAATGT',\n",
        "             'TCGTGACAAGATTCTCCTGCAAACACACATACACGTGATTGCGT',\n",
        "             'last element']\n",
        "\n",
        "for sequence in sequences:\n",
        "    print(sequence)\n"
      ],
      "execution_count": null,
      "outputs": [
        {
          "output_type": "stream",
          "text": [
            "TAGGGACATCGTCGTGAAAACTTCTTCTCCTTGTCAGTGTTGAGGAACTTTGCAATG\n",
            "AACTTTGCAATGTTTGAAACATGGTTGCTATAAGTTTGATAAAGC\n",
            "CATACACACACCTATTGCCCTTCATTGGCCTCATTCATCAAGCGGCACGGTCCGGATG\n",
            "GTGAAAACTTCTTCTCCTTGTCAGTGTTGAGGAACTTTGCAATGT\n",
            "TCGTGACAAGATTCTCCTGCAAACACACATACACGTGATTGCGT\n",
            "last element\n"
          ],
          "name": "stdout"
        }
      ]
    },
    {
      "cell_type": "code",
      "metadata": {
        "id": "-4xWLKW28u5J",
        "colab": {
          "base_uri": "https://localhost:8080/",
          "height": 92
        },
        "outputId": "dbfc2a3f-d695-4129-9cdc-97e036070788"
      },
      "source": [
        "list_of_numbers = [12, 4, 68, 19]\n",
        "\n",
        "for number in list_of_numbers:\n",
        "    # some logic here, by adding for number it defined what's in the parenthesis to be a number\n",
        "    print(number)"
      ],
      "execution_count": null,
      "outputs": [
        {
          "output_type": "stream",
          "text": [
            "12\n",
            "4\n",
            "68\n",
            "19\n"
          ],
          "name": "stdout"
        }
      ]
    },
    {
      "cell_type": "code",
      "metadata": {
        "id": "mznjSMb68u5L",
        "colab": {
          "base_uri": "https://localhost:8080/",
          "height": 134
        },
        "outputId": "71ac91d9-b249-4dc0-f39a-69d0282cf71f"
      },
      "source": [
        "# iterator variable name can be arbitrary - it has a scope within for loop\n",
        "\n",
        "for x in sequences:\n",
        "    print(x)\n",
        "\n",
        "# if we print x outside for loop, it will hold the value from the last loop\n",
        "print(x)"
      ],
      "execution_count": null,
      "outputs": [
        {
          "output_type": "stream",
          "text": [
            "TAGGGACATCGTCGTGAAAACTTCTTCTCCTTGTCAGTGTTGAGGAACTTTGCAATG\n",
            "AACTTTGCAATGTTTGAAACATGGTTGCTATAAGTTTGATAAAGC\n",
            "CATACACACACCTATTGCCCTTCATTGGCCTCATTCATCAAGCGGCACGGTCCGGATG\n",
            "GTGAAAACTTCTTCTCCTTGTCAGTGTTGAGGAACTTTGCAATGT\n",
            "TCGTGACAAGATTCTCCTGCAAACACACATACACGTGATTGCGT\n",
            "last element\n",
            "last element\n"
          ],
          "name": "stdout"
        }
      ]
    },
    {
      "cell_type": "code",
      "metadata": {
        "id": "Xx9gvVmM8u5N",
        "colab": {
          "base_uri": "https://localhost:8080/",
          "height": 134
        },
        "outputId": "cb419e9d-bb5c-406e-cb64-d699e82ce048"
      },
      "source": [
        "# we can count loops with enumerate()\n",
        "for i, seq in enumerate(sequences):\n",
        "    print(i)\n",
        "\n",
        "print(i, seq)"
      ],
      "execution_count": null,
      "outputs": [
        {
          "output_type": "stream",
          "text": [
            "0\n",
            "1\n",
            "2\n",
            "3\n",
            "4\n",
            "5\n",
            "5 last element\n"
          ],
          "name": "stdout"
        }
      ]
    },
    {
      "cell_type": "code",
      "metadata": {
        "id": "lDBxjRa78u5Q"
      },
      "source": [
        "# create 100 loops\n",
        "for i in range(0, 100):\n",
        "    print(i)\n"
      ],
      "execution_count": null,
      "outputs": []
    },
    {
      "cell_type": "code",
      "metadata": {
        "id": "EUyBK_ep8u5S",
        "colab": {
          "base_uri": "https://localhost:8080/",
          "height": 232
        },
        "outputId": "1de3a8c9-0d28-4fed-eeb6-95e010f5ff9d"
      },
      "source": [
        "# nested loops - remember, string is also iterable\n",
        "\n",
        "for i, seq in enumerate(sequences):\n",
        "    \n",
        "    print(f'this is sequence number {i}')\n",
        "    for j, base in enumerate(seq):\n",
        "        print(f'{base} is the {j}th base in {i}th sequence')"
      ],
      "execution_count": null,
      "outputs": [
        {
          "output_type": "error",
          "ename": "NameError",
          "evalue": "ignored",
          "traceback": [
            "\u001b[0;31m---------------------------------------------------------------------------\u001b[0m",
            "\u001b[0;31mNameError\u001b[0m                                 Traceback (most recent call last)",
            "\u001b[0;32m<ipython-input-20-6b431b31a370>\u001b[0m in \u001b[0;36m<module>\u001b[0;34m()\u001b[0m\n\u001b[1;32m      1\u001b[0m \u001b[0;34m\u001b[0m\u001b[0m\n\u001b[0;32m----> 2\u001b[0;31m \u001b[0;32mfor\u001b[0m \u001b[0mi\u001b[0m\u001b[0;34m,\u001b[0m \u001b[0mseq\u001b[0m \u001b[0;32min\u001b[0m \u001b[0menumerate\u001b[0m\u001b[0;34m(\u001b[0m\u001b[0msequences\u001b[0m\u001b[0;34m)\u001b[0m\u001b[0;34m:\u001b[0m\u001b[0;34m\u001b[0m\u001b[0;34m\u001b[0m\u001b[0m\n\u001b[0m\u001b[1;32m      3\u001b[0m \u001b[0;34m\u001b[0m\u001b[0m\n\u001b[1;32m      4\u001b[0m     \u001b[0mprint\u001b[0m\u001b[0;34m(\u001b[0m\u001b[0;34mf'this is sequence number {i}'\u001b[0m\u001b[0;34m)\u001b[0m\u001b[0;34m\u001b[0m\u001b[0;34m\u001b[0m\u001b[0m\n\u001b[1;32m      5\u001b[0m     \u001b[0;32mfor\u001b[0m \u001b[0mj\u001b[0m\u001b[0;34m,\u001b[0m \u001b[0mbase\u001b[0m \u001b[0;32min\u001b[0m \u001b[0menumerate\u001b[0m\u001b[0;34m(\u001b[0m\u001b[0mseq\u001b[0m\u001b[0;34m)\u001b[0m\u001b[0;34m:\u001b[0m\u001b[0;34m\u001b[0m\u001b[0;34m\u001b[0m\u001b[0m\n",
            "\u001b[0;31mNameError\u001b[0m: name 'sequences' is not defined"
          ]
        }
      ]
    },
    {
      "cell_type": "markdown",
      "metadata": {
        "id": "-_0JpugX8u5T"
      },
      "source": [
        "## Reading from file\n",
        "\n",
        "We are currently on Google Servers so in order to access our data from our Drive folder, we need to mount it and authorise the server to have access."
      ]
    },
    {
      "cell_type": "code",
      "metadata": {
        "id": "gS1ay7558u5U",
        "colab": {
          "base_uri": "https://localhost:8080/",
          "height": 34
        },
        "outputId": "3092cd7b-097d-4b74-bdc4-04d8f00524be"
      },
      "source": [
        "from google.colab import drive\n",
        "drive.mount('/content/drive', force_remount=True)"
      ],
      "execution_count": null,
      "outputs": [
        {
          "output_type": "stream",
          "text": [
            "Mounted at /content/drive\n"
          ],
          "name": "stdout"
        }
      ]
    },
    {
      "cell_type": "markdown",
      "metadata": {
        "id": "poR24i1f8u5W"
      },
      "source": [
        "Files can be found in `_files/` in the CC Drive folder."
      ]
    },
    {
      "cell_type": "code",
      "metadata": {
        "id": "Pmg6gF3A8u5W",
        "colab": {
          "base_uri": "https://localhost:8080/",
          "height": 134
        },
        "outputId": "9f73a207-5522-468c-f9bc-e2f43eafc22d"
      },
      "source": [
        "# The open() function returns a file object, which has a read() method for reading the content of the file\n",
        "\n",
        "sequences_file = open('/content/drive/My Drive/Shared/Coding club/_data/05_sequences.txt')\n",
        "\n",
        "for line in sequences_file:\n",
        "    print(line.replace('\\n', ''))\n",
        "\n",
        "sequences_file.close()"
      ],
      "execution_count": null,
      "outputs": [
        {
          "output_type": "stream",
          "text": [
            "TAGGGACATCGTCGTGAAAACTTCTTCTCCTTGTCAGTGTTGAGGAACTTTGCAATG \n",
            "AACTTTGCAATGTTTGAAACATGGTTGCTATAAGTTTGATAAAGC\n",
            "CATACACACACCTATTGCCCTTCATTGGCCTCATTCATCAAGCGGCACGGTCCGGATG\n",
            "GTGAAAACTTCTTCTCCTTGTCAGTGTTGAGGAACTTTGCAATGT\n",
            "TCGTGACAAGATTCTCCTGCAAACACACATACACGTGATTGCGT\n",
            "GCCCTTCATTGGCCTCATTCATCAAGCGGCACGGTCCGGAT\n",
            "TCATT\n"
          ],
          "name": "stdout"
        }
      ]
    },
    {
      "cell_type": "code",
      "metadata": {
        "id": "3uPCqpnN8u5Y",
        "colab": {
          "base_uri": "https://localhost:8080/",
          "height": 134
        },
        "outputId": "55fee12d-f1f6-46ea-c4c6-8620edf95c24"
      },
      "source": [
        "# READING -----\n",
        "with open('/content/drive/My Drive/Shared/Coding club/_data/05_sequences.txt') as sequences_file:\n",
        "    # here\n",
        "    for line in sequences_file:\n",
        "        seq = line.strip()\n",
        "        print(seq)\n",
        "    # here the file is ---\n",
        "\n",
        "# WRITING -----\n",
        "with open('/content/drive/My Drive/Shared/Coding club/_data/05_sequences.x.txt', 'w') as sequences_file:\n",
        "    # here\n",
        "    for i in range(0, 100):\n",
        "        sequences_file.write(f'line {i}\\n')\n",
        "    # here the file is ---\n",
        "\n",
        "\n",
        "# file is closed \n",
        "# here file is already closed\n",
        "# no need to use sequence_file.close()\n"
      ],
      "execution_count": null,
      "outputs": [
        {
          "output_type": "stream",
          "text": [
            "TAGGGACATCGTCGTGAAAACTTCTTCTCCTTGTCAGTGTTGAGGAACTTTGCAATG\n",
            "AACTTTGCAATGTTTGAAACATGGTTGCTATAAGTTTGATAAAGC\n",
            "CATACACACACCTATTGCCCTTCATTGGCCTCATTCATCAAGCGGCACGGTCCGGATG\n",
            "GTGAAAACTTCTTCTCCTTGTCAGTGTTGAGGAACTTTGCAATGT\n",
            "TCGTGACAAGATTCTCCTGCAAACACACATACACGTGATTGCGT\n",
            "GCCCTTCATTGGCCTCATTCATCAAGCGGCACGGTCCGGAT\n",
            "TCATT\n"
          ],
          "name": "stdout"
        }
      ]
    },
    {
      "cell_type": "code",
      "metadata": {
        "id": "uicosbGV8u5Z"
      },
      "source": [
        "# Iterate over file"
      ],
      "execution_count": null,
      "outputs": []
    },
    {
      "cell_type": "code",
      "metadata": {
        "id": "Wb4EgTUE8u5b"
      },
      "source": [
        ""
      ],
      "execution_count": null,
      "outputs": []
    },
    {
      "cell_type": "markdown",
      "metadata": {
        "id": "bMcTD6Lq8u5c"
      },
      "source": [
        "## Homework\n",
        "- Read sequences from file `_data/05_guide_sequences.txt`\n",
        "- For each sequence calculate GC content\n",
        "- Print line numbers of the sequences and their GC content\n",
        "\n",
        "### Extra\n",
        "- Print only line numbers and %GC content for sequences that are at least 20 bp long and have more than 40% GC content\n",
        "- Help: https://www.w3schools.com/python/python_conditions.asp"
      ]
    },
    {
      "cell_type": "code",
      "metadata": {
        "id": "QqjLgn9b8u5c",
        "colab": {
          "base_uri": "https://localhost:8080/",
          "height": 131
        },
        "outputId": "631cfdc1-2e72-4066-cbfd-04985eaeadff"
      },
      "source": [
        "from google.colab import drive \n",
        "drive.mount('/content/drive')"
      ],
      "execution_count": null,
      "outputs": [
        {
          "output_type": "stream",
          "text": [
            "Go to this URL in a browser: https://accounts.google.com/o/oauth2/auth?client_id=947318989803-6bn6qk8qdgf4n4g3pfee6491hc0brc4i.apps.googleusercontent.com&redirect_uri=urn%3aietf%3awg%3aoauth%3a2.0%3aoob&response_type=code&scope=email%20https%3a%2f%2fwww.googleapis.com%2fauth%2fdocs.test%20https%3a%2f%2fwww.googleapis.com%2fauth%2fdrive%20https%3a%2f%2fwww.googleapis.com%2fauth%2fdrive.photos.readonly%20https%3a%2f%2fwww.googleapis.com%2fauth%2fpeopleapi.readonly\n",
            "\n",
            "Enter your authorization code:\n",
            "··········\n",
            "Mounted at /content/drive\n"
          ],
          "name": "stdout"
        }
      ]
    },
    {
      "cell_type": "code",
      "metadata": {
        "id": "0-AhUA4J8u5d",
        "colab": {
          "base_uri": "https://localhost:8080/",
          "height": 71
        },
        "outputId": "21bab8e7-fea9-47c8-80b0-2d7e893a885e"
      },
      "source": [
        "sequence_file = open('/content/drive/My Drive/Coding club/_data/05_guide_sequences.txt')\n",
        "print(sequence_file)\n",
        "\n",
        "sequence_file.read()\n",
        "\n"
      ],
      "execution_count": null,
      "outputs": [
        {
          "output_type": "stream",
          "text": [
            "<_io.TextIOWrapper name='/content/drive/My Drive/Coding club/_data/05_guide_sequences.txt' mode='r' encoding='UTF-8'>\n"
          ],
          "name": "stdout"
        },
        {
          "output_type": "execute_result",
          "data": {
            "text/plain": [
              "'GAGTACCGACTGGAGTCCATGTGAGT\\nCAAAGAACTTCTCGGCCTCCTTGAAT\\nATTTCCTGGGTCCGTTAGCATGGAAT\\nGACAACAGCCTAGAGTTTCTGGGGAT\\nAATCGGGTGACAGAAGACCAATGGAT\\nGTCGGTACTCCATCCCACAAAAGAAT\\nTCCAATTGGACTGATATAGGAAGGAT\\nGTATCAATGATGCTTTCCGTCTGAAT\\nAGCAAATCACCCAAAAAGAAT\\nGCTAATATCGATGGAGGCATAAGGAT\\nCCGTCTGAATGACAACAGCCTAGAGT\\nCATTTTCCAATGCTAGGGTCCAGGGT\\nATGGCAGAGTCCCAACAATCGTGAGT\\nCCGTTTTCCCAGAAT\\nGCAGACCAAAGCATCAAAGTGAGGAT\\nTGTGCTTTGGGATAACAGGTTTGAAT\\nTCCTTCCTATATCAGTCCAATTGGAT\\nCCCCAAAGGCGAGAGATAGTTGGGGT\\nCTGTCCAAAGGGAACTGTCAAAGAGT\\nTTGTGG\\nTCTCTGATCCCAGTGAAGATCAGGAT\\nCCTACAACATTTTCCAATGCTAGGGT\\nTCTTGAAACTGGAATTGGTAAAGGGT\\nGCAGCTGAGGCCATTATATGAAGAGT\\nATTGTCATCCTGATCTTCACTGGGAT\\nAGAAAACTGTAATTTACCGAATGAAT\\nGGGGAAATTCCCAAAGACCAGTGGAT\\nCCTATGGCAAAGTTGATGAAT\\nAGCAGTGAGTATTCTGGACAGTGAAT\\nGCAGCATATGCCATATCATACTGGAT\\nTGGTCTTCCTAATATGAGGAT\\nGTGACATTTTACTTTCATCTAAGGGT\\nTACCATTGTCTTCTTGAAAATCGGGT\\nTGATTTCCCCAACAGCTTCATGGAAT\\nGACAAAGTGCTTCTTGAAACTGGAAT\\nTTTGCTTGGTAAGAAGCCCCATG\\nGCTGCAGGCTCTTCAGCAAAATGGGT\\nTGTATCCACTACAAGAAATTCAGAAT\\nGCCTTTTCAACTTCAGTTCTAGGAAT\\nAACTGTAATTTACCGAATGAATGAGT\\nTCCATATGGCTGATTGTTTTTGGAGT\\nTCTAACGTAAATGGCAGAGT\\nTACATGTTAGAGAAGTGGAGGTGGAT\\nCAGCTCTTGGAGATAAAGCAGTGAGT\\nGCTAAGAAATGGTAATGAAGGAT\\nCTCTACAGGGAGGAGGATGTGCGAGT\\nGACTGCTTTCTGAACATTTCCTGGGT\\nTTTTTGGTTGCTGGGT\\nTAAGCATTCTTGTGGATTATCTGGGT\\nTTGTAACCCAGATAATCCACAAGAAT\\nCGAAGACAAGAGCAAACGGGT\\nTGAAGCTTGACTGTGAGATTCTGAAT\\nCCAGAACAAGAATTCTTTTGTGGGAT\\nTTCAAGTAATAAGCATTCTTGTGGAT\\nATTGTCACCTTTGTGCACATAAGGAT\\nTCTGAACATCATCAGTGTTTTGGAAT\\nATCAAAGTTCACTTGCTTCTTGGAAT\\nAAGAGAATGTCCAAAACATGGTGAGT\\nATGTTGTAGGAGCAAAGAACATGAAT\\nTCCCAGGCCTGGGATGCACAGAGAAT\\nATAACACCAATATTACTGAAGAGAAT\\nACAAGAATTCTTTTGTGGGATGGAGT\\nTAGATGGTTTGTATTTAGAAT\\nGTGGGAGATGAAGTAAGTCAATGAAT\\nAAACAGATTATGAGGACTATGGGGAT\\nCTTTCTTCTGAATTTGCAGTATGAAT\\nCAGTTTCTGTCCAGCTTCTGTAGAGT\\nCTGTTCTCTTTTCCCAGGCCTGGGAT\\nTTTTGTTTCTCTACAGGGAGGAGGAT\\nTTTTAAATATAGGTGATATGTGGGGT\\nCTTCCCCAGGTCCCAAGCTGTGGGAT\\nTCATCTTGTCCATTTTCATGCAGGAT\\nAATCAGCTTTTTGGGTGAGT\\nAGAGGAGACTATGAAGTAAATGGGGT\\nATTGTTTTTGGAGTTGTGATGGGAGT\\nCGAGTGGCTAATTTGAAACCAAGAAT\\nCATATCACCTATATTTAAAAAAGAAT\\nATGGAATTTTCCCAGAATC\\nTTTTTCATCCACTGGTCTTTGGGAAT\\nGAGATTCTGAATTTCTTGTAGTGGAT\\nTAGCAAAGGAGAAAATAATCCAGGAT\\nATCATCAGTGTTTTGGAATCCTGGAT\\nCATATTGCTACA\\nAGAAACATGGAACAGAGATGCGGGGT\\nCCTGGCTGAAAGACCAGAACAAGAAT\\nAAAAAATCAGATGATTCTTTTTGGGT\\nAACAAGAAAACTGTAATTTACCGAAT\\nCTGTTTTTTGCTTTTGCAAATAG\\nTTTCTGAAAGTAAAATAGAAA\\nAATTTTCTTTTCTGTCATTTCAGAAT'"
            ]
          },
          "metadata": {
            "tags": []
          },
          "execution_count": 12
        }
      ]
    },
    {
      "cell_type": "code",
      "metadata": {
        "id": "CzcxEUki8u5f",
        "colab": {
          "base_uri": "https://localhost:8080/",
          "height": 1000
        },
        "outputId": "4e164fb6-d9f1-46eb-9e73-cd786299cdfb"
      },
      "source": [
        "sequence_file = open('/content/drive/My Drive/Coding club/_data/05_guide_sequences.txt')\n",
        "print(sequence_file)\n",
        "for line in sequence_file:\n",
        "  print(line.replace('\\n',''))"
      ],
      "execution_count": null,
      "outputs": [
        {
          "output_type": "stream",
          "text": [
            "<_io.TextIOWrapper name='/content/drive/My Drive/Coding club/_data/05_guide_sequences.txt' mode='r' encoding='UTF-8'>\n",
            "GAGTACCGACTGGAGTCCATGTGAGT\n",
            "CAAAGAACTTCTCGGCCTCCTTGAAT\n",
            "ATTTCCTGGGTCCGTTAGCATGGAAT\n",
            "GACAACAGCCTAGAGTTTCTGGGGAT\n",
            "AATCGGGTGACAGAAGACCAATGGAT\n",
            "GTCGGTACTCCATCCCACAAAAGAAT\n",
            "TCCAATTGGACTGATATAGGAAGGAT\n",
            "GTATCAATGATGCTTTCCGTCTGAAT\n",
            "AGCAAATCACCCAAAAAGAAT\n",
            "GCTAATATCGATGGAGGCATAAGGAT\n",
            "CCGTCTGAATGACAACAGCCTAGAGT\n",
            "CATTTTCCAATGCTAGGGTCCAGGGT\n",
            "ATGGCAGAGTCCCAACAATCGTGAGT\n",
            "CCGTTTTCCCAGAAT\n",
            "GCAGACCAAAGCATCAAAGTGAGGAT\n",
            "TGTGCTTTGGGATAACAGGTTTGAAT\n",
            "TCCTTCCTATATCAGTCCAATTGGAT\n",
            "CCCCAAAGGCGAGAGATAGTTGGGGT\n",
            "CTGTCCAAAGGGAACTGTCAAAGAGT\n",
            "TTGTGG\n",
            "TCTCTGATCCCAGTGAAGATCAGGAT\n",
            "CCTACAACATTTTCCAATGCTAGGGT\n",
            "TCTTGAAACTGGAATTGGTAAAGGGT\n",
            "GCAGCTGAGGCCATTATATGAAGAGT\n",
            "ATTGTCATCCTGATCTTCACTGGGAT\n",
            "AGAAAACTGTAATTTACCGAATGAAT\n",
            "GGGGAAATTCCCAAAGACCAGTGGAT\n",
            "CCTATGGCAAAGTTGATGAAT\n",
            "AGCAGTGAGTATTCTGGACAGTGAAT\n",
            "GCAGCATATGCCATATCATACTGGAT\n",
            "TGGTCTTCCTAATATGAGGAT\n",
            "GTGACATTTTACTTTCATCTAAGGGT\n",
            "TACCATTGTCTTCTTGAAAATCGGGT\n",
            "TGATTTCCCCAACAGCTTCATGGAAT\n",
            "GACAAAGTGCTTCTTGAAACTGGAAT\n",
            "TTTGCTTGGTAAGAAGCCCCATG\n",
            "GCTGCAGGCTCTTCAGCAAAATGGGT\n",
            "TGTATCCACTACAAGAAATTCAGAAT\n",
            "GCCTTTTCAACTTCAGTTCTAGGAAT\n",
            "AACTGTAATTTACCGAATGAATGAGT\n",
            "TCCATATGGCTGATTGTTTTTGGAGT\n",
            "TCTAACGTAAATGGCAGAGT\n",
            "TACATGTTAGAGAAGTGGAGGTGGAT\n",
            "CAGCTCTTGGAGATAAAGCAGTGAGT\n",
            "GCTAAGAAATGGTAATGAAGGAT\n",
            "CTCTACAGGGAGGAGGATGTGCGAGT\n",
            "GACTGCTTTCTGAACATTTCCTGGGT\n",
            "TTTTTGGTTGCTGGGT\n",
            "TAAGCATTCTTGTGGATTATCTGGGT\n",
            "TTGTAACCCAGATAATCCACAAGAAT\n",
            "CGAAGACAAGAGCAAACGGGT\n",
            "TGAAGCTTGACTGTGAGATTCTGAAT\n",
            "CCAGAACAAGAATTCTTTTGTGGGAT\n",
            "TTCAAGTAATAAGCATTCTTGTGGAT\n",
            "ATTGTCACCTTTGTGCACATAAGGAT\n",
            "TCTGAACATCATCAGTGTTTTGGAAT\n",
            "ATCAAAGTTCACTTGCTTCTTGGAAT\n",
            "AAGAGAATGTCCAAAACATGGTGAGT\n",
            "ATGTTGTAGGAGCAAAGAACATGAAT\n",
            "TCCCAGGCCTGGGATGCACAGAGAAT\n",
            "ATAACACCAATATTACTGAAGAGAAT\n",
            "ACAAGAATTCTTTTGTGGGATGGAGT\n",
            "TAGATGGTTTGTATTTAGAAT\n",
            "GTGGGAGATGAAGTAAGTCAATGAAT\n",
            "AAACAGATTATGAGGACTATGGGGAT\n",
            "CTTTCTTCTGAATTTGCAGTATGAAT\n",
            "CAGTTTCTGTCCAGCTTCTGTAGAGT\n",
            "CTGTTCTCTTTTCCCAGGCCTGGGAT\n",
            "TTTTGTTTCTCTACAGGGAGGAGGAT\n",
            "TTTTAAATATAGGTGATATGTGGGGT\n",
            "CTTCCCCAGGTCCCAAGCTGTGGGAT\n",
            "TCATCTTGTCCATTTTCATGCAGGAT\n",
            "AATCAGCTTTTTGGGTGAGT\n",
            "AGAGGAGACTATGAAGTAAATGGGGT\n",
            "ATTGTTTTTGGAGTTGTGATGGGAGT\n",
            "CGAGTGGCTAATTTGAAACCAAGAAT\n",
            "CATATCACCTATATTTAAAAAAGAAT\n",
            "ATGGAATTTTCCCAGAATC\n",
            "TTTTTCATCCACTGGTCTTTGGGAAT\n",
            "GAGATTCTGAATTTCTTGTAGTGGAT\n",
            "TAGCAAAGGAGAAAATAATCCAGGAT\n",
            "ATCATCAGTGTTTTGGAATCCTGGAT\n",
            "CATATTGCTACA\n",
            "AGAAACATGGAACAGAGATGCGGGGT\n",
            "CCTGGCTGAAAGACCAGAACAAGAAT\n",
            "AAAAAATCAGATGATTCTTTTTGGGT\n",
            "AACAAGAAAACTGTAATTTACCGAAT\n",
            "CTGTTTTTTGCTTTTGCAAATAG\n",
            "TTTCTGAAAGTAAAATAGAAA\n",
            "AATTTTCTTTTCTGTCATTTCAGAAT\n"
          ],
          "name": "stdout"
        }
      ]
    },
    {
      "cell_type": "code",
      "metadata": {
        "id": "JYWJKF_w8u5h",
        "colab": {
          "base_uri": "https://localhost:8080/",
          "height": 1000
        },
        "outputId": "7d2af7c2-6020-444e-a411-2dbf5059330f"
      },
      "source": [
        "sequence_file = open('/content/drive/My Drive/Coding club/_data/05_guide_sequences.txt')\n",
        "\n",
        "\n",
        "for line in sequence_file:\n",
        "  print(((line.count('G') + line.count('C')) / len(line)) * 100) "
      ],
      "execution_count": null,
      "outputs": [
        {
          "output_type": "stream",
          "text": [
            "51.85185185185185\n",
            "44.44444444444444\n",
            "44.44444444444444\n",
            "48.148148148148145\n",
            "44.44444444444444\n",
            "44.44444444444444\n",
            "37.03703703703704\n",
            "37.03703703703704\n",
            "31.818181818181817\n",
            "40.74074074074074\n",
            "48.148148148148145\n",
            "48.148148148148145\n",
            "48.148148148148145\n",
            "43.75\n",
            "44.44444444444444\n",
            "37.03703703703704\n",
            "37.03703703703704\n",
            "55.55555555555556\n",
            "44.44444444444444\n",
            "42.857142857142854\n",
            "44.44444444444444\n",
            "40.74074074074074\n",
            "37.03703703703704\n",
            "44.44444444444444\n",
            "40.74074074074074\n",
            "25.925925925925924\n",
            "48.148148148148145\n",
            "36.36363636363637\n",
            "40.74074074074074\n",
            "40.74074074074074\n",
            "36.36363636363637\n",
            "33.33333333333333\n",
            "37.03703703703704\n",
            "40.74074074074074\n",
            "37.03703703703704\n",
            "45.83333333333333\n",
            "51.85185185185185\n",
            "29.629629629629626\n",
            "37.03703703703704\n",
            "29.629629629629626\n",
            "37.03703703703704\n",
            "38.095238095238095\n",
            "40.74074074074074\n",
            "44.44444444444444\n",
            "33.33333333333333\n",
            "55.55555555555556\n",
            "44.44444444444444\n",
            "41.17647058823529\n",
            "37.03703703703704\n",
            "33.33333333333333\n",
            "50.0\n",
            "37.03703703703704\n",
            "37.03703703703704\n",
            "29.629629629629626\n",
            "37.03703703703704\n",
            "33.33333333333333\n",
            "33.33333333333333\n",
            "37.03703703703704\n",
            "33.33333333333333\n",
            "55.55555555555556\n",
            "25.925925925925924\n",
            "37.03703703703704\n",
            "22.727272727272727\n",
            "37.03703703703704\n",
            "37.03703703703704\n",
            "29.629629629629626\n",
            "44.44444444444444\n",
            "51.85185185185185\n",
            "40.74074074074074\n",
            "29.629629629629626\n",
            "59.25925925925925\n",
            "37.03703703703704\n",
            "38.095238095238095\n",
            "40.74074074074074\n",
            "37.03703703703704\n",
            "37.03703703703704\n",
            "18.51851851851852\n",
            "35.0\n",
            "37.03703703703704\n",
            "33.33333333333333\n",
            "33.33333333333333\n",
            "37.03703703703704\n",
            "30.76923076923077\n",
            "48.148148148148145\n",
            "44.44444444444444\n",
            "25.925925925925924\n",
            "25.925925925925924\n",
            "29.166666666666668\n",
            "18.181818181818183\n",
            "23.076923076923077\n"
          ],
          "name": "stdout"
        }
      ]
    },
    {
      "cell_type": "code",
      "metadata": {
        "id": "pkFKvRsz8u5i",
        "colab": {
          "base_uri": "https://localhost:8080/",
          "height": 1000
        },
        "outputId": "bdbc7d7d-c88f-4b94-cadc-fc0d9a71483d"
      },
      "source": [
        "sequence_file = open('/content/drive/My Drive/Coding club/_data/05_guide_sequences.txt')\n",
        "\n",
        "for i, line in enumerate(sequence_file):\n",
        "  print(i, (line.count('G') + line.count('C')) / len(line) * 100)\n"
      ],
      "execution_count": null,
      "outputs": [
        {
          "output_type": "stream",
          "text": [
            "0 51.85185185185185\n",
            "1 44.44444444444444\n",
            "2 44.44444444444444\n",
            "3 48.148148148148145\n",
            "4 44.44444444444444\n",
            "5 44.44444444444444\n",
            "6 37.03703703703704\n",
            "7 37.03703703703704\n",
            "8 31.818181818181817\n",
            "9 40.74074074074074\n",
            "10 48.148148148148145\n",
            "11 48.148148148148145\n",
            "12 48.148148148148145\n",
            "13 43.75\n",
            "14 44.44444444444444\n",
            "15 37.03703703703704\n",
            "16 37.03703703703704\n",
            "17 55.55555555555556\n",
            "18 44.44444444444444\n",
            "19 42.857142857142854\n",
            "20 44.44444444444444\n",
            "21 40.74074074074074\n",
            "22 37.03703703703704\n",
            "23 44.44444444444444\n",
            "24 40.74074074074074\n",
            "25 25.925925925925924\n",
            "26 48.148148148148145\n",
            "27 36.36363636363637\n",
            "28 40.74074074074074\n",
            "29 40.74074074074074\n",
            "30 36.36363636363637\n",
            "31 33.33333333333333\n",
            "32 37.03703703703704\n",
            "33 40.74074074074074\n",
            "34 37.03703703703704\n",
            "35 45.83333333333333\n",
            "36 51.85185185185185\n",
            "37 29.629629629629626\n",
            "38 37.03703703703704\n",
            "39 29.629629629629626\n",
            "40 37.03703703703704\n",
            "41 38.095238095238095\n",
            "42 40.74074074074074\n",
            "43 44.44444444444444\n",
            "44 33.33333333333333\n",
            "45 55.55555555555556\n",
            "46 44.44444444444444\n",
            "47 41.17647058823529\n",
            "48 37.03703703703704\n",
            "49 33.33333333333333\n",
            "50 50.0\n",
            "51 37.03703703703704\n",
            "52 37.03703703703704\n",
            "53 29.629629629629626\n",
            "54 37.03703703703704\n",
            "55 33.33333333333333\n",
            "56 33.33333333333333\n",
            "57 37.03703703703704\n",
            "58 33.33333333333333\n",
            "59 55.55555555555556\n",
            "60 25.925925925925924\n",
            "61 37.03703703703704\n",
            "62 22.727272727272727\n",
            "63 37.03703703703704\n",
            "64 37.03703703703704\n",
            "65 29.629629629629626\n",
            "66 44.44444444444444\n",
            "67 51.85185185185185\n",
            "68 40.74074074074074\n",
            "69 29.629629629629626\n",
            "70 59.25925925925925\n",
            "71 37.03703703703704\n",
            "72 38.095238095238095\n",
            "73 40.74074074074074\n",
            "74 37.03703703703704\n",
            "75 37.03703703703704\n",
            "76 18.51851851851852\n",
            "77 35.0\n",
            "78 37.03703703703704\n",
            "79 33.33333333333333\n",
            "80 33.33333333333333\n",
            "81 37.03703703703704\n",
            "82 30.76923076923077\n",
            "83 48.148148148148145\n",
            "84 44.44444444444444\n",
            "85 25.925925925925924\n",
            "86 25.925925925925924\n",
            "87 29.166666666666668\n",
            "88 18.181818181818183\n",
            "89 23.076923076923077\n"
          ],
          "name": "stdout"
        }
      ]
    }
  ]
}